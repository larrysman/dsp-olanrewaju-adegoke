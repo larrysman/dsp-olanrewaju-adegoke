{
 "cells": [
  {
   "cell_type": "markdown",
   "id": "ca8a5b77",
   "metadata": {},
   "source": [
    "## Predicting the sales prices and practice feature engineering with Linear Regression\n",
    "\n",
    "**House Prices - Advanced Regression Techniques**\n",
    "\n",
    "##### data source: https://www.kaggle.com/competitions/house-prices-advanced-regression-techniques/data?select=train.csv\n",
    "\n",
    "`Adegoke Olanrewaju`"
   ]
  },
  {
   "cell_type": "markdown",
   "id": "18e68541",
   "metadata": {},
   "source": [
    "## Step 1"
   ]
  },
  {
   "cell_type": "code",
   "execution_count": 1,
   "id": "4f984b24",
   "metadata": {},
   "outputs": [],
   "source": [
    "# importing the libraries"
   ]
  },
  {
   "cell_type": "code",
   "execution_count": 2,
   "id": "48c8622e",
   "metadata": {},
   "outputs": [],
   "source": [
    "import numpy as np\n",
    "\n",
    "import pandas as pd\n",
    "\n",
    "import sklearn"
   ]
  },
  {
   "cell_type": "code",
   "execution_count": 3,
   "id": "20842256",
   "metadata": {},
   "outputs": [],
   "source": [
    "# loading the dataset from my local folder"
   ]
  },
  {
   "cell_type": "markdown",
   "id": "a680a8e1",
   "metadata": {},
   "source": [
    "dataset_master = pd.read_csv('/Users/OLALYTICS/dsp-olanrewaju-adegoke/data/train.csv')\n",
    "\n",
    "house_data_csv = dataset_master.copy()\n",
    "\n",
    "house_data_csv.head()\n"
   ]
  },
  {
   "cell_type": "code",
   "execution_count": 4,
   "id": "3d399330",
   "metadata": {},
   "outputs": [],
   "source": [
    "#house_data_csv.info()"
   ]
  },
  {
   "cell_type": "markdown",
   "id": "a45726a6",
   "metadata": {},
   "source": [
    "# defining the features and target of interest \n",
    "\n",
    "useful_data = house_data_csv[['MSZoning','HouseStyle','YearBuilt',\n",
    "                              'TotalBsmtSF','MiscVal','SalePrice']]\n",
    "\n",
    "# defining the categorical and continuous features\n",
    "\n",
    "catFeature = ['MSZoning','HouseStyle']\n",
    "\n",
    "contFeature = ['YearBuilt','TotalBsmtSF','MiscVal']\n",
    "\n",
    "# selecting the features and target\n",
    "\n",
    "features = useful_data[catFeature + contFeature]\n",
    "\n",
    "target = useful_data['SalePrice']\n",
    "\n"
   ]
  },
  {
   "cell_type": "markdown",
   "id": "edbab7ca",
   "metadata": {},
   "source": [
    "# splitting the dataset using train_test_split\n",
    "\n",
    "from sklearn.model_selection import train_test_split\n",
    "\n",
    "x_train, X_test, y_train, y_test = train_test_split(features, target, \n",
    "                            test_size = 0.3, random_state = 42)\n",
    "\n"
   ]
  },
  {
   "cell_type": "markdown",
   "id": "e2ad205f",
   "metadata": {},
   "source": [
    "#### Step 1 - No 7\n",
    "\n",
    "### Model buiding section"
   ]
  },
  {
   "cell_type": "markdown",
   "id": "4318d0ed",
   "metadata": {},
   "source": [
    "###### Model training"
   ]
  },
  {
   "cell_type": "code",
   "execution_count": 5,
   "id": "de9b1507",
   "metadata": {},
   "outputs": [],
   "source": [
    "# Dataset Loadinng and Splitting"
   ]
  },
  {
   "cell_type": "code",
   "execution_count": 6,
   "id": "dfa9443c",
   "metadata": {},
   "outputs": [
    {
     "data": {
      "text/html": [
       "<div>\n",
       "<style scoped>\n",
       "    .dataframe tbody tr th:only-of-type {\n",
       "        vertical-align: middle;\n",
       "    }\n",
       "\n",
       "    .dataframe tbody tr th {\n",
       "        vertical-align: top;\n",
       "    }\n",
       "\n",
       "    .dataframe thead th {\n",
       "        text-align: right;\n",
       "    }\n",
       "</style>\n",
       "<table border=\"1\" class=\"dataframe\">\n",
       "  <thead>\n",
       "    <tr style=\"text-align: right;\">\n",
       "      <th></th>\n",
       "      <th>Id</th>\n",
       "      <th>MSSubClass</th>\n",
       "      <th>MSZoning</th>\n",
       "      <th>LotFrontage</th>\n",
       "      <th>LotArea</th>\n",
       "      <th>Street</th>\n",
       "      <th>Alley</th>\n",
       "      <th>LotShape</th>\n",
       "      <th>LandContour</th>\n",
       "      <th>Utilities</th>\n",
       "      <th>...</th>\n",
       "      <th>PoolArea</th>\n",
       "      <th>PoolQC</th>\n",
       "      <th>Fence</th>\n",
       "      <th>MiscFeature</th>\n",
       "      <th>MiscVal</th>\n",
       "      <th>MoSold</th>\n",
       "      <th>YrSold</th>\n",
       "      <th>SaleType</th>\n",
       "      <th>SaleCondition</th>\n",
       "      <th>SalePrice</th>\n",
       "    </tr>\n",
       "  </thead>\n",
       "  <tbody>\n",
       "    <tr>\n",
       "      <th>0</th>\n",
       "      <td>1</td>\n",
       "      <td>60</td>\n",
       "      <td>RL</td>\n",
       "      <td>65.0</td>\n",
       "      <td>8450</td>\n",
       "      <td>Pave</td>\n",
       "      <td>NaN</td>\n",
       "      <td>Reg</td>\n",
       "      <td>Lvl</td>\n",
       "      <td>AllPub</td>\n",
       "      <td>...</td>\n",
       "      <td>0</td>\n",
       "      <td>NaN</td>\n",
       "      <td>NaN</td>\n",
       "      <td>NaN</td>\n",
       "      <td>0</td>\n",
       "      <td>2</td>\n",
       "      <td>2008</td>\n",
       "      <td>WD</td>\n",
       "      <td>Normal</td>\n",
       "      <td>208500</td>\n",
       "    </tr>\n",
       "    <tr>\n",
       "      <th>1</th>\n",
       "      <td>2</td>\n",
       "      <td>20</td>\n",
       "      <td>RL</td>\n",
       "      <td>80.0</td>\n",
       "      <td>9600</td>\n",
       "      <td>Pave</td>\n",
       "      <td>NaN</td>\n",
       "      <td>Reg</td>\n",
       "      <td>Lvl</td>\n",
       "      <td>AllPub</td>\n",
       "      <td>...</td>\n",
       "      <td>0</td>\n",
       "      <td>NaN</td>\n",
       "      <td>NaN</td>\n",
       "      <td>NaN</td>\n",
       "      <td>0</td>\n",
       "      <td>5</td>\n",
       "      <td>2007</td>\n",
       "      <td>WD</td>\n",
       "      <td>Normal</td>\n",
       "      <td>181500</td>\n",
       "    </tr>\n",
       "    <tr>\n",
       "      <th>2</th>\n",
       "      <td>3</td>\n",
       "      <td>60</td>\n",
       "      <td>RL</td>\n",
       "      <td>68.0</td>\n",
       "      <td>11250</td>\n",
       "      <td>Pave</td>\n",
       "      <td>NaN</td>\n",
       "      <td>IR1</td>\n",
       "      <td>Lvl</td>\n",
       "      <td>AllPub</td>\n",
       "      <td>...</td>\n",
       "      <td>0</td>\n",
       "      <td>NaN</td>\n",
       "      <td>NaN</td>\n",
       "      <td>NaN</td>\n",
       "      <td>0</td>\n",
       "      <td>9</td>\n",
       "      <td>2008</td>\n",
       "      <td>WD</td>\n",
       "      <td>Normal</td>\n",
       "      <td>223500</td>\n",
       "    </tr>\n",
       "    <tr>\n",
       "      <th>3</th>\n",
       "      <td>4</td>\n",
       "      <td>70</td>\n",
       "      <td>RL</td>\n",
       "      <td>60.0</td>\n",
       "      <td>9550</td>\n",
       "      <td>Pave</td>\n",
       "      <td>NaN</td>\n",
       "      <td>IR1</td>\n",
       "      <td>Lvl</td>\n",
       "      <td>AllPub</td>\n",
       "      <td>...</td>\n",
       "      <td>0</td>\n",
       "      <td>NaN</td>\n",
       "      <td>NaN</td>\n",
       "      <td>NaN</td>\n",
       "      <td>0</td>\n",
       "      <td>2</td>\n",
       "      <td>2006</td>\n",
       "      <td>WD</td>\n",
       "      <td>Abnorml</td>\n",
       "      <td>140000</td>\n",
       "    </tr>\n",
       "    <tr>\n",
       "      <th>4</th>\n",
       "      <td>5</td>\n",
       "      <td>60</td>\n",
       "      <td>RL</td>\n",
       "      <td>84.0</td>\n",
       "      <td>14260</td>\n",
       "      <td>Pave</td>\n",
       "      <td>NaN</td>\n",
       "      <td>IR1</td>\n",
       "      <td>Lvl</td>\n",
       "      <td>AllPub</td>\n",
       "      <td>...</td>\n",
       "      <td>0</td>\n",
       "      <td>NaN</td>\n",
       "      <td>NaN</td>\n",
       "      <td>NaN</td>\n",
       "      <td>0</td>\n",
       "      <td>12</td>\n",
       "      <td>2008</td>\n",
       "      <td>WD</td>\n",
       "      <td>Normal</td>\n",
       "      <td>250000</td>\n",
       "    </tr>\n",
       "  </tbody>\n",
       "</table>\n",
       "<p>5 rows × 81 columns</p>\n",
       "</div>"
      ],
      "text/plain": [
       "   Id  MSSubClass MSZoning  LotFrontage  LotArea Street Alley LotShape  \\\n",
       "0   1          60       RL         65.0     8450   Pave   NaN      Reg   \n",
       "1   2          20       RL         80.0     9600   Pave   NaN      Reg   \n",
       "2   3          60       RL         68.0    11250   Pave   NaN      IR1   \n",
       "3   4          70       RL         60.0     9550   Pave   NaN      IR1   \n",
       "4   5          60       RL         84.0    14260   Pave   NaN      IR1   \n",
       "\n",
       "  LandContour Utilities  ... PoolArea PoolQC Fence MiscFeature MiscVal MoSold  \\\n",
       "0         Lvl    AllPub  ...        0    NaN   NaN         NaN       0      2   \n",
       "1         Lvl    AllPub  ...        0    NaN   NaN         NaN       0      5   \n",
       "2         Lvl    AllPub  ...        0    NaN   NaN         NaN       0      9   \n",
       "3         Lvl    AllPub  ...        0    NaN   NaN         NaN       0      2   \n",
       "4         Lvl    AllPub  ...        0    NaN   NaN         NaN       0     12   \n",
       "\n",
       "  YrSold  SaleType  SaleCondition  SalePrice  \n",
       "0   2008        WD         Normal     208500  \n",
       "1   2007        WD         Normal     181500  \n",
       "2   2008        WD         Normal     223500  \n",
       "3   2006        WD        Abnorml     140000  \n",
       "4   2008        WD         Normal     250000  \n",
       "\n",
       "[5 rows x 81 columns]"
      ]
     },
     "execution_count": 6,
     "metadata": {},
     "output_type": "execute_result"
    }
   ],
   "source": [
    "# loading the csv\n",
    "\n",
    "train_csv_master = pd.read_csv('/Users/OLALYTICS/dsp-olanrewaju-adegoke/data/train.csv')\n",
    "\n",
    "train_csv = train_csv_master.copy()\n",
    "\n",
    "train_csv.head()\n"
   ]
  },
  {
   "cell_type": "code",
   "execution_count": 7,
   "id": "b4242641",
   "metadata": {},
   "outputs": [],
   "source": [
    "# selecting the relevant features of interest\n",
    "\n",
    "train_csv_use = train_csv[['MSZoning','HouseStyle','YearBuilt',\n",
    "                              'TotalBsmtSF','MiscVal','SalePrice']]"
   ]
  },
  {
   "cell_type": "code",
   "execution_count": 8,
   "id": "c009f8a2",
   "metadata": {},
   "outputs": [],
   "source": [
    "# selecting the categorical and continuous features\n",
    "\n",
    "categorical_features = ['MSZoning','HouseStyle']\n",
    "\n",
    "continuous_features = ['YearBuilt','TotalBsmtSF','MiscVal']\n",
    "\n",
    "# defining the features and target\n",
    "\n",
    "features = train_csv_use[categorical_features + continuous_features]\n",
    "\n",
    "target = train_csv_use['SalePrice']\n"
   ]
  },
  {
   "cell_type": "code",
   "execution_count": 9,
   "id": "7363f594",
   "metadata": {},
   "outputs": [],
   "source": [
    "# split the dataset into training and testing sets\n",
    "\n",
    "from sklearn.model_selection import train_test_split\n",
    "\n",
    "X_train, X_test, y_train, y_test = train_test_split(features, target, \n",
    "                                    test_size = 0.3, random_state = 42)\n"
   ]
  },
  {
   "cell_type": "code",
   "execution_count": null,
   "id": "6adbb571",
   "metadata": {},
   "outputs": [],
   "source": []
  },
  {
   "cell_type": "code",
   "execution_count": null,
   "id": "e5b1fa04",
   "metadata": {},
   "outputs": [],
   "source": []
  },
  {
   "cell_type": "code",
   "execution_count": 79,
   "id": "eb58a7cc",
   "metadata": {},
   "outputs": [],
   "source": [
    "#!ls '/Users/OLALYTICS/dsp-olanrewaju-adegoke/data/'"
   ]
  },
  {
   "cell_type": "code",
   "execution_count": 78,
   "id": "55839e76",
   "metadata": {},
   "outputs": [],
   "source": [
    "#combined_parq_df = pd.read_parquet(dataPATH + 'combined_parq_df.parquet')\n",
    "\n",
    "#combined_parq_df.head()"
   ]
  },
  {
   "cell_type": "code",
   "execution_count": null,
   "id": "64b3b494",
   "metadata": {},
   "outputs": [],
   "source": []
  },
  {
   "cell_type": "code",
   "execution_count": null,
   "id": "17ac217d",
   "metadata": {},
   "outputs": [],
   "source": []
  },
  {
   "cell_type": "markdown",
   "id": "cc5432a2",
   "metadata": {},
   "source": [
    "#### preprocessing and feature engineering of the train set"
   ]
  },
  {
   "cell_type": "code",
   "execution_count": 10,
   "id": "c238789b",
   "metadata": {},
   "outputs": [],
   "source": [
    "# OneHotEncoding for categorical variables\n",
    "\n",
    "from sklearn.preprocessing import OneHotEncoder\n",
    "\n",
    "# OneHotEncoding for X_train\n",
    "\n",
    "oneHot = OneHotEncoder(drop = 'first', sparse = False)\n",
    "\n",
    "oneHot.fit(X_train[categorical_features])\n",
    "\n",
    "X_train_cat = oneHot.transform(X_train[categorical_features])\n",
    "\n",
    "X_train_cat_DF = pd.DataFrame(X_train_cat, columns = oneHot.get_feature_names(categorical_features ))\n"
   ]
  },
  {
   "cell_type": "code",
   "execution_count": null,
   "id": "f6b48ffb",
   "metadata": {},
   "outputs": [],
   "source": []
  },
  {
   "cell_type": "markdown",
   "id": "0483aa32",
   "metadata": {},
   "source": [
    "##### Persisting the OneHotEncoders -Step 2 - No 3i"
   ]
  },
  {
   "cell_type": "code",
   "execution_count": 11,
   "id": "0b9b2be0",
   "metadata": {},
   "outputs": [],
   "source": [
    "# accessing the models folder from root\n",
    "\n",
    "!cd ../models"
   ]
  },
  {
   "cell_type": "code",
   "execution_count": 12,
   "id": "9f6e034c",
   "metadata": {},
   "outputs": [
    {
     "data": {
      "text/plain": [
       "['../models/oneHot.joblib']"
      ]
     },
     "execution_count": 12,
     "metadata": {},
     "output_type": "execute_result"
    }
   ],
   "source": [
    "import joblib\n",
    "\n",
    "joblib.dump(oneHot, '../models/oneHot.joblib')"
   ]
  },
  {
   "cell_type": "code",
   "execution_count": null,
   "id": "490116f8",
   "metadata": {},
   "outputs": [],
   "source": []
  },
  {
   "cell_type": "code",
   "execution_count": 13,
   "id": "c25d0182",
   "metadata": {},
   "outputs": [
    {
     "name": "stderr",
     "output_type": "stream",
     "text": [
      "/Users/OLALYTICS/anaconda3/envs/ml/lib/python3.9/site-packages/sklearn/utils/validation.py:571: FutureWarning: is_sparse is deprecated and will be removed in a future version. Check `isinstance(dtype, pd.SparseDtype)` instead.\n",
      "  array.dtypes.apply(is_sparse).any()):\n",
      "/Users/OLALYTICS/anaconda3/envs/ml/lib/python3.9/site-packages/sklearn/utils/validation.py:571: FutureWarning: is_sparse is deprecated and will be removed in a future version. Check `isinstance(dtype, pd.SparseDtype)` instead.\n",
      "  array.dtypes.apply(is_sparse).any()):\n"
     ]
    }
   ],
   "source": [
    "# StandardScaling for the continuous variables\n",
    "\n",
    "from sklearn.preprocessing import StandardScaler\n",
    "\n",
    "# Scaling for X_train\n",
    "\n",
    "stdScaler = StandardScaler()\n",
    "\n",
    "stdScaler.fit(X_train[continuous_features])\n",
    "\n",
    "X_train_cont = stdScaler.transform(X_train[continuous_features])\n",
    "\n",
    "X_train_cont_DF = pd.DataFrame(X_train_cont, columns = continuous_features)\n"
   ]
  },
  {
   "cell_type": "markdown",
   "id": "3a506ec9",
   "metadata": {},
   "source": [
    "##### Persisting the Scaler - Step 3 - No 3i"
   ]
  },
  {
   "cell_type": "code",
   "execution_count": 14,
   "id": "08058889",
   "metadata": {},
   "outputs": [],
   "source": [
    "!cd ../models"
   ]
  },
  {
   "cell_type": "code",
   "execution_count": 15,
   "id": "0561e3d1",
   "metadata": {},
   "outputs": [
    {
     "data": {
      "text/plain": [
       "['../models/stdScaler.joblib']"
      ]
     },
     "execution_count": 15,
     "metadata": {},
     "output_type": "execute_result"
    }
   ],
   "source": [
    "import joblib\n",
    "\n",
    "joblib.dump(stdScaler, '../models/stdScaler.joblib')\n"
   ]
  },
  {
   "cell_type": "code",
   "execution_count": null,
   "id": "6ab58b37",
   "metadata": {},
   "outputs": [],
   "source": []
  },
  {
   "cell_type": "code",
   "execution_count": null,
   "id": "d1f5219c",
   "metadata": {},
   "outputs": [],
   "source": []
  },
  {
   "cell_type": "code",
   "execution_count": null,
   "id": "2faa7ede",
   "metadata": {},
   "outputs": [],
   "source": []
  },
  {
   "cell_type": "code",
   "execution_count": null,
   "id": "ac1ebdd8",
   "metadata": {},
   "outputs": [],
   "source": []
  },
  {
   "cell_type": "code",
   "execution_count": null,
   "id": "5c2e644c",
   "metadata": {},
   "outputs": [],
   "source": []
  },
  {
   "cell_type": "code",
   "execution_count": null,
   "id": "b22daa1f",
   "metadata": {},
   "outputs": [],
   "source": []
  },
  {
   "cell_type": "markdown",
   "id": "e0819e9e",
   "metadata": {},
   "source": [
    "#### combining all the preprocessing dataset into a single train set"
   ]
  },
  {
   "cell_type": "code",
   "execution_count": 81,
   "id": "33fbf29c",
   "metadata": {},
   "outputs": [
    {
     "data": {
      "text/html": [
       "<div>\n",
       "<style scoped>\n",
       "    .dataframe tbody tr th:only-of-type {\n",
       "        vertical-align: middle;\n",
       "    }\n",
       "\n",
       "    .dataframe tbody tr th {\n",
       "        vertical-align: top;\n",
       "    }\n",
       "\n",
       "    .dataframe thead th {\n",
       "        text-align: right;\n",
       "    }\n",
       "</style>\n",
       "<table border=\"1\" class=\"dataframe\">\n",
       "  <thead>\n",
       "    <tr style=\"text-align: right;\">\n",
       "      <th></th>\n",
       "      <th>YearBuilt</th>\n",
       "      <th>TotalBsmtSF</th>\n",
       "      <th>MiscVal</th>\n",
       "      <th>MSZoning_FV</th>\n",
       "      <th>MSZoning_RH</th>\n",
       "      <th>MSZoning_RL</th>\n",
       "      <th>MSZoning_RM</th>\n",
       "      <th>HouseStyle_1.5Unf</th>\n",
       "      <th>HouseStyle_1Story</th>\n",
       "      <th>HouseStyle_2.5Fin</th>\n",
       "      <th>HouseStyle_2.5Unf</th>\n",
       "      <th>HouseStyle_2Story</th>\n",
       "      <th>HouseStyle_SFoyer</th>\n",
       "      <th>HouseStyle_SLvl</th>\n",
       "    </tr>\n",
       "  </thead>\n",
       "  <tbody>\n",
       "    <tr>\n",
       "      <th>0</th>\n",
       "      <td>-0.032378</td>\n",
       "      <td>0.546130</td>\n",
       "      <td>-0.122987</td>\n",
       "      <td>0.0</td>\n",
       "      <td>0.0</td>\n",
       "      <td>1.0</td>\n",
       "      <td>0.0</td>\n",
       "      <td>0.0</td>\n",
       "      <td>1.0</td>\n",
       "      <td>0.0</td>\n",
       "      <td>0.0</td>\n",
       "      <td>0.0</td>\n",
       "      <td>0.0</td>\n",
       "      <td>0.0</td>\n",
       "    </tr>\n",
       "    <tr>\n",
       "      <th>1</th>\n",
       "      <td>1.106434</td>\n",
       "      <td>-1.146608</td>\n",
       "      <td>-0.122987</td>\n",
       "      <td>0.0</td>\n",
       "      <td>0.0</td>\n",
       "      <td>0.0</td>\n",
       "      <td>1.0</td>\n",
       "      <td>0.0</td>\n",
       "      <td>0.0</td>\n",
       "      <td>0.0</td>\n",
       "      <td>0.0</td>\n",
       "      <td>0.0</td>\n",
       "      <td>0.0</td>\n",
       "      <td>1.0</td>\n",
       "    </tr>\n",
       "    <tr>\n",
       "      <th>2</th>\n",
       "      <td>1.236584</td>\n",
       "      <td>-0.679260</td>\n",
       "      <td>-0.122987</td>\n",
       "      <td>1.0</td>\n",
       "      <td>0.0</td>\n",
       "      <td>0.0</td>\n",
       "      <td>0.0</td>\n",
       "      <td>0.0</td>\n",
       "      <td>0.0</td>\n",
       "      <td>0.0</td>\n",
       "      <td>0.0</td>\n",
       "      <td>1.0</td>\n",
       "      <td>0.0</td>\n",
       "      <td>0.0</td>\n",
       "    </tr>\n",
       "    <tr>\n",
       "      <th>3</th>\n",
       "      <td>1.138972</td>\n",
       "      <td>1.890034</td>\n",
       "      <td>-0.122987</td>\n",
       "      <td>0.0</td>\n",
       "      <td>0.0</td>\n",
       "      <td>1.0</td>\n",
       "      <td>0.0</td>\n",
       "      <td>0.0</td>\n",
       "      <td>1.0</td>\n",
       "      <td>0.0</td>\n",
       "      <td>0.0</td>\n",
       "      <td>0.0</td>\n",
       "      <td>0.0</td>\n",
       "      <td>0.0</td>\n",
       "    </tr>\n",
       "    <tr>\n",
       "      <th>4</th>\n",
       "      <td>0.813597</td>\n",
       "      <td>-0.583107</td>\n",
       "      <td>-0.122987</td>\n",
       "      <td>0.0</td>\n",
       "      <td>0.0</td>\n",
       "      <td>1.0</td>\n",
       "      <td>0.0</td>\n",
       "      <td>0.0</td>\n",
       "      <td>0.0</td>\n",
       "      <td>0.0</td>\n",
       "      <td>0.0</td>\n",
       "      <td>1.0</td>\n",
       "      <td>0.0</td>\n",
       "      <td>0.0</td>\n",
       "    </tr>\n",
       "  </tbody>\n",
       "</table>\n",
       "</div>"
      ],
      "text/plain": [
       "   YearBuilt  TotalBsmtSF   MiscVal  MSZoning_FV  MSZoning_RH  MSZoning_RL  \\\n",
       "0  -0.032378     0.546130 -0.122987          0.0          0.0          1.0   \n",
       "1   1.106434    -1.146608 -0.122987          0.0          0.0          0.0   \n",
       "2   1.236584    -0.679260 -0.122987          1.0          0.0          0.0   \n",
       "3   1.138972     1.890034 -0.122987          0.0          0.0          1.0   \n",
       "4   0.813597    -0.583107 -0.122987          0.0          0.0          1.0   \n",
       "\n",
       "   MSZoning_RM  HouseStyle_1.5Unf  HouseStyle_1Story  HouseStyle_2.5Fin  \\\n",
       "0          0.0                0.0                1.0                0.0   \n",
       "1          1.0                0.0                0.0                0.0   \n",
       "2          0.0                0.0                0.0                0.0   \n",
       "3          0.0                0.0                1.0                0.0   \n",
       "4          0.0                0.0                0.0                0.0   \n",
       "\n",
       "   HouseStyle_2.5Unf  HouseStyle_2Story  HouseStyle_SFoyer  HouseStyle_SLvl  \n",
       "0                0.0                0.0                0.0              0.0  \n",
       "1                0.0                0.0                0.0              1.0  \n",
       "2                0.0                1.0                0.0              0.0  \n",
       "3                0.0                0.0                0.0              0.0  \n",
       "4                0.0                1.0                0.0              0.0  "
      ]
     },
     "execution_count": 81,
     "metadata": {},
     "output_type": "execute_result"
    }
   ],
   "source": [
    "X_train = pd.concat([X_train_cont_DF, X_train_cat_DF],axis = 1)\n",
    "\n",
    "X_train.head()"
   ]
  },
  {
   "cell_type": "code",
   "execution_count": null,
   "id": "018458b1",
   "metadata": {},
   "outputs": [],
   "source": [
    "# saving the X_train locally for verification"
   ]
  },
  {
   "cell_type": "code",
   "execution_count": 82,
   "id": "2693b9e4",
   "metadata": {},
   "outputs": [],
   "source": [
    "dataPATH = '/Users/OLALYTICS/dsp-olanrewaju-adegoke/data/'"
   ]
  },
  {
   "cell_type": "code",
   "execution_count": 83,
   "id": "d89b193f",
   "metadata": {},
   "outputs": [],
   "source": [
    "# saving the X_train_dataset into parquet\n",
    "\n",
    "X_train.to_parquet(dataPATH + 'X_train_df.parquet', index = False)"
   ]
  },
  {
   "cell_type": "code",
   "execution_count": 84,
   "id": "f9f01faa",
   "metadata": {},
   "outputs": [
    {
     "data": {
      "text/html": [
       "<div>\n",
       "<style scoped>\n",
       "    .dataframe tbody tr th:only-of-type {\n",
       "        vertical-align: middle;\n",
       "    }\n",
       "\n",
       "    .dataframe tbody tr th {\n",
       "        vertical-align: top;\n",
       "    }\n",
       "\n",
       "    .dataframe thead th {\n",
       "        text-align: right;\n",
       "    }\n",
       "</style>\n",
       "<table border=\"1\" class=\"dataframe\">\n",
       "  <thead>\n",
       "    <tr style=\"text-align: right;\">\n",
       "      <th></th>\n",
       "      <th>YearBuilt</th>\n",
       "      <th>TotalBsmtSF</th>\n",
       "      <th>MiscVal</th>\n",
       "      <th>MSZoning_FV</th>\n",
       "      <th>MSZoning_RH</th>\n",
       "      <th>MSZoning_RL</th>\n",
       "      <th>MSZoning_RM</th>\n",
       "      <th>HouseStyle_1.5Unf</th>\n",
       "      <th>HouseStyle_1Story</th>\n",
       "      <th>HouseStyle_2.5Fin</th>\n",
       "      <th>HouseStyle_2.5Unf</th>\n",
       "      <th>HouseStyle_2Story</th>\n",
       "      <th>HouseStyle_SFoyer</th>\n",
       "      <th>HouseStyle_SLvl</th>\n",
       "    </tr>\n",
       "  </thead>\n",
       "  <tbody>\n",
       "    <tr>\n",
       "      <th>0</th>\n",
       "      <td>-0.032378</td>\n",
       "      <td>0.546130</td>\n",
       "      <td>-0.122987</td>\n",
       "      <td>0.0</td>\n",
       "      <td>0.0</td>\n",
       "      <td>1.0</td>\n",
       "      <td>0.0</td>\n",
       "      <td>0.0</td>\n",
       "      <td>1.0</td>\n",
       "      <td>0.0</td>\n",
       "      <td>0.0</td>\n",
       "      <td>0.0</td>\n",
       "      <td>0.0</td>\n",
       "      <td>0.0</td>\n",
       "    </tr>\n",
       "    <tr>\n",
       "      <th>1</th>\n",
       "      <td>1.106434</td>\n",
       "      <td>-1.146608</td>\n",
       "      <td>-0.122987</td>\n",
       "      <td>0.0</td>\n",
       "      <td>0.0</td>\n",
       "      <td>0.0</td>\n",
       "      <td>1.0</td>\n",
       "      <td>0.0</td>\n",
       "      <td>0.0</td>\n",
       "      <td>0.0</td>\n",
       "      <td>0.0</td>\n",
       "      <td>0.0</td>\n",
       "      <td>0.0</td>\n",
       "      <td>1.0</td>\n",
       "    </tr>\n",
       "    <tr>\n",
       "      <th>2</th>\n",
       "      <td>1.236584</td>\n",
       "      <td>-0.679260</td>\n",
       "      <td>-0.122987</td>\n",
       "      <td>1.0</td>\n",
       "      <td>0.0</td>\n",
       "      <td>0.0</td>\n",
       "      <td>0.0</td>\n",
       "      <td>0.0</td>\n",
       "      <td>0.0</td>\n",
       "      <td>0.0</td>\n",
       "      <td>0.0</td>\n",
       "      <td>1.0</td>\n",
       "      <td>0.0</td>\n",
       "      <td>0.0</td>\n",
       "    </tr>\n",
       "    <tr>\n",
       "      <th>3</th>\n",
       "      <td>1.138972</td>\n",
       "      <td>1.890034</td>\n",
       "      <td>-0.122987</td>\n",
       "      <td>0.0</td>\n",
       "      <td>0.0</td>\n",
       "      <td>1.0</td>\n",
       "      <td>0.0</td>\n",
       "      <td>0.0</td>\n",
       "      <td>1.0</td>\n",
       "      <td>0.0</td>\n",
       "      <td>0.0</td>\n",
       "      <td>0.0</td>\n",
       "      <td>0.0</td>\n",
       "      <td>0.0</td>\n",
       "    </tr>\n",
       "    <tr>\n",
       "      <th>4</th>\n",
       "      <td>0.813597</td>\n",
       "      <td>-0.583107</td>\n",
       "      <td>-0.122987</td>\n",
       "      <td>0.0</td>\n",
       "      <td>0.0</td>\n",
       "      <td>1.0</td>\n",
       "      <td>0.0</td>\n",
       "      <td>0.0</td>\n",
       "      <td>0.0</td>\n",
       "      <td>0.0</td>\n",
       "      <td>0.0</td>\n",
       "      <td>1.0</td>\n",
       "      <td>0.0</td>\n",
       "      <td>0.0</td>\n",
       "    </tr>\n",
       "  </tbody>\n",
       "</table>\n",
       "</div>"
      ],
      "text/plain": [
       "   YearBuilt  TotalBsmtSF   MiscVal  MSZoning_FV  MSZoning_RH  MSZoning_RL  \\\n",
       "0  -0.032378     0.546130 -0.122987          0.0          0.0          1.0   \n",
       "1   1.106434    -1.146608 -0.122987          0.0          0.0          0.0   \n",
       "2   1.236584    -0.679260 -0.122987          1.0          0.0          0.0   \n",
       "3   1.138972     1.890034 -0.122987          0.0          0.0          1.0   \n",
       "4   0.813597    -0.583107 -0.122987          0.0          0.0          1.0   \n",
       "\n",
       "   MSZoning_RM  HouseStyle_1.5Unf  HouseStyle_1Story  HouseStyle_2.5Fin  \\\n",
       "0          0.0                0.0                1.0                0.0   \n",
       "1          1.0                0.0                0.0                0.0   \n",
       "2          0.0                0.0                0.0                0.0   \n",
       "3          0.0                0.0                1.0                0.0   \n",
       "4          0.0                0.0                0.0                0.0   \n",
       "\n",
       "   HouseStyle_2.5Unf  HouseStyle_2Story  HouseStyle_SFoyer  HouseStyle_SLvl  \n",
       "0                0.0                0.0                0.0              0.0  \n",
       "1                0.0                0.0                0.0              1.0  \n",
       "2                0.0                1.0                0.0              0.0  \n",
       "3                0.0                0.0                0.0              0.0  \n",
       "4                0.0                1.0                0.0              0.0  "
      ]
     },
     "execution_count": 84,
     "metadata": {},
     "output_type": "execute_result"
    }
   ],
   "source": [
    "# reading data from the parquet\n",
    "\n",
    "X_train_df = pd.read_parquet(dataPATH + 'X_train_df.parquet')\n",
    "\n",
    "X_train_df.head()"
   ]
  },
  {
   "cell_type": "code",
   "execution_count": 91,
   "id": "abb47384",
   "metadata": {},
   "outputs": [],
   "source": [
    "# resetting the index of both dataset\n",
    "\n",
    "X_train_df = X_train_df.reset_index(drop = True)\n",
    "\n",
    "X_train = X_train.reset_index(drop = True)       # The X_train here will be the output of the refactoring dataset"
   ]
  },
  {
   "cell_type": "code",
   "execution_count": 95,
   "id": "c7ae0695",
   "metadata": {},
   "outputs": [],
   "source": [
    "# automatic testing of the code to be sure the DataFrame output didn't change regardless of refactoring\n",
    "\n",
    "pd.testing.assert_frame_equal(X_train_df, X_train)"
   ]
  },
  {
   "cell_type": "code",
   "execution_count": 103,
   "id": "5581e6aa",
   "metadata": {},
   "outputs": [
    {
     "name": "stdout",
     "output_type": "stream",
     "text": [
      "The DataFrame matches\n"
     ]
    }
   ],
   "source": [
    "# not necessary\n",
    "\n",
    "if 'YearBuilt' in X_train_df.columns:\n",
    "    X_train_df = X_train.drop(columns=['TotalBsmtSF'])\n",
    "    print('The DataFrame doesnot match')\n",
    "else:\n",
    "    print('The DataFrame matches')"
   ]
  },
  {
   "cell_type": "code",
   "execution_count": null,
   "id": "06f3c1ff",
   "metadata": {},
   "outputs": [],
   "source": []
  },
  {
   "cell_type": "markdown",
   "id": "a20bc0b1",
   "metadata": {},
   "source": [
    "##### model training"
   ]
  },
  {
   "cell_type": "code",
   "execution_count": 17,
   "id": "01e0188c",
   "metadata": {},
   "outputs": [
    {
     "name": "stderr",
     "output_type": "stream",
     "text": [
      "/Users/OLALYTICS/anaconda3/envs/ml/lib/python3.9/site-packages/sklearn/utils/validation.py:571: FutureWarning: is_sparse is deprecated and will be removed in a future version. Check `isinstance(dtype, pd.SparseDtype)` instead.\n",
      "  array.dtypes.apply(is_sparse).any()):\n"
     ]
    },
    {
     "data": {
      "text/plain": [
       "LinearRegression()"
      ]
     },
     "execution_count": 17,
     "metadata": {},
     "output_type": "execute_result"
    }
   ],
   "source": [
    "# fit tthe model using LinearRegression\n",
    "\n",
    "from sklearn.linear_model import LinearRegression\n",
    "\n",
    "LinReg = LinearRegression()\n",
    "\n",
    "LinReg.fit(X_train, y_train)\n"
   ]
  },
  {
   "cell_type": "markdown",
   "id": "4d40410d",
   "metadata": {},
   "source": [
    "##### Persisting the trained model - step 2 - No 2i"
   ]
  },
  {
   "cell_type": "code",
   "execution_count": 18,
   "id": "1b699ff9",
   "metadata": {},
   "outputs": [],
   "source": [
    "# switching to the models directory\n",
    "\n",
    "!cd ../models"
   ]
  },
  {
   "cell_type": "code",
   "execution_count": 19,
   "id": "903fa055",
   "metadata": {},
   "outputs": [
    {
     "name": "stdout",
     "output_type": "stream",
     "text": [
      "/Users/OLALYTICS/dsp-olanrewaju-adegoke/notebooks\r\n"
     ]
    }
   ],
   "source": [
    "!pwd"
   ]
  },
  {
   "cell_type": "code",
   "execution_count": 20,
   "id": "4c37aaad",
   "metadata": {},
   "outputs": [
    {
     "name": "stdout",
     "output_type": "stream",
     "text": [
      "house_prices_modeling.ipynb\r\n",
      "model-industrialization-1-Copy1.ipynb\r\n",
      "model-industrialization-1-before code refactoring.ipynb\r\n",
      "model-industrialization-1.ipynb\r\n",
      "my-1st-notebook.ipynb\r\n"
     ]
    }
   ],
   "source": [
    "!ls"
   ]
  },
  {
   "cell_type": "code",
   "execution_count": null,
   "id": "7cc3394d",
   "metadata": {},
   "outputs": [],
   "source": []
  },
  {
   "cell_type": "code",
   "execution_count": 21,
   "id": "9fcd749f",
   "metadata": {},
   "outputs": [],
   "source": [
    "# saving the LinearRegression to the models folder"
   ]
  },
  {
   "cell_type": "code",
   "execution_count": 22,
   "id": "7546f38b",
   "metadata": {},
   "outputs": [
    {
     "data": {
      "text/plain": [
       "['../models/LinReg.joblib']"
      ]
     },
     "execution_count": 22,
     "metadata": {},
     "output_type": "execute_result"
    }
   ],
   "source": [
    "import joblib\n",
    "\n",
    "# my_model is : LinReg\n",
    "\n",
    "# my_folder name is : models\n",
    "\n",
    "# joblib the model\n",
    "\n",
    "joblib.dump(LinReg, '../models/LinReg.joblib')\n"
   ]
  },
  {
   "cell_type": "markdown",
   "id": "ec981cb8",
   "metadata": {},
   "source": [
    "### Model evaluation for the Splitted X_test"
   ]
  },
  {
   "cell_type": "markdown",
   "id": "603b1c09",
   "metadata": {},
   "source": [
    "###### preprocessing of the X_test"
   ]
  },
  {
   "cell_type": "markdown",
   "id": "dd0aa6c2",
   "metadata": {},
   "source": [
    "# OneHotEncoding for categorical variables\n",
    "\n",
    "from sklearn.preprocessing import OneHotEncoder\n",
    "\n",
    "oneHot = OneHotEncoder(drop = 'first', sparse = False)\n",
    "\n",
    "# OneHotEncoding for the test set\n",
    "\n",
    "oneHot.fit(X_test[categorical_features])\n",
    "\n",
    "X_test_cat = oneHot.transform(X_test[categorical_features])\n",
    "\n",
    "X_test_cat_DF = pd.DataFrame(X_test_cat, columns = oneHot.get_feature_names(categorical_features ))\n"
   ]
  },
  {
   "cell_type": "code",
   "execution_count": 23,
   "id": "34b32ebe",
   "metadata": {},
   "outputs": [],
   "source": [
    "import joblib\n",
    "\n",
    "loaded_oneHot = joblib.load('../models/oneHot.joblib')"
   ]
  },
  {
   "cell_type": "code",
   "execution_count": 24,
   "id": "05eba1f2",
   "metadata": {},
   "outputs": [],
   "source": [
    "X_test_cat = loaded_oneHot.transform(X_test[categorical_features])\n",
    "\n",
    "X_test_cat_DF = pd.DataFrame(X_test_cat, columns = loaded_oneHot.get_feature_names(categorical_features ))\n"
   ]
  },
  {
   "cell_type": "code",
   "execution_count": null,
   "id": "2e00ad69",
   "metadata": {},
   "outputs": [],
   "source": []
  },
  {
   "cell_type": "code",
   "execution_count": null,
   "id": "78316c55",
   "metadata": {},
   "outputs": [],
   "source": []
  },
  {
   "cell_type": "markdown",
   "id": "27a9b232",
   "metadata": {},
   "source": [
    "# StandardScaling for the continuous variables\n",
    "\n",
    "from sklearn.preprocessing import StandardScaler\n",
    "\n",
    "# StandardScaling for the test set\n",
    "\n",
    "stdScaler = StandardScaler()\n",
    "\n",
    "stdScaler.fit(X_test[continuous_features])\n",
    "\n",
    "X_test_cont = stdScaler.transform(X_test[continuous_features])\n",
    "\n",
    "X_test_cont_DF = pd.DataFrame(X_test_cont, columns = continuous_features)\n",
    "\n"
   ]
  },
  {
   "cell_type": "code",
   "execution_count": 25,
   "id": "0733ab4b",
   "metadata": {},
   "outputs": [],
   "source": [
    "import joblib\n",
    "\n",
    "loaded_stdScaler = joblib.load('../models/stdScaler.joblib')"
   ]
  },
  {
   "cell_type": "code",
   "execution_count": 26,
   "id": "3f46dd78",
   "metadata": {},
   "outputs": [
    {
     "name": "stderr",
     "output_type": "stream",
     "text": [
      "/Users/OLALYTICS/anaconda3/envs/ml/lib/python3.9/site-packages/sklearn/utils/validation.py:571: FutureWarning: is_sparse is deprecated and will be removed in a future version. Check `isinstance(dtype, pd.SparseDtype)` instead.\n",
      "  array.dtypes.apply(is_sparse).any()):\n"
     ]
    }
   ],
   "source": [
    "X_test_cont = loaded_stdScaler.transform(X_test[continuous_features])\n",
    "\n",
    "X_test_cont_DF = pd.DataFrame(X_test_cont, columns = continuous_features)\n"
   ]
  },
  {
   "cell_type": "code",
   "execution_count": null,
   "id": "6faa4186",
   "metadata": {},
   "outputs": [],
   "source": []
  },
  {
   "cell_type": "code",
   "execution_count": null,
   "id": "0b696788",
   "metadata": {},
   "outputs": [],
   "source": []
  },
  {
   "cell_type": "code",
   "execution_count": 27,
   "id": "899a01ef",
   "metadata": {
    "scrolled": true
   },
   "outputs": [
    {
     "data": {
      "text/html": [
       "<div>\n",
       "<style scoped>\n",
       "    .dataframe tbody tr th:only-of-type {\n",
       "        vertical-align: middle;\n",
       "    }\n",
       "\n",
       "    .dataframe tbody tr th {\n",
       "        vertical-align: top;\n",
       "    }\n",
       "\n",
       "    .dataframe thead th {\n",
       "        text-align: right;\n",
       "    }\n",
       "</style>\n",
       "<table border=\"1\" class=\"dataframe\">\n",
       "  <thead>\n",
       "    <tr style=\"text-align: right;\">\n",
       "      <th></th>\n",
       "      <th>YearBuilt</th>\n",
       "      <th>TotalBsmtSF</th>\n",
       "      <th>MiscVal</th>\n",
       "      <th>MSZoning_FV</th>\n",
       "      <th>MSZoning_RH</th>\n",
       "      <th>MSZoning_RL</th>\n",
       "      <th>MSZoning_RM</th>\n",
       "      <th>HouseStyle_1.5Unf</th>\n",
       "      <th>HouseStyle_1Story</th>\n",
       "      <th>HouseStyle_2.5Fin</th>\n",
       "      <th>HouseStyle_2.5Unf</th>\n",
       "      <th>HouseStyle_2Story</th>\n",
       "      <th>HouseStyle_SFoyer</th>\n",
       "      <th>HouseStyle_SLvl</th>\n",
       "    </tr>\n",
       "  </thead>\n",
       "  <tbody>\n",
       "    <tr>\n",
       "      <th>0</th>\n",
       "      <td>-0.260141</td>\n",
       "      <td>-0.001718</td>\n",
       "      <td>-0.122987</td>\n",
       "      <td>0.0</td>\n",
       "      <td>0.0</td>\n",
       "      <td>1.0</td>\n",
       "      <td>0.0</td>\n",
       "      <td>0.0</td>\n",
       "      <td>1.0</td>\n",
       "      <td>0.0</td>\n",
       "      <td>0.0</td>\n",
       "      <td>0.0</td>\n",
       "      <td>0.0</td>\n",
       "      <td>0.0</td>\n",
       "    </tr>\n",
       "    <tr>\n",
       "      <th>1</th>\n",
       "      <td>0.748522</td>\n",
       "      <td>0.901672</td>\n",
       "      <td>-0.122987</td>\n",
       "      <td>0.0</td>\n",
       "      <td>0.0</td>\n",
       "      <td>1.0</td>\n",
       "      <td>0.0</td>\n",
       "      <td>0.0</td>\n",
       "      <td>0.0</td>\n",
       "      <td>0.0</td>\n",
       "      <td>0.0</td>\n",
       "      <td>1.0</td>\n",
       "      <td>0.0</td>\n",
       "      <td>0.0</td>\n",
       "    </tr>\n",
       "    <tr>\n",
       "      <th>2</th>\n",
       "      <td>-1.431491</td>\n",
       "      <td>-0.115759</td>\n",
       "      <td>-0.122987</td>\n",
       "      <td>0.0</td>\n",
       "      <td>0.0</td>\n",
       "      <td>0.0</td>\n",
       "      <td>1.0</td>\n",
       "      <td>0.0</td>\n",
       "      <td>1.0</td>\n",
       "      <td>0.0</td>\n",
       "      <td>0.0</td>\n",
       "      <td>0.0</td>\n",
       "      <td>0.0</td>\n",
       "      <td>0.0</td>\n",
       "    </tr>\n",
       "    <tr>\n",
       "      <th>3</th>\n",
       "      <td>-0.780741</td>\n",
       "      <td>-0.124704</td>\n",
       "      <td>-0.122987</td>\n",
       "      <td>0.0</td>\n",
       "      <td>0.0</td>\n",
       "      <td>0.0</td>\n",
       "      <td>1.0</td>\n",
       "      <td>0.0</td>\n",
       "      <td>0.0</td>\n",
       "      <td>0.0</td>\n",
       "      <td>0.0</td>\n",
       "      <td>0.0</td>\n",
       "      <td>0.0</td>\n",
       "      <td>0.0</td>\n",
       "    </tr>\n",
       "    <tr>\n",
       "      <th>4</th>\n",
       "      <td>1.171509</td>\n",
       "      <td>1.252742</td>\n",
       "      <td>-0.122987</td>\n",
       "      <td>0.0</td>\n",
       "      <td>0.0</td>\n",
       "      <td>1.0</td>\n",
       "      <td>0.0</td>\n",
       "      <td>0.0</td>\n",
       "      <td>1.0</td>\n",
       "      <td>0.0</td>\n",
       "      <td>0.0</td>\n",
       "      <td>0.0</td>\n",
       "      <td>0.0</td>\n",
       "      <td>0.0</td>\n",
       "    </tr>\n",
       "  </tbody>\n",
       "</table>\n",
       "</div>"
      ],
      "text/plain": [
       "   YearBuilt  TotalBsmtSF   MiscVal  MSZoning_FV  MSZoning_RH  MSZoning_RL  \\\n",
       "0  -0.260141    -0.001718 -0.122987          0.0          0.0          1.0   \n",
       "1   0.748522     0.901672 -0.122987          0.0          0.0          1.0   \n",
       "2  -1.431491    -0.115759 -0.122987          0.0          0.0          0.0   \n",
       "3  -0.780741    -0.124704 -0.122987          0.0          0.0          0.0   \n",
       "4   1.171509     1.252742 -0.122987          0.0          0.0          1.0   \n",
       "\n",
       "   MSZoning_RM  HouseStyle_1.5Unf  HouseStyle_1Story  HouseStyle_2.5Fin  \\\n",
       "0          0.0                0.0                1.0                0.0   \n",
       "1          0.0                0.0                0.0                0.0   \n",
       "2          1.0                0.0                1.0                0.0   \n",
       "3          1.0                0.0                0.0                0.0   \n",
       "4          0.0                0.0                1.0                0.0   \n",
       "\n",
       "   HouseStyle_2.5Unf  HouseStyle_2Story  HouseStyle_SFoyer  HouseStyle_SLvl  \n",
       "0                0.0                0.0                0.0              0.0  \n",
       "1                0.0                1.0                0.0              0.0  \n",
       "2                0.0                0.0                0.0              0.0  \n",
       "3                0.0                0.0                0.0              0.0  \n",
       "4                0.0                0.0                0.0              0.0  "
      ]
     },
     "execution_count": 27,
     "metadata": {},
     "output_type": "execute_result"
    }
   ],
   "source": [
    "# combining the test set for categorical and continuous features\n",
    "\n",
    "X_test = pd.concat([X_test_cont_DF, X_test_cat_DF],axis = 1)\n",
    "\n",
    "X_test.head()"
   ]
  },
  {
   "cell_type": "code",
   "execution_count": 105,
   "id": "4e423a2f",
   "metadata": {},
   "outputs": [],
   "source": [
    "# saving the X_test locally for verification\n",
    "\n",
    "dataPATH = '/Users/OLALYTICS/dsp-olanrewaju-adegoke/data/'\n",
    "\n",
    "# saving the X_test_dataset into parquet\n",
    "\n",
    "X_test.to_parquet(dataPATH + 'X_test_df.parquet', index = False)\n",
    "\n",
    "# reading data from the parquet\n",
    "\n",
    "X_test_df = pd.read_parquet(dataPATH + 'X_test_df.parquet')\n",
    "\n",
    "#X_test_df.head()\n",
    "\n",
    "# resetting the index of both dataset\n",
    "\n",
    "X_test_df = X_test_df.reset_index(drop = True)\n",
    "\n",
    "X_test = X_test.reset_index(drop = True)       # The X_test here will be the output of the refactoring dataset\n",
    "\n",
    "\n",
    "# automatic testing of the code to be sure the DataFrame output didn't change regardless of refactoring\n",
    "\n",
    "pd.testing.assert_frame_equal(X_test_df, X_test)\n"
   ]
  },
  {
   "cell_type": "code",
   "execution_count": null,
   "id": "7b076b2e",
   "metadata": {},
   "outputs": [],
   "source": []
  },
  {
   "cell_type": "code",
   "execution_count": null,
   "id": "79f333ab",
   "metadata": {},
   "outputs": [],
   "source": []
  },
  {
   "cell_type": "code",
   "execution_count": null,
   "id": "045f983e",
   "metadata": {},
   "outputs": [],
   "source": []
  },
  {
   "cell_type": "code",
   "execution_count": null,
   "id": "b58aa57a",
   "metadata": {},
   "outputs": [],
   "source": []
  },
  {
   "cell_type": "code",
   "execution_count": null,
   "id": "a7cbb283",
   "metadata": {},
   "outputs": [],
   "source": []
  },
  {
   "cell_type": "code",
   "execution_count": null,
   "id": "781daa01",
   "metadata": {},
   "outputs": [],
   "source": []
  },
  {
   "cell_type": "code",
   "execution_count": null,
   "id": "e3e29659",
   "metadata": {},
   "outputs": [],
   "source": []
  },
  {
   "cell_type": "markdown",
   "id": "b9d17ad5",
   "metadata": {},
   "source": [
    "##### model predictions on the X_test"
   ]
  },
  {
   "cell_type": "markdown",
   "id": "ae8bbf07",
   "metadata": {},
   "source": [
    "# making predictions on the test set\n",
    "\n",
    "y_predicted = LinReg.predict(X_test)\n",
    "\n",
    "y_predicted[:5]"
   ]
  },
  {
   "cell_type": "code",
   "execution_count": 28,
   "id": "5298fac2",
   "metadata": {},
   "outputs": [],
   "source": [
    "LinReg_model = joblib.load('../models/LinReg.joblib')"
   ]
  },
  {
   "cell_type": "code",
   "execution_count": 29,
   "id": "ec463c12",
   "metadata": {},
   "outputs": [
    {
     "name": "stderr",
     "output_type": "stream",
     "text": [
      "/Users/OLALYTICS/anaconda3/envs/ml/lib/python3.9/site-packages/sklearn/utils/validation.py:571: FutureWarning: is_sparse is deprecated and will be removed in a future version. Check `isinstance(dtype, pd.SparseDtype)` instead.\n",
      "  array.dtypes.apply(is_sparse).any()):\n"
     ]
    },
    {
     "data": {
      "text/plain": [
       "array([155191.34335272, 273887.9445002 , 103572.13405251, 154350.61352743,\n",
       "       240647.02264699])"
      ]
     },
     "execution_count": 29,
     "metadata": {},
     "output_type": "execute_result"
    }
   ],
   "source": [
    "y_predicted = LinReg_model.predict(X_test)\n",
    "\n",
    "y_predicted[:5]"
   ]
  },
  {
   "cell_type": "code",
   "execution_count": null,
   "id": "ce00874e",
   "metadata": {},
   "outputs": [],
   "source": []
  },
  {
   "cell_type": "code",
   "execution_count": null,
   "id": "22eba858",
   "metadata": {},
   "outputs": [],
   "source": []
  },
  {
   "cell_type": "markdown",
   "id": "03ab3abe",
   "metadata": {},
   "source": [
    "### Model evaluation and model performance"
   ]
  },
  {
   "cell_type": "code",
   "execution_count": 30,
   "id": "f75c5e59",
   "metadata": {},
   "outputs": [],
   "source": [
    "from sklearn.metrics import mean_squared_error, mean_squared_log_error\n",
    "\n",
    "def compute_rmsle(y_test: np.ndarray, y_predicted: np.ndarray, precision: int = 2) -> float:\n",
    "    \n",
    "    msle = mean_squared_log_error(y_test, y_predicted)\n",
    "    \n",
    "    rmsle = np.sqrt(msle)\n",
    "    \n",
    "    return round(msle, precision), round(rmsle, precision)\n"
   ]
  },
  {
   "cell_type": "code",
   "execution_count": 31,
   "id": "339a8240",
   "metadata": {},
   "outputs": [
    {
     "data": {
      "text/plain": [
       "(0.06, 0.25)"
      ]
     },
     "execution_count": 31,
     "metadata": {},
     "output_type": "execute_result"
    }
   ],
   "source": [
    "\n",
    "compute_rmsle(y_test, y_predicted)\n",
    "      \n",
    "      "
   ]
  },
  {
   "cell_type": "code",
   "execution_count": null,
   "id": "ae517bb6",
   "metadata": {},
   "outputs": [],
   "source": []
  },
  {
   "cell_type": "markdown",
   "id": "ae808929",
   "metadata": {},
   "source": [
    "#### Step 1 - No 8"
   ]
  },
  {
   "cell_type": "markdown",
   "id": "585b0745",
   "metadata": {},
   "source": [
    "dataPATH = '/Users/OLALYTICS/dsp-olanrewaju-adegoke/data/'\n",
    "\n",
    "dataset = dataPATH + 'test.csv'\n"
   ]
  },
  {
   "cell_type": "markdown",
   "id": "c2a02204",
   "metadata": {},
   "source": [
    "# function to read dataset\n",
    "\n",
    "def read_data(dataset):\n",
    "    \"\"\"\n",
    "    Reads a dataset from a CSV file.\n",
    "\n",
    "    Args:\n",
    "        file_path (str): The file path of the CSV file.\n",
    "\n",
    "    Returns:\n",
    "        pd.DataFrame: The loaded dataset as a pandas DataFrame.\n",
    "    \"\"\"\n",
    "    try:\n",
    "        data_csv = pd.read_csv(dataset)\n",
    "        \n",
    "        return data_csv\n",
    "    \n",
    "    except Exception as e:\n",
    "        \n",
    "        print(f\"Error: {e}\")\n",
    "        \n",
    "        return None\n"
   ]
  },
  {
   "cell_type": "markdown",
   "id": "bd2bed73",
   "metadata": {},
   "source": [
    "testtt = read_data(dataset)\n",
    "\n",
    "testtt.head()"
   ]
  },
  {
   "cell_type": "markdown",
   "id": "8b73f6e8",
   "metadata": {},
   "source": [
    "### Model Inference - Inference is done on the test.csv dataset"
   ]
  },
  {
   "cell_type": "code",
   "execution_count": 35,
   "id": "bec05d06",
   "metadata": {
    "scrolled": true
   },
   "outputs": [
    {
     "data": {
      "text/html": [
       "<div>\n",
       "<style scoped>\n",
       "    .dataframe tbody tr th:only-of-type {\n",
       "        vertical-align: middle;\n",
       "    }\n",
       "\n",
       "    .dataframe tbody tr th {\n",
       "        vertical-align: top;\n",
       "    }\n",
       "\n",
       "    .dataframe thead th {\n",
       "        text-align: right;\n",
       "    }\n",
       "</style>\n",
       "<table border=\"1\" class=\"dataframe\">\n",
       "  <thead>\n",
       "    <tr style=\"text-align: right;\">\n",
       "      <th></th>\n",
       "      <th>Id</th>\n",
       "      <th>MSSubClass</th>\n",
       "      <th>MSZoning</th>\n",
       "      <th>LotFrontage</th>\n",
       "      <th>LotArea</th>\n",
       "      <th>Street</th>\n",
       "      <th>Alley</th>\n",
       "      <th>LotShape</th>\n",
       "      <th>LandContour</th>\n",
       "      <th>Utilities</th>\n",
       "      <th>...</th>\n",
       "      <th>ScreenPorch</th>\n",
       "      <th>PoolArea</th>\n",
       "      <th>PoolQC</th>\n",
       "      <th>Fence</th>\n",
       "      <th>MiscFeature</th>\n",
       "      <th>MiscVal</th>\n",
       "      <th>MoSold</th>\n",
       "      <th>YrSold</th>\n",
       "      <th>SaleType</th>\n",
       "      <th>SaleCondition</th>\n",
       "    </tr>\n",
       "  </thead>\n",
       "  <tbody>\n",
       "    <tr>\n",
       "      <th>0</th>\n",
       "      <td>1461</td>\n",
       "      <td>20</td>\n",
       "      <td>RH</td>\n",
       "      <td>80.0</td>\n",
       "      <td>11622</td>\n",
       "      <td>Pave</td>\n",
       "      <td>NaN</td>\n",
       "      <td>Reg</td>\n",
       "      <td>Lvl</td>\n",
       "      <td>AllPub</td>\n",
       "      <td>...</td>\n",
       "      <td>120</td>\n",
       "      <td>0</td>\n",
       "      <td>NaN</td>\n",
       "      <td>MnPrv</td>\n",
       "      <td>NaN</td>\n",
       "      <td>0</td>\n",
       "      <td>6</td>\n",
       "      <td>2010</td>\n",
       "      <td>WD</td>\n",
       "      <td>Normal</td>\n",
       "    </tr>\n",
       "    <tr>\n",
       "      <th>1</th>\n",
       "      <td>1462</td>\n",
       "      <td>20</td>\n",
       "      <td>RL</td>\n",
       "      <td>81.0</td>\n",
       "      <td>14267</td>\n",
       "      <td>Pave</td>\n",
       "      <td>NaN</td>\n",
       "      <td>IR1</td>\n",
       "      <td>Lvl</td>\n",
       "      <td>AllPub</td>\n",
       "      <td>...</td>\n",
       "      <td>0</td>\n",
       "      <td>0</td>\n",
       "      <td>NaN</td>\n",
       "      <td>NaN</td>\n",
       "      <td>Gar2</td>\n",
       "      <td>12500</td>\n",
       "      <td>6</td>\n",
       "      <td>2010</td>\n",
       "      <td>WD</td>\n",
       "      <td>Normal</td>\n",
       "    </tr>\n",
       "    <tr>\n",
       "      <th>2</th>\n",
       "      <td>1463</td>\n",
       "      <td>60</td>\n",
       "      <td>RL</td>\n",
       "      <td>74.0</td>\n",
       "      <td>13830</td>\n",
       "      <td>Pave</td>\n",
       "      <td>NaN</td>\n",
       "      <td>IR1</td>\n",
       "      <td>Lvl</td>\n",
       "      <td>AllPub</td>\n",
       "      <td>...</td>\n",
       "      <td>0</td>\n",
       "      <td>0</td>\n",
       "      <td>NaN</td>\n",
       "      <td>MnPrv</td>\n",
       "      <td>NaN</td>\n",
       "      <td>0</td>\n",
       "      <td>3</td>\n",
       "      <td>2010</td>\n",
       "      <td>WD</td>\n",
       "      <td>Normal</td>\n",
       "    </tr>\n",
       "    <tr>\n",
       "      <th>3</th>\n",
       "      <td>1464</td>\n",
       "      <td>60</td>\n",
       "      <td>RL</td>\n",
       "      <td>78.0</td>\n",
       "      <td>9978</td>\n",
       "      <td>Pave</td>\n",
       "      <td>NaN</td>\n",
       "      <td>IR1</td>\n",
       "      <td>Lvl</td>\n",
       "      <td>AllPub</td>\n",
       "      <td>...</td>\n",
       "      <td>0</td>\n",
       "      <td>0</td>\n",
       "      <td>NaN</td>\n",
       "      <td>NaN</td>\n",
       "      <td>NaN</td>\n",
       "      <td>0</td>\n",
       "      <td>6</td>\n",
       "      <td>2010</td>\n",
       "      <td>WD</td>\n",
       "      <td>Normal</td>\n",
       "    </tr>\n",
       "    <tr>\n",
       "      <th>4</th>\n",
       "      <td>1465</td>\n",
       "      <td>120</td>\n",
       "      <td>RL</td>\n",
       "      <td>43.0</td>\n",
       "      <td>5005</td>\n",
       "      <td>Pave</td>\n",
       "      <td>NaN</td>\n",
       "      <td>IR1</td>\n",
       "      <td>HLS</td>\n",
       "      <td>AllPub</td>\n",
       "      <td>...</td>\n",
       "      <td>144</td>\n",
       "      <td>0</td>\n",
       "      <td>NaN</td>\n",
       "      <td>NaN</td>\n",
       "      <td>NaN</td>\n",
       "      <td>0</td>\n",
       "      <td>1</td>\n",
       "      <td>2010</td>\n",
       "      <td>WD</td>\n",
       "      <td>Normal</td>\n",
       "    </tr>\n",
       "  </tbody>\n",
       "</table>\n",
       "<p>5 rows × 80 columns</p>\n",
       "</div>"
      ],
      "text/plain": [
       "     Id  MSSubClass MSZoning  LotFrontage  LotArea Street Alley LotShape  \\\n",
       "0  1461          20       RH         80.0    11622   Pave   NaN      Reg   \n",
       "1  1462          20       RL         81.0    14267   Pave   NaN      IR1   \n",
       "2  1463          60       RL         74.0    13830   Pave   NaN      IR1   \n",
       "3  1464          60       RL         78.0     9978   Pave   NaN      IR1   \n",
       "4  1465         120       RL         43.0     5005   Pave   NaN      IR1   \n",
       "\n",
       "  LandContour Utilities  ... ScreenPorch PoolArea PoolQC  Fence MiscFeature  \\\n",
       "0         Lvl    AllPub  ...         120        0    NaN  MnPrv         NaN   \n",
       "1         Lvl    AllPub  ...           0        0    NaN    NaN        Gar2   \n",
       "2         Lvl    AllPub  ...           0        0    NaN  MnPrv         NaN   \n",
       "3         Lvl    AllPub  ...           0        0    NaN    NaN         NaN   \n",
       "4         HLS    AllPub  ...         144        0    NaN    NaN         NaN   \n",
       "\n",
       "  MiscVal MoSold  YrSold  SaleType  SaleCondition  \n",
       "0       0      6    2010        WD         Normal  \n",
       "1   12500      6    2010        WD         Normal  \n",
       "2       0      3    2010        WD         Normal  \n",
       "3       0      6    2010        WD         Normal  \n",
       "4       0      1    2010        WD         Normal  \n",
       "\n",
       "[5 rows x 80 columns]"
      ]
     },
     "execution_count": 35,
     "metadata": {},
     "output_type": "execute_result"
    }
   ],
   "source": [
    "# loading and reading the given test.csv dataset\n",
    "\n",
    "dataPATH = '/Users/OLALYTICS/dsp-olanrewaju-adegoke/data/'\n",
    "\n",
    "dataset = dataPATH + 'test.csv'\n",
    "\n",
    "test_csv_master = pd.read_csv(dataset)\n",
    "\n",
    "test_csv = test_csv_master.copy()\n",
    "\n",
    "test_csv.head()"
   ]
  },
  {
   "cell_type": "markdown",
   "id": "68bcbd8a",
   "metadata": {},
   "source": [
    "#### preprocessing of the test_csv dataset"
   ]
  },
  {
   "cell_type": "code",
   "execution_count": 36,
   "id": "efc3c169",
   "metadata": {},
   "outputs": [],
   "source": [
    "# defining the categorical and continuous features of the test_csv\n",
    "\n",
    "categorical_features = ['MSZoning','HouseStyle']\n",
    "\n",
    "continuous_features = ['YearBuilt','TotalBsmtSF','MiscVal']\n"
   ]
  },
  {
   "cell_type": "code",
   "execution_count": 37,
   "id": "c72fceae",
   "metadata": {},
   "outputs": [
    {
     "data": {
      "text/html": [
       "<div>\n",
       "<style scoped>\n",
       "    .dataframe tbody tr th:only-of-type {\n",
       "        vertical-align: middle;\n",
       "    }\n",
       "\n",
       "    .dataframe tbody tr th {\n",
       "        vertical-align: top;\n",
       "    }\n",
       "\n",
       "    .dataframe thead th {\n",
       "        text-align: right;\n",
       "    }\n",
       "</style>\n",
       "<table border=\"1\" class=\"dataframe\">\n",
       "  <thead>\n",
       "    <tr style=\"text-align: right;\">\n",
       "      <th></th>\n",
       "      <th>MSZoning</th>\n",
       "      <th>HouseStyle</th>\n",
       "      <th>YearBuilt</th>\n",
       "      <th>TotalBsmtSF</th>\n",
       "      <th>MiscVal</th>\n",
       "    </tr>\n",
       "  </thead>\n",
       "  <tbody>\n",
       "    <tr>\n",
       "      <th>0</th>\n",
       "      <td>RH</td>\n",
       "      <td>1Story</td>\n",
       "      <td>1961</td>\n",
       "      <td>882.0</td>\n",
       "      <td>0</td>\n",
       "    </tr>\n",
       "    <tr>\n",
       "      <th>1</th>\n",
       "      <td>RL</td>\n",
       "      <td>1Story</td>\n",
       "      <td>1958</td>\n",
       "      <td>1329.0</td>\n",
       "      <td>12500</td>\n",
       "    </tr>\n",
       "    <tr>\n",
       "      <th>2</th>\n",
       "      <td>RL</td>\n",
       "      <td>2Story</td>\n",
       "      <td>1997</td>\n",
       "      <td>928.0</td>\n",
       "      <td>0</td>\n",
       "    </tr>\n",
       "    <tr>\n",
       "      <th>3</th>\n",
       "      <td>RL</td>\n",
       "      <td>2Story</td>\n",
       "      <td>1998</td>\n",
       "      <td>926.0</td>\n",
       "      <td>0</td>\n",
       "    </tr>\n",
       "    <tr>\n",
       "      <th>4</th>\n",
       "      <td>RL</td>\n",
       "      <td>1Story</td>\n",
       "      <td>1992</td>\n",
       "      <td>1280.0</td>\n",
       "      <td>0</td>\n",
       "    </tr>\n",
       "  </tbody>\n",
       "</table>\n",
       "</div>"
      ],
      "text/plain": [
       "  MSZoning HouseStyle  YearBuilt  TotalBsmtSF  MiscVal\n",
       "0       RH     1Story       1961        882.0        0\n",
       "1       RL     1Story       1958       1329.0    12500\n",
       "2       RL     2Story       1997        928.0        0\n",
       "3       RL     2Story       1998        926.0        0\n",
       "4       RL     1Story       1992       1280.0        0"
      ]
     },
     "execution_count": 37,
     "metadata": {},
     "output_type": "execute_result"
    }
   ],
   "source": [
    "# selecting the categorical and continuous features of the test_csv\n",
    "\n",
    "test_csv_features = test_csv[categorical_features + continuous_features]\n",
    "\n",
    "test_csv_features.head()\n"
   ]
  },
  {
   "cell_type": "markdown",
   "id": "64fdddbb",
   "metadata": {},
   "source": [
    "# OneHotEncoding for categorical variables\n",
    "\n",
    "from sklearn.preprocessing import OneHotEncoder\n",
    "\n",
    "# OneHotEncoding for test_csv\n",
    "\n",
    "oneHot = OneHotEncoder(drop = 'first', sparse = False)\n",
    "\n",
    "oneHot.fit(test_csv_features[categorical_features])\n",
    "\n",
    "test_csv_cat = oneHot.transform(test_csv_features[categorical_features])\n",
    "\n",
    "test_csv_cat_DF = pd.DataFrame(test_csv_cat, columns = oneHot.get_feature_names(categorical_features ))\n"
   ]
  },
  {
   "cell_type": "markdown",
   "id": "1ba0298a",
   "metadata": {},
   "source": [
    "##### Persist for the inference dataset for OneHotEncoder - loading the existing joblib files to perform the task"
   ]
  },
  {
   "cell_type": "code",
   "execution_count": 38,
   "id": "b821e299",
   "metadata": {},
   "outputs": [
    {
     "name": "stderr",
     "output_type": "stream",
     "text": [
      "/var/folders/c6/ht4lr6411jqdn8bhdr_m1dh00000gp/T/ipykernel_40359/1841621457.py:5: SettingWithCopyWarning: \n",
      "A value is trying to be set on a copy of a slice from a DataFrame\n",
      "\n",
      "See the caveats in the documentation: https://pandas.pydata.org/pandas-docs/stable/user_guide/indexing.html#returning-a-view-versus-a-copy\n",
      "  test_csv_features.dropna(inplace = True)\n"
     ]
    },
    {
     "data": {
      "text/html": [
       "<div>\n",
       "<style scoped>\n",
       "    .dataframe tbody tr th:only-of-type {\n",
       "        vertical-align: middle;\n",
       "    }\n",
       "\n",
       "    .dataframe tbody tr th {\n",
       "        vertical-align: top;\n",
       "    }\n",
       "\n",
       "    .dataframe thead th {\n",
       "        text-align: right;\n",
       "    }\n",
       "</style>\n",
       "<table border=\"1\" class=\"dataframe\">\n",
       "  <thead>\n",
       "    <tr style=\"text-align: right;\">\n",
       "      <th></th>\n",
       "      <th>MSZoning</th>\n",
       "      <th>HouseStyle</th>\n",
       "      <th>YearBuilt</th>\n",
       "      <th>TotalBsmtSF</th>\n",
       "      <th>MiscVal</th>\n",
       "    </tr>\n",
       "  </thead>\n",
       "  <tbody>\n",
       "    <tr>\n",
       "      <th>0</th>\n",
       "      <td>RH</td>\n",
       "      <td>1Story</td>\n",
       "      <td>1961</td>\n",
       "      <td>882.0</td>\n",
       "      <td>0</td>\n",
       "    </tr>\n",
       "    <tr>\n",
       "      <th>1</th>\n",
       "      <td>RL</td>\n",
       "      <td>1Story</td>\n",
       "      <td>1958</td>\n",
       "      <td>1329.0</td>\n",
       "      <td>12500</td>\n",
       "    </tr>\n",
       "    <tr>\n",
       "      <th>2</th>\n",
       "      <td>RL</td>\n",
       "      <td>2Story</td>\n",
       "      <td>1997</td>\n",
       "      <td>928.0</td>\n",
       "      <td>0</td>\n",
       "    </tr>\n",
       "    <tr>\n",
       "      <th>3</th>\n",
       "      <td>RL</td>\n",
       "      <td>2Story</td>\n",
       "      <td>1998</td>\n",
       "      <td>926.0</td>\n",
       "      <td>0</td>\n",
       "    </tr>\n",
       "    <tr>\n",
       "      <th>4</th>\n",
       "      <td>RL</td>\n",
       "      <td>1Story</td>\n",
       "      <td>1992</td>\n",
       "      <td>1280.0</td>\n",
       "      <td>0</td>\n",
       "    </tr>\n",
       "  </tbody>\n",
       "</table>\n",
       "</div>"
      ],
      "text/plain": [
       "  MSZoning HouseStyle  YearBuilt  TotalBsmtSF  MiscVal\n",
       "0       RH     1Story       1961        882.0        0\n",
       "1       RL     1Story       1958       1329.0    12500\n",
       "2       RL     2Story       1997        928.0        0\n",
       "3       RL     2Story       1998        926.0        0\n",
       "4       RL     1Story       1992       1280.0        0"
      ]
     },
     "execution_count": 38,
     "metadata": {},
     "output_type": "execute_result"
    }
   ],
   "source": [
    "# checking for missing and NaN values and correcting it\n",
    "\n",
    "test_csv_features.isna().sum()\n",
    "\n",
    "test_csv_features.dropna(inplace = True)\n",
    "\n",
    "test_csv_features.head()"
   ]
  },
  {
   "cell_type": "code",
   "execution_count": 39,
   "id": "c9126262",
   "metadata": {},
   "outputs": [],
   "source": [
    "import joblib\n",
    "\n",
    "loaded_oneHot = joblib.load('../models/oneHot.joblib')"
   ]
  },
  {
   "cell_type": "code",
   "execution_count": 40,
   "id": "28d4b397",
   "metadata": {},
   "outputs": [],
   "source": [
    "test_csv_cat = loaded_oneHot.transform(test_csv_features[categorical_features])\n"
   ]
  },
  {
   "cell_type": "code",
   "execution_count": 41,
   "id": "5c942af2",
   "metadata": {},
   "outputs": [],
   "source": [
    "test_csv_cat_DF = pd.DataFrame(test_csv_cat, columns = loaded_oneHot.get_feature_names(categorical_features ))\n"
   ]
  },
  {
   "cell_type": "code",
   "execution_count": null,
   "id": "060d5eef",
   "metadata": {},
   "outputs": [],
   "source": []
  },
  {
   "cell_type": "markdown",
   "id": "121e2a31",
   "metadata": {},
   "source": [
    "# StandardScaling for the continuous variables\n",
    "\n",
    "from sklearn.preprocessing import StandardScaler\n",
    "\n",
    "# StandardScaling for the test_csv\n",
    "\n",
    "stdScaler = StandardScaler()\n",
    "\n",
    "stdScaler.fit(test_csv_features[continuous_features])\n",
    "\n",
    "test_csv_cont = stdScaler.transform(test_csv_features[continuous_features])\n",
    "\n",
    "test_csv_cont_DF = pd.DataFrame(test_csv_cont, columns = continuous_features)\n",
    "\n"
   ]
  },
  {
   "cell_type": "code",
   "execution_count": null,
   "id": "ceb5da26",
   "metadata": {},
   "outputs": [],
   "source": []
  },
  {
   "cell_type": "markdown",
   "id": "ed6e424e",
   "metadata": {},
   "source": [
    "##### Persist for the inference dataset for StandardScaler - loading the existing joblib files to perform the task"
   ]
  },
  {
   "cell_type": "code",
   "execution_count": 42,
   "id": "2fd85c7f",
   "metadata": {},
   "outputs": [],
   "source": [
    "import joblib\n",
    "\n",
    "loaded_stdScaler = joblib.load('../models/stdScaler.joblib')"
   ]
  },
  {
   "cell_type": "code",
   "execution_count": 43,
   "id": "bb402623",
   "metadata": {},
   "outputs": [
    {
     "name": "stderr",
     "output_type": "stream",
     "text": [
      "/Users/OLALYTICS/anaconda3/envs/ml/lib/python3.9/site-packages/sklearn/utils/validation.py:571: FutureWarning: is_sparse is deprecated and will be removed in a future version. Check `isinstance(dtype, pd.SparseDtype)` instead.\n",
      "  array.dtypes.apply(is_sparse).any()):\n"
     ]
    }
   ],
   "source": [
    "\n",
    "test_csv_cont = loaded_stdScaler.transform(test_csv_features[continuous_features])\n"
   ]
  },
  {
   "cell_type": "code",
   "execution_count": 44,
   "id": "800518da",
   "metadata": {},
   "outputs": [],
   "source": [
    "test_csv_cont_DF = pd.DataFrame(test_csv_cont, columns = continuous_features)\n"
   ]
  },
  {
   "cell_type": "code",
   "execution_count": null,
   "id": "ebc15b66",
   "metadata": {},
   "outputs": [],
   "source": []
  },
  {
   "cell_type": "code",
   "execution_count": 45,
   "id": "372d881b",
   "metadata": {},
   "outputs": [
    {
     "data": {
      "text/html": [
       "<div>\n",
       "<style scoped>\n",
       "    .dataframe tbody tr th:only-of-type {\n",
       "        vertical-align: middle;\n",
       "    }\n",
       "\n",
       "    .dataframe tbody tr th {\n",
       "        vertical-align: top;\n",
       "    }\n",
       "\n",
       "    .dataframe thead th {\n",
       "        text-align: right;\n",
       "    }\n",
       "</style>\n",
       "<table border=\"1\" class=\"dataframe\">\n",
       "  <thead>\n",
       "    <tr style=\"text-align: right;\">\n",
       "      <th></th>\n",
       "      <th>YearBuilt</th>\n",
       "      <th>TotalBsmtSF</th>\n",
       "      <th>MiscVal</th>\n",
       "      <th>MSZoning_FV</th>\n",
       "      <th>MSZoning_RH</th>\n",
       "      <th>MSZoning_RL</th>\n",
       "      <th>MSZoning_RM</th>\n",
       "      <th>HouseStyle_1.5Unf</th>\n",
       "      <th>HouseStyle_1Story</th>\n",
       "      <th>HouseStyle_2.5Fin</th>\n",
       "      <th>HouseStyle_2.5Unf</th>\n",
       "      <th>HouseStyle_2Story</th>\n",
       "      <th>HouseStyle_SFoyer</th>\n",
       "      <th>HouseStyle_SLvl</th>\n",
       "    </tr>\n",
       "  </thead>\n",
       "  <tbody>\n",
       "    <tr>\n",
       "      <th>1449</th>\n",
       "      <td>-0.032378</td>\n",
       "      <td>-1.148844</td>\n",
       "      <td>-0.122987</td>\n",
       "      <td>0.0</td>\n",
       "      <td>0.0</td>\n",
       "      <td>0.0</td>\n",
       "      <td>1.0</td>\n",
       "      <td>0.0</td>\n",
       "      <td>0.0</td>\n",
       "      <td>0.0</td>\n",
       "      <td>0.0</td>\n",
       "      <td>1.0</td>\n",
       "      <td>0.0</td>\n",
       "      <td>0.0</td>\n",
       "    </tr>\n",
       "    <tr>\n",
       "      <th>1450</th>\n",
       "      <td>-0.032378</td>\n",
       "      <td>-1.148844</td>\n",
       "      <td>-0.122987</td>\n",
       "      <td>0.0</td>\n",
       "      <td>0.0</td>\n",
       "      <td>0.0</td>\n",
       "      <td>1.0</td>\n",
       "      <td>0.0</td>\n",
       "      <td>0.0</td>\n",
       "      <td>0.0</td>\n",
       "      <td>0.0</td>\n",
       "      <td>1.0</td>\n",
       "      <td>0.0</td>\n",
       "      <td>0.0</td>\n",
       "    </tr>\n",
       "    <tr>\n",
       "      <th>1451</th>\n",
       "      <td>-0.357753</td>\n",
       "      <td>0.367241</td>\n",
       "      <td>-0.122987</td>\n",
       "      <td>0.0</td>\n",
       "      <td>0.0</td>\n",
       "      <td>1.0</td>\n",
       "      <td>0.0</td>\n",
       "      <td>0.0</td>\n",
       "      <td>1.0</td>\n",
       "      <td>0.0</td>\n",
       "      <td>0.0</td>\n",
       "      <td>0.0</td>\n",
       "      <td>0.0</td>\n",
       "      <td>0.0</td>\n",
       "    </tr>\n",
       "    <tr>\n",
       "      <th>1452</th>\n",
       "      <td>0.683447</td>\n",
       "      <td>-0.330426</td>\n",
       "      <td>1.948222</td>\n",
       "      <td>0.0</td>\n",
       "      <td>0.0</td>\n",
       "      <td>1.0</td>\n",
       "      <td>0.0</td>\n",
       "      <td>0.0</td>\n",
       "      <td>0.0</td>\n",
       "      <td>0.0</td>\n",
       "      <td>0.0</td>\n",
       "      <td>0.0</td>\n",
       "      <td>1.0</td>\n",
       "      <td>0.0</td>\n",
       "    </tr>\n",
       "    <tr>\n",
       "      <th>1453</th>\n",
       "      <td>0.715984</td>\n",
       "      <td>-0.142593</td>\n",
       "      <td>-0.122987</td>\n",
       "      <td>0.0</td>\n",
       "      <td>0.0</td>\n",
       "      <td>1.0</td>\n",
       "      <td>0.0</td>\n",
       "      <td>0.0</td>\n",
       "      <td>0.0</td>\n",
       "      <td>0.0</td>\n",
       "      <td>0.0</td>\n",
       "      <td>1.0</td>\n",
       "      <td>0.0</td>\n",
       "      <td>0.0</td>\n",
       "    </tr>\n",
       "  </tbody>\n",
       "</table>\n",
       "</div>"
      ],
      "text/plain": [
       "      YearBuilt  TotalBsmtSF   MiscVal  MSZoning_FV  MSZoning_RH  MSZoning_RL  \\\n",
       "1449  -0.032378    -1.148844 -0.122987          0.0          0.0          0.0   \n",
       "1450  -0.032378    -1.148844 -0.122987          0.0          0.0          0.0   \n",
       "1451  -0.357753     0.367241 -0.122987          0.0          0.0          1.0   \n",
       "1452   0.683447    -0.330426  1.948222          0.0          0.0          1.0   \n",
       "1453   0.715984    -0.142593 -0.122987          0.0          0.0          1.0   \n",
       "\n",
       "      MSZoning_RM  HouseStyle_1.5Unf  HouseStyle_1Story  HouseStyle_2.5Fin  \\\n",
       "1449          1.0                0.0                0.0                0.0   \n",
       "1450          1.0                0.0                0.0                0.0   \n",
       "1451          0.0                0.0                1.0                0.0   \n",
       "1452          0.0                0.0                0.0                0.0   \n",
       "1453          0.0                0.0                0.0                0.0   \n",
       "\n",
       "      HouseStyle_2.5Unf  HouseStyle_2Story  HouseStyle_SFoyer  HouseStyle_SLvl  \n",
       "1449                0.0                1.0                0.0              0.0  \n",
       "1450                0.0                1.0                0.0              0.0  \n",
       "1451                0.0                0.0                0.0              0.0  \n",
       "1452                0.0                0.0                1.0              0.0  \n",
       "1453                0.0                1.0                0.0              0.0  "
      ]
     },
     "execution_count": 45,
     "metadata": {},
     "output_type": "execute_result"
    }
   ],
   "source": [
    "# combining the test set for categorical and continuous features\n",
    "\n",
    "test_set = pd.concat([test_csv_cont_DF, test_csv_cat_DF],axis = 1)\n",
    "\n",
    "test_set.tail()"
   ]
  },
  {
   "cell_type": "code",
   "execution_count": 77,
   "id": "43e8e9f4",
   "metadata": {},
   "outputs": [],
   "source": [
    "final_test_csv = pd.concat([test_set, target], axis = 1)"
   ]
  },
  {
   "cell_type": "code",
   "execution_count": null,
   "id": "adffbd33",
   "metadata": {},
   "outputs": [],
   "source": []
  },
  {
   "cell_type": "code",
   "execution_count": 106,
   "id": "e29b4d74",
   "metadata": {},
   "outputs": [],
   "source": [
    "# saving the X_test locally for verification\n",
    "\n",
    "dataPATH = '/Users/OLALYTICS/dsp-olanrewaju-adegoke/data/'\n",
    "\n",
    "# saving the X_test_dataset into parquet\n",
    "\n",
    "final_test_csv.to_parquet(dataPATH + 'final_test_csv_df.parquet', index = False)\n",
    "\n",
    "# reading data from the parquet\n",
    "\n",
    "final_test_csv_df = pd.read_parquet(dataPATH + 'final_test_csv_df.parquet')\n",
    "\n",
    "# final_test_csv_df.head()\n",
    "\n",
    "# resetting the index of both dataset\n",
    "\n",
    "final_test_csv_df = final_test_csv_df.reset_index(drop = True)\n",
    "\n",
    "final_test_csv = final_test_csv.reset_index(drop = True)       # The final_test_csv here will be the output of the refactoring dataset\n",
    "\n",
    "\n",
    "# automatic testing of the code to be sure the DataFrame output didn't change regardless of refactoring\n",
    "\n",
    "pd.testing.assert_frame_equal(final_test_csv_df, final_test_csv)\n",
    "\n"
   ]
  },
  {
   "cell_type": "code",
   "execution_count": null,
   "id": "0c271180",
   "metadata": {},
   "outputs": [],
   "source": []
  },
  {
   "cell_type": "code",
   "execution_count": null,
   "id": "3871afb8",
   "metadata": {},
   "outputs": [],
   "source": []
  },
  {
   "cell_type": "code",
   "execution_count": null,
   "id": "cd458ed4",
   "metadata": {},
   "outputs": [],
   "source": []
  },
  {
   "cell_type": "code",
   "execution_count": null,
   "id": "76e2a901",
   "metadata": {},
   "outputs": [],
   "source": []
  },
  {
   "cell_type": "markdown",
   "id": "028442a8",
   "metadata": {},
   "source": [
    "# already taken into consideration\n",
    "\n",
    "# checking for missing and NaN values and correcting it\n",
    "\n",
    "test_set.isna().sum()\n",
    "\n",
    "test_set.dropna(inplace = True)\n",
    "\n",
    "test_set.head()"
   ]
  },
  {
   "cell_type": "markdown",
   "id": "0455520a",
   "metadata": {},
   "source": [
    "#### predicting the house prices using the test_csv dataset"
   ]
  },
  {
   "cell_type": "markdown",
   "id": "a0edddae",
   "metadata": {},
   "source": [
    "# making predictions on the test_csv set\n",
    "\n",
    "y_predicted_test_csv = LinReg.predict(test_set)\n",
    "\n",
    "y_predicted_test_csv[:5]"
   ]
  },
  {
   "cell_type": "markdown",
   "id": "0fc80632",
   "metadata": {},
   "source": [
    "### Step 2 - No 2ii"
   ]
  },
  {
   "cell_type": "code",
   "execution_count": 46,
   "id": "1febbb8f",
   "metadata": {},
   "outputs": [],
   "source": [
    "# load the model from models folder"
   ]
  },
  {
   "cell_type": "code",
   "execution_count": 47,
   "id": "1d8217bd",
   "metadata": {},
   "outputs": [],
   "source": [
    "LinReg_model = joblib.load('../models/LinReg.joblib')"
   ]
  },
  {
   "cell_type": "code",
   "execution_count": 48,
   "id": "17199821",
   "metadata": {},
   "outputs": [
    {
     "name": "stderr",
     "output_type": "stream",
     "text": [
      "/Users/OLALYTICS/anaconda3/envs/ml/lib/python3.9/site-packages/sklearn/utils/validation.py:571: FutureWarning: is_sparse is deprecated and will be removed in a future version. Check `isinstance(dtype, pd.SparseDtype)` instead.\n",
      "  array.dtypes.apply(is_sparse).any()):\n"
     ]
    },
    {
     "data": {
      "text/plain": [
       "array([112202.71314909, 171175.40084421, 225391.38660654, 225935.80195261,\n",
       "       197418.35870414])"
      ]
     },
     "execution_count": 48,
     "metadata": {},
     "output_type": "execute_result"
    }
   ],
   "source": [
    "pred = LinReg_model.predict(test_set)\n",
    "\n",
    "pred[:5]"
   ]
  },
  {
   "cell_type": "markdown",
   "id": "ff16b824",
   "metadata": {},
   "source": [
    "#### Step 2\n",
    "\n",
    "### Object Persistance"
   ]
  },
  {
   "cell_type": "markdown",
   "id": "22708448",
   "metadata": {},
   "source": [
    "#### done!!!"
   ]
  },
  {
   "cell_type": "markdown",
   "id": "370efbe6",
   "metadata": {},
   "source": [
    "#### selecting the features with continuous and categorical variables and also the target variable known as the label."
   ]
  },
  {
   "cell_type": "code",
   "execution_count": 49,
   "id": "d7668a3c",
   "metadata": {},
   "outputs": [],
   "source": [
    "#useful_data = house_data_csv[['MSZoning','HouseStyle','YearBuilt','TotalBsmtSF','MiscVal','SalePrice']]\n",
    "\n",
    "#useful_data.head()"
   ]
  },
  {
   "cell_type": "markdown",
   "id": "548bdd93",
   "metadata": {},
   "source": [
    "# checking for missing values\n",
    "\n",
    "useful_data.info()\n",
    "\n",
    "# checking for NaN\n",
    "\n",
    "useful_data.isna().sum()\n",
    "\n",
    "# checking for duplicate and correcting it\n",
    "\n",
    "useful_data.drop_duplicates(inplace = True)\n",
    "\n",
    "useful_data.duplicated(keep = 'first').sum()"
   ]
  },
  {
   "cell_type": "markdown",
   "id": "226f5cee",
   "metadata": {},
   "source": [
    "# defining the categorical and continuous features\n",
    "\n",
    "catFeature = ['MSZoning','HouseStyle']\n",
    "\n",
    "contFeature = ['YearBuilt','TotalBsmtSF','MiscVal']\n"
   ]
  },
  {
   "cell_type": "markdown",
   "id": "ca7d1446",
   "metadata": {},
   "source": [
    "# selecting the features and target\n",
    "\n",
    "features = useful_data[catFeature + contFeature]\n",
    "\n",
    "target = useful_data['SalePrice']"
   ]
  },
  {
   "cell_type": "markdown",
   "id": "0a8ed5ba",
   "metadata": {},
   "source": [
    "#### Features engineering - OneHotEncoding for categorical variables and Scaling for continuous variables"
   ]
  },
  {
   "cell_type": "markdown",
   "id": "13b06f80",
   "metadata": {},
   "source": [
    "# import the libraries\n",
    "\n",
    "from sklearn.preprocessing import OneHotEncoder, StandardScaler"
   ]
  },
  {
   "cell_type": "markdown",
   "id": "304f6452",
   "metadata": {},
   "source": [
    "# Encoding the categorical variables\n",
    "\n",
    "onehot_encoder = OneHotEncoder(drop = 'first', sparse = False)\n",
    "\n",
    "onehot_encoder.fit(features[catFeature])\n",
    "\n",
    "catFeature_encoded = onehot_encoder.transform(features[catFeature])\n",
    "\n",
    "catFeature_encoded_DF = pd.DataFrame(catFeature_encoded, columns = onehot_encoder.get_feature_names(catFeature))\n",
    "\n",
    "catFeature_encoded_DF.head()\n"
   ]
  },
  {
   "cell_type": "markdown",
   "id": "06df44a1",
   "metadata": {},
   "source": [
    "# Scaling the continuous variables\n",
    "\n",
    "std_scaler = StandardScaler()\n",
    "\n",
    "std_scaler.fit(features[contFeature])\n",
    "\n",
    "contFeature_scaled = std_scaler.transform(features[contFeature])\n",
    "\n",
    "contFeature_scaled_DF = pd.DataFrame(contFeature_scaled, columns = contFeature)\n",
    "\n",
    "contFeature_scaled_DF.head()\n"
   ]
  },
  {
   "cell_type": "code",
   "execution_count": 50,
   "id": "4f114cbd",
   "metadata": {},
   "outputs": [],
   "source": [
    "# combining the dataset after full scaling"
   ]
  },
  {
   "cell_type": "markdown",
   "id": "af91c5ea",
   "metadata": {},
   "source": [
    "combined_dataset = pd.concat([contFeature_scaled_DF, catFeature_encoded_DF, target], axis = 1)\n",
    "\n",
    "combined_dataset.tail()"
   ]
  },
  {
   "cell_type": "markdown",
   "id": "404446fd",
   "metadata": {},
   "source": [
    "# checking for NaN and removing it\n",
    "\n",
    "combined_dataset.isna().sum()\n",
    "\n",
    "combined_dataset.dropna(inplace = True)\n",
    "\n",
    "combined_dataset.head()\n"
   ]
  },
  {
   "cell_type": "markdown",
   "id": "7668ddc0",
   "metadata": {},
   "source": [
    "# selecting the X and y from the final_dataset\n",
    "\n",
    "X = combined_dataset.drop('SalePrice', axis = 1)\n",
    "\n",
    "X.head()"
   ]
  },
  {
   "cell_type": "markdown",
   "id": "56062543",
   "metadata": {},
   "source": [
    "y = combined_dataset['SalePrice']\n",
    "\n",
    "y.head()"
   ]
  },
  {
   "cell_type": "code",
   "execution_count": 51,
   "id": "71c5ef68",
   "metadata": {},
   "outputs": [],
   "source": [
    "##### train and test split for training the model"
   ]
  },
  {
   "cell_type": "markdown",
   "id": "d4c2c31a",
   "metadata": {},
   "source": [
    "from sklearn.model_selection import train_test_split"
   ]
  },
  {
   "cell_type": "markdown",
   "id": "4d49395f",
   "metadata": {},
   "source": [
    "\n",
    "\n",
    "X_train, X_test, y_train, y_test = train_test_split(X, y, test_size = 0.3, random_state = 42)"
   ]
  },
  {
   "cell_type": "code",
   "execution_count": 52,
   "id": "5d1325c5",
   "metadata": {},
   "outputs": [],
   "source": [
    "##### fitting of the model by using the LinearRegression"
   ]
  },
  {
   "cell_type": "markdown",
   "id": "cd1457f0",
   "metadata": {},
   "source": [
    "from sklearn.linear_model import LinearRegression\n",
    "\n",
    "LinReg = LinearRegression()\n",
    "\n",
    "LinReg.fit(X_train, y_train)"
   ]
  },
  {
   "cell_type": "code",
   "execution_count": 53,
   "id": "a10fd841",
   "metadata": {},
   "outputs": [],
   "source": [
    "##### predicting the housing prices using the LinearRegression Model"
   ]
  },
  {
   "cell_type": "markdown",
   "id": "e8e518f7",
   "metadata": {},
   "source": [
    "y_predicted = LinReg.predict(X_test)\n",
    "\n",
    "y_predicted[:5]"
   ]
  },
  {
   "cell_type": "code",
   "execution_count": 54,
   "id": "b6070093",
   "metadata": {},
   "outputs": [],
   "source": [
    "##### evaluating the model using the mean_squared_log_error"
   ]
  },
  {
   "cell_type": "markdown",
   "id": "4640c1d1",
   "metadata": {},
   "source": [
    "from sklearn.metrics import mean_squared_log_error\n",
    "\n",
    "def compute_rmsle(y_test: np.ndarray, y_predicted: np.ndarray, precision: int = 2) -> float:\n",
    "    rmsle = np.sqrt(mean_squared_log_error(y_test, y_predicted))\n",
    "    return round(rmsle, precision)"
   ]
  },
  {
   "cell_type": "markdown",
   "id": "fb63c8ab",
   "metadata": {},
   "source": [
    "\n",
    "print('The mean squared log error is:', compute_rmsle(y_test, y_predicted))\n"
   ]
  },
  {
   "cell_type": "code",
   "execution_count": null,
   "id": "c69d3615",
   "metadata": {},
   "outputs": [],
   "source": []
  },
  {
   "cell_type": "markdown",
   "id": "ae28af76",
   "metadata": {},
   "source": [
    "#### testing the equality of the dataframe using parquet"
   ]
  },
  {
   "cell_type": "code",
   "execution_count": 55,
   "id": "1cc71231",
   "metadata": {},
   "outputs": [],
   "source": [
    "#dataPATH = '/Users/OLALYTICS/dsp-olanrewaju-adegoke/data/'"
   ]
  },
  {
   "cell_type": "code",
   "execution_count": 56,
   "id": "de0be134",
   "metadata": {},
   "outputs": [],
   "source": [
    "#combined_dataset.head()"
   ]
  },
  {
   "cell_type": "code",
   "execution_count": 57,
   "id": "8932683d",
   "metadata": {},
   "outputs": [],
   "source": [
    "# saving the dataset into parquet\n",
    "\n",
    "#combined_dataset.to_parquet(dataPATH + 'combined_parq_df.parquet', index = False)"
   ]
  },
  {
   "cell_type": "code",
   "execution_count": 58,
   "id": "40d325c5",
   "metadata": {},
   "outputs": [],
   "source": [
    "# to check the available data in the local repository\n",
    "\n",
    "#!ls '/Users/OLALYTICS/dsp-olanrewaju-adegoke/data/'"
   ]
  },
  {
   "cell_type": "code",
   "execution_count": 59,
   "id": "7c90db89",
   "metadata": {},
   "outputs": [],
   "source": [
    "# reading data from the parquet\n",
    "\n",
    "#combined_parq_df = pd.read_parquet(dataPATH + 'combined_parq_df.parquet')\n",
    "\n",
    "#combined_parq_df.head()"
   ]
  },
  {
   "cell_type": "markdown",
   "id": "4e170959",
   "metadata": {},
   "source": [
    "#### testing for difference or bugs"
   ]
  },
  {
   "cell_type": "code",
   "execution_count": 60,
   "id": "0c4f1b00",
   "metadata": {},
   "outputs": [],
   "source": [
    "# resetting the index of both dataset"
   ]
  },
  {
   "cell_type": "code",
   "execution_count": 61,
   "id": "f7b60f15",
   "metadata": {},
   "outputs": [],
   "source": [
    "#combined_parq_df = combined_parq_df.reset_index(drop = True)\n",
    "\n",
    "#combined_dataset = combined_dataset.reset_index(drop = True)"
   ]
  },
  {
   "cell_type": "code",
   "execution_count": 62,
   "id": "b8d9e5e5",
   "metadata": {},
   "outputs": [],
   "source": [
    "# the testing code to be sure the output didn't change regardless of refactoring\n",
    "\n",
    "#pd.testing.assert_frame_equal(combined_parq_df, combined_dataset)"
   ]
  },
  {
   "cell_type": "code",
   "execution_count": 63,
   "id": "580799de",
   "metadata": {},
   "outputs": [],
   "source": [
    "# to ascertain the testinng is functional and working\n",
    "\n",
    "#pd.testing.assert_frame_equal(combined_parq_df.drop(columns = ['YearBuilt']), combined_dataset)\n",
    "\n"
   ]
  },
  {
   "cell_type": "code",
   "execution_count": null,
   "id": "293e24ea",
   "metadata": {},
   "outputs": [],
   "source": []
  }
 ],
 "metadata": {
  "kernelspec": {
   "display_name": "Python 3 (ipykernel)",
   "language": "python",
   "name": "python3"
  },
  "language_info": {
   "codemirror_mode": {
    "name": "ipython",
    "version": 3
   },
   "file_extension": ".py",
   "mimetype": "text/x-python",
   "name": "python",
   "nbconvert_exporter": "python",
   "pygments_lexer": "ipython3",
   "version": "3.9.18"
  }
 },
 "nbformat": 4,
 "nbformat_minor": 5
}
