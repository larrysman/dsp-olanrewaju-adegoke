{
 "cells": [
  {
   "cell_type": "markdown",
   "id": "ca8a5b77",
   "metadata": {},
   "source": [
    "## House Price Modeling Using Linear Regression\n",
    "\n",
    "**Data Science in Production**\n",
    "\n",
    "###### data source: https://www.kaggle.com/competitions/house-prices-advanced-regression-techniques/data?select=train.csv\n",
    "\n",
    "**`Adegoke Olanrewaju`**"
   ]
  },
  {
   "cell_type": "markdown",
   "id": "a5f20d22",
   "metadata": {},
   "source": [
    "### importing the libraries"
   ]
  },
  {
   "cell_type": "code",
   "execution_count": 1,
   "id": "48c8622e",
   "metadata": {},
   "outputs": [],
   "source": [
    "import numpy as np\n",
    "\n",
    "import pandas as pd\n",
    "\n",
    "import sklearn\n",
    "\n",
    "from sklearn.model_selection import train_test_split\n",
    "\n",
    "from sklearn.preprocessing import OneHotEncoder\n",
    "\n",
    "from sklearn.preprocessing import StandardScaler\n",
    "\n",
    "from sklearn.linear_model import LinearRegression\n",
    "\n",
    "from sklearn.metrics import mean_squared_error, mean_squared_log_error\n",
    "\n",
    "import joblib"
   ]
  },
  {
   "cell_type": "markdown",
   "id": "e2ad205f",
   "metadata": {},
   "source": [
    "### Model Building Section"
   ]
  },
  {
   "cell_type": "markdown",
   "id": "4318d0ed",
   "metadata": {},
   "source": [
    "#### Model training"
   ]
  },
  {
   "cell_type": "code",
   "execution_count": 2,
   "id": "aa0c2525",
   "metadata": {},
   "outputs": [],
   "source": [
    "# Local system path for the dataset\n",
    "\n",
    "dataPATH = '/Users/OLALYTICS/dsp-olanrewaju-adegoke/data/'"
   ]
  },
  {
   "cell_type": "code",
   "execution_count": 3,
   "id": "dfa9443c",
   "metadata": {},
   "outputs": [
    {
     "data": {
      "text/html": [
       "<div>\n",
       "<style scoped>\n",
       "    .dataframe tbody tr th:only-of-type {\n",
       "        vertical-align: middle;\n",
       "    }\n",
       "\n",
       "    .dataframe tbody tr th {\n",
       "        vertical-align: top;\n",
       "    }\n",
       "\n",
       "    .dataframe thead th {\n",
       "        text-align: right;\n",
       "    }\n",
       "</style>\n",
       "<table border=\"1\" class=\"dataframe\">\n",
       "  <thead>\n",
       "    <tr style=\"text-align: right;\">\n",
       "      <th></th>\n",
       "      <th>Id</th>\n",
       "      <th>MSSubClass</th>\n",
       "      <th>MSZoning</th>\n",
       "      <th>LotFrontage</th>\n",
       "      <th>LotArea</th>\n",
       "      <th>Street</th>\n",
       "      <th>Alley</th>\n",
       "      <th>LotShape</th>\n",
       "      <th>LandContour</th>\n",
       "      <th>Utilities</th>\n",
       "      <th>...</th>\n",
       "      <th>PoolArea</th>\n",
       "      <th>PoolQC</th>\n",
       "      <th>Fence</th>\n",
       "      <th>MiscFeature</th>\n",
       "      <th>MiscVal</th>\n",
       "      <th>MoSold</th>\n",
       "      <th>YrSold</th>\n",
       "      <th>SaleType</th>\n",
       "      <th>SaleCondition</th>\n",
       "      <th>SalePrice</th>\n",
       "    </tr>\n",
       "  </thead>\n",
       "  <tbody>\n",
       "    <tr>\n",
       "      <th>0</th>\n",
       "      <td>1</td>\n",
       "      <td>60</td>\n",
       "      <td>RL</td>\n",
       "      <td>65.0</td>\n",
       "      <td>8450</td>\n",
       "      <td>Pave</td>\n",
       "      <td>NaN</td>\n",
       "      <td>Reg</td>\n",
       "      <td>Lvl</td>\n",
       "      <td>AllPub</td>\n",
       "      <td>...</td>\n",
       "      <td>0</td>\n",
       "      <td>NaN</td>\n",
       "      <td>NaN</td>\n",
       "      <td>NaN</td>\n",
       "      <td>0</td>\n",
       "      <td>2</td>\n",
       "      <td>2008</td>\n",
       "      <td>WD</td>\n",
       "      <td>Normal</td>\n",
       "      <td>208500</td>\n",
       "    </tr>\n",
       "    <tr>\n",
       "      <th>1</th>\n",
       "      <td>2</td>\n",
       "      <td>20</td>\n",
       "      <td>RL</td>\n",
       "      <td>80.0</td>\n",
       "      <td>9600</td>\n",
       "      <td>Pave</td>\n",
       "      <td>NaN</td>\n",
       "      <td>Reg</td>\n",
       "      <td>Lvl</td>\n",
       "      <td>AllPub</td>\n",
       "      <td>...</td>\n",
       "      <td>0</td>\n",
       "      <td>NaN</td>\n",
       "      <td>NaN</td>\n",
       "      <td>NaN</td>\n",
       "      <td>0</td>\n",
       "      <td>5</td>\n",
       "      <td>2007</td>\n",
       "      <td>WD</td>\n",
       "      <td>Normal</td>\n",
       "      <td>181500</td>\n",
       "    </tr>\n",
       "    <tr>\n",
       "      <th>2</th>\n",
       "      <td>3</td>\n",
       "      <td>60</td>\n",
       "      <td>RL</td>\n",
       "      <td>68.0</td>\n",
       "      <td>11250</td>\n",
       "      <td>Pave</td>\n",
       "      <td>NaN</td>\n",
       "      <td>IR1</td>\n",
       "      <td>Lvl</td>\n",
       "      <td>AllPub</td>\n",
       "      <td>...</td>\n",
       "      <td>0</td>\n",
       "      <td>NaN</td>\n",
       "      <td>NaN</td>\n",
       "      <td>NaN</td>\n",
       "      <td>0</td>\n",
       "      <td>9</td>\n",
       "      <td>2008</td>\n",
       "      <td>WD</td>\n",
       "      <td>Normal</td>\n",
       "      <td>223500</td>\n",
       "    </tr>\n",
       "    <tr>\n",
       "      <th>3</th>\n",
       "      <td>4</td>\n",
       "      <td>70</td>\n",
       "      <td>RL</td>\n",
       "      <td>60.0</td>\n",
       "      <td>9550</td>\n",
       "      <td>Pave</td>\n",
       "      <td>NaN</td>\n",
       "      <td>IR1</td>\n",
       "      <td>Lvl</td>\n",
       "      <td>AllPub</td>\n",
       "      <td>...</td>\n",
       "      <td>0</td>\n",
       "      <td>NaN</td>\n",
       "      <td>NaN</td>\n",
       "      <td>NaN</td>\n",
       "      <td>0</td>\n",
       "      <td>2</td>\n",
       "      <td>2006</td>\n",
       "      <td>WD</td>\n",
       "      <td>Abnorml</td>\n",
       "      <td>140000</td>\n",
       "    </tr>\n",
       "    <tr>\n",
       "      <th>4</th>\n",
       "      <td>5</td>\n",
       "      <td>60</td>\n",
       "      <td>RL</td>\n",
       "      <td>84.0</td>\n",
       "      <td>14260</td>\n",
       "      <td>Pave</td>\n",
       "      <td>NaN</td>\n",
       "      <td>IR1</td>\n",
       "      <td>Lvl</td>\n",
       "      <td>AllPub</td>\n",
       "      <td>...</td>\n",
       "      <td>0</td>\n",
       "      <td>NaN</td>\n",
       "      <td>NaN</td>\n",
       "      <td>NaN</td>\n",
       "      <td>0</td>\n",
       "      <td>12</td>\n",
       "      <td>2008</td>\n",
       "      <td>WD</td>\n",
       "      <td>Normal</td>\n",
       "      <td>250000</td>\n",
       "    </tr>\n",
       "  </tbody>\n",
       "</table>\n",
       "<p>5 rows × 81 columns</p>\n",
       "</div>"
      ],
      "text/plain": [
       "   Id  MSSubClass MSZoning  LotFrontage  LotArea Street Alley LotShape  \\\n",
       "0   1          60       RL         65.0     8450   Pave   NaN      Reg   \n",
       "1   2          20       RL         80.0     9600   Pave   NaN      Reg   \n",
       "2   3          60       RL         68.0    11250   Pave   NaN      IR1   \n",
       "3   4          70       RL         60.0     9550   Pave   NaN      IR1   \n",
       "4   5          60       RL         84.0    14260   Pave   NaN      IR1   \n",
       "\n",
       "  LandContour Utilities  ... PoolArea PoolQC Fence MiscFeature MiscVal MoSold  \\\n",
       "0         Lvl    AllPub  ...        0    NaN   NaN         NaN       0      2   \n",
       "1         Lvl    AllPub  ...        0    NaN   NaN         NaN       0      5   \n",
       "2         Lvl    AllPub  ...        0    NaN   NaN         NaN       0      9   \n",
       "3         Lvl    AllPub  ...        0    NaN   NaN         NaN       0      2   \n",
       "4         Lvl    AllPub  ...        0    NaN   NaN         NaN       0     12   \n",
       "\n",
       "  YrSold  SaleType  SaleCondition  SalePrice  \n",
       "0   2008        WD         Normal     208500  \n",
       "1   2007        WD         Normal     181500  \n",
       "2   2008        WD         Normal     223500  \n",
       "3   2006        WD        Abnorml     140000  \n",
       "4   2008        WD         Normal     250000  \n",
       "\n",
       "[5 rows x 81 columns]"
      ]
     },
     "execution_count": 3,
     "metadata": {},
     "output_type": "execute_result"
    }
   ],
   "source": [
    "# Loading the train.csv dataset from path\n",
    "\n",
    "train_csv_master = pd.read_csv(dataPATH + 'train.csv')\n",
    "\n",
    "train_csv = train_csv_master.copy()\n",
    "\n",
    "train_csv.head()\n"
   ]
  },
  {
   "cell_type": "code",
   "execution_count": 4,
   "id": "b4242641",
   "metadata": {},
   "outputs": [],
   "source": [
    "# Selecting the relevant features and target from the large dataset\n",
    "\n",
    "train_csv_use = train_csv[['MSZoning','HouseStyle','YearBuilt',\n",
    "                        'TotalBsmtSF','MiscVal','SalePrice']]"
   ]
  },
  {
   "cell_type": "code",
   "execution_count": 5,
   "id": "c009f8a2",
   "metadata": {},
   "outputs": [],
   "source": [
    "# Selecting the categorical and continuous features\n",
    "\n",
    "categorical_features = ['MSZoning','HouseStyle']\n",
    "\n",
    "continuous_features = ['YearBuilt','TotalBsmtSF','MiscVal']\n",
    "\n",
    "# Defining the features and target\n",
    "\n",
    "features = train_csv_use[categorical_features + continuous_features]\n",
    "\n",
    "target = train_csv_use['SalePrice']\n"
   ]
  },
  {
   "cell_type": "code",
   "execution_count": 6,
   "id": "7363f594",
   "metadata": {},
   "outputs": [],
   "source": [
    "# Splitting of the dataset into train and test sets\n",
    "\n",
    "X_train, X_test, y_train, y_test = train_test_split(features, target, \n",
    "                                    test_size = 0.3, random_state = 42)\n"
   ]
  },
  {
   "cell_type": "markdown",
   "id": "cc5432a2",
   "metadata": {},
   "source": [
    "#### Preprocessing and feature engineering of the X_train set"
   ]
  },
  {
   "cell_type": "markdown",
   "id": "38efde2d",
   "metadata": {},
   "source": [
    "###### OneHotEncoding for the categorical variables"
   ]
  },
  {
   "cell_type": "code",
   "execution_count": 7,
   "id": "c238789b",
   "metadata": {},
   "outputs": [],
   "source": [
    "oneHot = OneHotEncoder(drop = 'first', sparse = False)\n",
    "\n",
    "oneHot.fit(X_train[categorical_features])\n",
    "\n",
    "X_train_cat = oneHot.transform(X_train[categorical_features])\n",
    "\n",
    "X_train_cat_DF = pd.DataFrame(X_train_cat, columns = oneHot.get_feature_names(categorical_features ))\n"
   ]
  },
  {
   "cell_type": "markdown",
   "id": "0483aa32",
   "metadata": {},
   "source": [
    "#### Persisting the OneHotEncoders for X_train set"
   ]
  },
  {
   "cell_type": "code",
   "execution_count": 8,
   "id": "0b9b2be0",
   "metadata": {},
   "outputs": [],
   "source": [
    "# Accessing the path to the models folder from root\n",
    "\n",
    "!cd ../models"
   ]
  },
  {
   "cell_type": "code",
   "execution_count": 9,
   "id": "9f6e034c",
   "metadata": {},
   "outputs": [
    {
     "data": {
      "text/plain": [
       "['../models/oneHot.joblib']"
      ]
     },
     "execution_count": 9,
     "metadata": {},
     "output_type": "execute_result"
    }
   ],
   "source": [
    "# Saving the oneHot in my local system in the root folder\n",
    "\n",
    "joblib.dump(oneHot, '../models/oneHot.joblib')"
   ]
  },
  {
   "cell_type": "markdown",
   "id": "155caead",
   "metadata": {},
   "source": [
    "###### StandardScaling for the continuous variables"
   ]
  },
  {
   "cell_type": "code",
   "execution_count": 10,
   "id": "c25d0182",
   "metadata": {},
   "outputs": [
    {
     "name": "stderr",
     "output_type": "stream",
     "text": [
      "/Users/OLALYTICS/anaconda3/envs/ml/lib/python3.9/site-packages/sklearn/utils/validation.py:571: FutureWarning: is_sparse is deprecated and will be removed in a future version. Check `isinstance(dtype, pd.SparseDtype)` instead.\n",
      "  array.dtypes.apply(is_sparse).any()):\n",
      "/Users/OLALYTICS/anaconda3/envs/ml/lib/python3.9/site-packages/sklearn/utils/validation.py:571: FutureWarning: is_sparse is deprecated and will be removed in a future version. Check `isinstance(dtype, pd.SparseDtype)` instead.\n",
      "  array.dtypes.apply(is_sparse).any()):\n"
     ]
    }
   ],
   "source": [
    "stdScaler = StandardScaler()\n",
    "\n",
    "stdScaler.fit(X_train[continuous_features])\n",
    "\n",
    "X_train_cont = stdScaler.transform(X_train[continuous_features])\n",
    "\n",
    "X_train_cont_DF = pd.DataFrame(X_train_cont, columns = continuous_features)\n"
   ]
  },
  {
   "cell_type": "markdown",
   "id": "3a506ec9",
   "metadata": {},
   "source": [
    "#### Persisting the StandardScale for X_train set"
   ]
  },
  {
   "cell_type": "code",
   "execution_count": 11,
   "id": "08058889",
   "metadata": {},
   "outputs": [],
   "source": [
    "# Accessing the path to the models folder from root\n",
    "\n",
    "!cd ../models"
   ]
  },
  {
   "cell_type": "code",
   "execution_count": 12,
   "id": "0561e3d1",
   "metadata": {},
   "outputs": [
    {
     "data": {
      "text/plain": [
       "['../models/stdScaler.joblib']"
      ]
     },
     "execution_count": 12,
     "metadata": {},
     "output_type": "execute_result"
    }
   ],
   "source": [
    "# Saving the oneHot in my local system in the root folder\n",
    "\n",
    "joblib.dump(stdScaler, '../models/stdScaler.joblib')"
   ]
  },
  {
   "cell_type": "markdown",
   "id": "e0819e9e",
   "metadata": {},
   "source": [
    "#### Combining all the preprocessed X_train dataset into a single X_train"
   ]
  },
  {
   "cell_type": "code",
   "execution_count": 13,
   "id": "33fbf29c",
   "metadata": {},
   "outputs": [
    {
     "data": {
      "text/html": [
       "<div>\n",
       "<style scoped>\n",
       "    .dataframe tbody tr th:only-of-type {\n",
       "        vertical-align: middle;\n",
       "    }\n",
       "\n",
       "    .dataframe tbody tr th {\n",
       "        vertical-align: top;\n",
       "    }\n",
       "\n",
       "    .dataframe thead th {\n",
       "        text-align: right;\n",
       "    }\n",
       "</style>\n",
       "<table border=\"1\" class=\"dataframe\">\n",
       "  <thead>\n",
       "    <tr style=\"text-align: right;\">\n",
       "      <th></th>\n",
       "      <th>YearBuilt</th>\n",
       "      <th>TotalBsmtSF</th>\n",
       "      <th>MiscVal</th>\n",
       "      <th>MSZoning_FV</th>\n",
       "      <th>MSZoning_RH</th>\n",
       "      <th>MSZoning_RL</th>\n",
       "      <th>MSZoning_RM</th>\n",
       "      <th>HouseStyle_1.5Unf</th>\n",
       "      <th>HouseStyle_1Story</th>\n",
       "      <th>HouseStyle_2.5Fin</th>\n",
       "      <th>HouseStyle_2.5Unf</th>\n",
       "      <th>HouseStyle_2Story</th>\n",
       "      <th>HouseStyle_SFoyer</th>\n",
       "      <th>HouseStyle_SLvl</th>\n",
       "    </tr>\n",
       "  </thead>\n",
       "  <tbody>\n",
       "    <tr>\n",
       "      <th>0</th>\n",
       "      <td>-0.032378</td>\n",
       "      <td>0.546130</td>\n",
       "      <td>-0.122987</td>\n",
       "      <td>0.0</td>\n",
       "      <td>0.0</td>\n",
       "      <td>1.0</td>\n",
       "      <td>0.0</td>\n",
       "      <td>0.0</td>\n",
       "      <td>1.0</td>\n",
       "      <td>0.0</td>\n",
       "      <td>0.0</td>\n",
       "      <td>0.0</td>\n",
       "      <td>0.0</td>\n",
       "      <td>0.0</td>\n",
       "    </tr>\n",
       "    <tr>\n",
       "      <th>1</th>\n",
       "      <td>1.106434</td>\n",
       "      <td>-1.146608</td>\n",
       "      <td>-0.122987</td>\n",
       "      <td>0.0</td>\n",
       "      <td>0.0</td>\n",
       "      <td>0.0</td>\n",
       "      <td>1.0</td>\n",
       "      <td>0.0</td>\n",
       "      <td>0.0</td>\n",
       "      <td>0.0</td>\n",
       "      <td>0.0</td>\n",
       "      <td>0.0</td>\n",
       "      <td>0.0</td>\n",
       "      <td>1.0</td>\n",
       "    </tr>\n",
       "    <tr>\n",
       "      <th>2</th>\n",
       "      <td>1.236584</td>\n",
       "      <td>-0.679260</td>\n",
       "      <td>-0.122987</td>\n",
       "      <td>1.0</td>\n",
       "      <td>0.0</td>\n",
       "      <td>0.0</td>\n",
       "      <td>0.0</td>\n",
       "      <td>0.0</td>\n",
       "      <td>0.0</td>\n",
       "      <td>0.0</td>\n",
       "      <td>0.0</td>\n",
       "      <td>1.0</td>\n",
       "      <td>0.0</td>\n",
       "      <td>0.0</td>\n",
       "    </tr>\n",
       "    <tr>\n",
       "      <th>3</th>\n",
       "      <td>1.138972</td>\n",
       "      <td>1.890034</td>\n",
       "      <td>-0.122987</td>\n",
       "      <td>0.0</td>\n",
       "      <td>0.0</td>\n",
       "      <td>1.0</td>\n",
       "      <td>0.0</td>\n",
       "      <td>0.0</td>\n",
       "      <td>1.0</td>\n",
       "      <td>0.0</td>\n",
       "      <td>0.0</td>\n",
       "      <td>0.0</td>\n",
       "      <td>0.0</td>\n",
       "      <td>0.0</td>\n",
       "    </tr>\n",
       "    <tr>\n",
       "      <th>4</th>\n",
       "      <td>0.813597</td>\n",
       "      <td>-0.583107</td>\n",
       "      <td>-0.122987</td>\n",
       "      <td>0.0</td>\n",
       "      <td>0.0</td>\n",
       "      <td>1.0</td>\n",
       "      <td>0.0</td>\n",
       "      <td>0.0</td>\n",
       "      <td>0.0</td>\n",
       "      <td>0.0</td>\n",
       "      <td>0.0</td>\n",
       "      <td>1.0</td>\n",
       "      <td>0.0</td>\n",
       "      <td>0.0</td>\n",
       "    </tr>\n",
       "  </tbody>\n",
       "</table>\n",
       "</div>"
      ],
      "text/plain": [
       "   YearBuilt  TotalBsmtSF   MiscVal  MSZoning_FV  MSZoning_RH  MSZoning_RL  \\\n",
       "0  -0.032378     0.546130 -0.122987          0.0          0.0          1.0   \n",
       "1   1.106434    -1.146608 -0.122987          0.0          0.0          0.0   \n",
       "2   1.236584    -0.679260 -0.122987          1.0          0.0          0.0   \n",
       "3   1.138972     1.890034 -0.122987          0.0          0.0          1.0   \n",
       "4   0.813597    -0.583107 -0.122987          0.0          0.0          1.0   \n",
       "\n",
       "   MSZoning_RM  HouseStyle_1.5Unf  HouseStyle_1Story  HouseStyle_2.5Fin  \\\n",
       "0          0.0                0.0                1.0                0.0   \n",
       "1          1.0                0.0                0.0                0.0   \n",
       "2          0.0                0.0                0.0                0.0   \n",
       "3          0.0                0.0                1.0                0.0   \n",
       "4          0.0                0.0                0.0                0.0   \n",
       "\n",
       "   HouseStyle_2.5Unf  HouseStyle_2Story  HouseStyle_SFoyer  HouseStyle_SLvl  \n",
       "0                0.0                0.0                0.0              0.0  \n",
       "1                0.0                0.0                0.0              1.0  \n",
       "2                0.0                1.0                0.0              0.0  \n",
       "3                0.0                0.0                0.0              0.0  \n",
       "4                0.0                1.0                0.0              0.0  "
      ]
     },
     "execution_count": 13,
     "metadata": {},
     "output_type": "execute_result"
    }
   ],
   "source": [
    "X_train = pd.concat([X_train_cont_DF, X_train_cat_DF],axis = 1)\n",
    "\n",
    "X_train.head()"
   ]
  },
  {
   "cell_type": "markdown",
   "id": "94f25255",
   "metadata": {},
   "source": [
    "#### Building an automatic testing framework\n",
    "NB: `To always check if the DataFrame remains the same after many manipulations.`"
   ]
  },
  {
   "cell_type": "code",
   "execution_count": 14,
   "id": "d89b193f",
   "metadata": {},
   "outputs": [],
   "source": [
    "# Saving the X_train_dataset into parquet locally\n",
    "\n",
    "X_train.to_parquet(dataPATH + 'X_train_df.parquet', index = False)"
   ]
  },
  {
   "cell_type": "code",
   "execution_count": 15,
   "id": "f9f01faa",
   "metadata": {},
   "outputs": [
    {
     "data": {
      "text/html": [
       "<div>\n",
       "<style scoped>\n",
       "    .dataframe tbody tr th:only-of-type {\n",
       "        vertical-align: middle;\n",
       "    }\n",
       "\n",
       "    .dataframe tbody tr th {\n",
       "        vertical-align: top;\n",
       "    }\n",
       "\n",
       "    .dataframe thead th {\n",
       "        text-align: right;\n",
       "    }\n",
       "</style>\n",
       "<table border=\"1\" class=\"dataframe\">\n",
       "  <thead>\n",
       "    <tr style=\"text-align: right;\">\n",
       "      <th></th>\n",
       "      <th>YearBuilt</th>\n",
       "      <th>TotalBsmtSF</th>\n",
       "      <th>MiscVal</th>\n",
       "      <th>MSZoning_FV</th>\n",
       "      <th>MSZoning_RH</th>\n",
       "      <th>MSZoning_RL</th>\n",
       "      <th>MSZoning_RM</th>\n",
       "      <th>HouseStyle_1.5Unf</th>\n",
       "      <th>HouseStyle_1Story</th>\n",
       "      <th>HouseStyle_2.5Fin</th>\n",
       "      <th>HouseStyle_2.5Unf</th>\n",
       "      <th>HouseStyle_2Story</th>\n",
       "      <th>HouseStyle_SFoyer</th>\n",
       "      <th>HouseStyle_SLvl</th>\n",
       "    </tr>\n",
       "  </thead>\n",
       "  <tbody>\n",
       "    <tr>\n",
       "      <th>0</th>\n",
       "      <td>-0.032378</td>\n",
       "      <td>0.546130</td>\n",
       "      <td>-0.122987</td>\n",
       "      <td>0.0</td>\n",
       "      <td>0.0</td>\n",
       "      <td>1.0</td>\n",
       "      <td>0.0</td>\n",
       "      <td>0.0</td>\n",
       "      <td>1.0</td>\n",
       "      <td>0.0</td>\n",
       "      <td>0.0</td>\n",
       "      <td>0.0</td>\n",
       "      <td>0.0</td>\n",
       "      <td>0.0</td>\n",
       "    </tr>\n",
       "    <tr>\n",
       "      <th>1</th>\n",
       "      <td>1.106434</td>\n",
       "      <td>-1.146608</td>\n",
       "      <td>-0.122987</td>\n",
       "      <td>0.0</td>\n",
       "      <td>0.0</td>\n",
       "      <td>0.0</td>\n",
       "      <td>1.0</td>\n",
       "      <td>0.0</td>\n",
       "      <td>0.0</td>\n",
       "      <td>0.0</td>\n",
       "      <td>0.0</td>\n",
       "      <td>0.0</td>\n",
       "      <td>0.0</td>\n",
       "      <td>1.0</td>\n",
       "    </tr>\n",
       "    <tr>\n",
       "      <th>2</th>\n",
       "      <td>1.236584</td>\n",
       "      <td>-0.679260</td>\n",
       "      <td>-0.122987</td>\n",
       "      <td>1.0</td>\n",
       "      <td>0.0</td>\n",
       "      <td>0.0</td>\n",
       "      <td>0.0</td>\n",
       "      <td>0.0</td>\n",
       "      <td>0.0</td>\n",
       "      <td>0.0</td>\n",
       "      <td>0.0</td>\n",
       "      <td>1.0</td>\n",
       "      <td>0.0</td>\n",
       "      <td>0.0</td>\n",
       "    </tr>\n",
       "    <tr>\n",
       "      <th>3</th>\n",
       "      <td>1.138972</td>\n",
       "      <td>1.890034</td>\n",
       "      <td>-0.122987</td>\n",
       "      <td>0.0</td>\n",
       "      <td>0.0</td>\n",
       "      <td>1.0</td>\n",
       "      <td>0.0</td>\n",
       "      <td>0.0</td>\n",
       "      <td>1.0</td>\n",
       "      <td>0.0</td>\n",
       "      <td>0.0</td>\n",
       "      <td>0.0</td>\n",
       "      <td>0.0</td>\n",
       "      <td>0.0</td>\n",
       "    </tr>\n",
       "    <tr>\n",
       "      <th>4</th>\n",
       "      <td>0.813597</td>\n",
       "      <td>-0.583107</td>\n",
       "      <td>-0.122987</td>\n",
       "      <td>0.0</td>\n",
       "      <td>0.0</td>\n",
       "      <td>1.0</td>\n",
       "      <td>0.0</td>\n",
       "      <td>0.0</td>\n",
       "      <td>0.0</td>\n",
       "      <td>0.0</td>\n",
       "      <td>0.0</td>\n",
       "      <td>1.0</td>\n",
       "      <td>0.0</td>\n",
       "      <td>0.0</td>\n",
       "    </tr>\n",
       "  </tbody>\n",
       "</table>\n",
       "</div>"
      ],
      "text/plain": [
       "   YearBuilt  TotalBsmtSF   MiscVal  MSZoning_FV  MSZoning_RH  MSZoning_RL  \\\n",
       "0  -0.032378     0.546130 -0.122987          0.0          0.0          1.0   \n",
       "1   1.106434    -1.146608 -0.122987          0.0          0.0          0.0   \n",
       "2   1.236584    -0.679260 -0.122987          1.0          0.0          0.0   \n",
       "3   1.138972     1.890034 -0.122987          0.0          0.0          1.0   \n",
       "4   0.813597    -0.583107 -0.122987          0.0          0.0          1.0   \n",
       "\n",
       "   MSZoning_RM  HouseStyle_1.5Unf  HouseStyle_1Story  HouseStyle_2.5Fin  \\\n",
       "0          0.0                0.0                1.0                0.0   \n",
       "1          1.0                0.0                0.0                0.0   \n",
       "2          0.0                0.0                0.0                0.0   \n",
       "3          0.0                0.0                1.0                0.0   \n",
       "4          0.0                0.0                0.0                0.0   \n",
       "\n",
       "   HouseStyle_2.5Unf  HouseStyle_2Story  HouseStyle_SFoyer  HouseStyle_SLvl  \n",
       "0                0.0                0.0                0.0              0.0  \n",
       "1                0.0                0.0                0.0              1.0  \n",
       "2                0.0                1.0                0.0              0.0  \n",
       "3                0.0                0.0                0.0              0.0  \n",
       "4                0.0                1.0                0.0              0.0  "
      ]
     },
     "execution_count": 15,
     "metadata": {},
     "output_type": "execute_result"
    }
   ],
   "source": [
    "# Reading the X_train_dataset from the parquet\n",
    "\n",
    "X_train_df = pd.read_parquet(dataPATH + 'X_train_df.parquet')\n",
    "\n",
    "X_train_df.head()"
   ]
  },
  {
   "cell_type": "code",
   "execution_count": 16,
   "id": "abb47384",
   "metadata": {},
   "outputs": [],
   "source": [
    "# Resetting the index of both dataset - X_train and X_train_df\n",
    "\n",
    "X_train_df = X_train_df.reset_index(drop = True)\n",
    "\n",
    "X_train = X_train.reset_index(drop = True)       # The X_train here will be the output of the refactoring dataset"
   ]
  },
  {
   "cell_type": "code",
   "execution_count": 17,
   "id": "c7ae0695",
   "metadata": {},
   "outputs": [],
   "source": [
    "# Automatic testing of the code to be sure the DataFrame output remains the same\n",
    "\n",
    "pd.testing.assert_frame_equal(X_train_df, X_train)"
   ]
  },
  {
   "cell_type": "code",
   "execution_count": null,
   "id": "7561b227",
   "metadata": {},
   "outputs": [],
   "source": []
  },
  {
   "cell_type": "markdown",
   "id": "a20bc0b1",
   "metadata": {},
   "source": [
    "#### Model training and fitting"
   ]
  },
  {
   "cell_type": "code",
   "execution_count": 18,
   "id": "01e0188c",
   "metadata": {},
   "outputs": [
    {
     "name": "stderr",
     "output_type": "stream",
     "text": [
      "/Users/OLALYTICS/anaconda3/envs/ml/lib/python3.9/site-packages/sklearn/utils/validation.py:571: FutureWarning: is_sparse is deprecated and will be removed in a future version. Check `isinstance(dtype, pd.SparseDtype)` instead.\n",
      "  array.dtypes.apply(is_sparse).any()):\n"
     ]
    },
    {
     "data": {
      "text/plain": [
       "LinearRegression()"
      ]
     },
     "execution_count": 18,
     "metadata": {},
     "output_type": "execute_result"
    }
   ],
   "source": [
    "# Fit the model on the data using LinearRegression\n",
    "\n",
    "LinReg = LinearRegression()\n",
    "\n",
    "LinReg.fit(X_train, y_train)\n"
   ]
  },
  {
   "cell_type": "markdown",
   "id": "4d40410d",
   "metadata": {},
   "source": [
    "#### Persisting the LinearRegression model for X_train dataset"
   ]
  },
  {
   "cell_type": "code",
   "execution_count": 19,
   "id": "1b699ff9",
   "metadata": {},
   "outputs": [],
   "source": [
    "# switching to the models directory\n",
    "\n",
    "!cd ../models"
   ]
  },
  {
   "cell_type": "code",
   "execution_count": null,
   "id": "9fcd749f",
   "metadata": {},
   "outputs": [],
   "source": []
  },
  {
   "cell_type": "code",
   "execution_count": 20,
   "id": "7546f38b",
   "metadata": {},
   "outputs": [
    {
     "data": {
      "text/plain": [
       "['../models/LinReg.joblib']"
      ]
     },
     "execution_count": 20,
     "metadata": {},
     "output_type": "execute_result"
    }
   ],
   "source": [
    "# saving the LinearRegression to the models folder\n",
    "\n",
    "joblib.dump(LinReg, '../models/LinReg.joblib')"
   ]
  },
  {
   "cell_type": "markdown",
   "id": "ec981cb8",
   "metadata": {},
   "source": [
    "### Model Evaluation"
   ]
  },
  {
   "cell_type": "markdown",
   "id": "fa9cf616",
   "metadata": {},
   "source": [
    "#### Preprocessing and Feature Engineering on the X_test set"
   ]
  },
  {
   "cell_type": "markdown",
   "id": "603b1c09",
   "metadata": {},
   "source": [
    "###### Preprocessing of the X_test set"
   ]
  },
  {
   "cell_type": "code",
   "execution_count": 21,
   "id": "34b32ebe",
   "metadata": {},
   "outputs": [],
   "source": [
    "# Loading the models file for the OneHotEncoding\n",
    "\n",
    "loaded_oneHot = joblib.load('../models/oneHot.joblib')"
   ]
  },
  {
   "cell_type": "code",
   "execution_count": 22,
   "id": "05eba1f2",
   "metadata": {},
   "outputs": [],
   "source": [
    "# Transforming the dataset using the model's file for categorical variables \n",
    "\n",
    "X_test_cat = loaded_oneHot.transform(X_test[categorical_features])\n",
    "\n",
    "X_test_cat_DF = pd.DataFrame(X_test_cat, columns = loaded_oneHot.get_feature_names(categorical_features ))\n"
   ]
  },
  {
   "cell_type": "code",
   "execution_count": 23,
   "id": "0733ab4b",
   "metadata": {},
   "outputs": [],
   "source": [
    "# Loading the models file for the StandardScaler\n",
    "\n",
    "loaded_stdScaler = joblib.load('../models/stdScaler.joblib')"
   ]
  },
  {
   "cell_type": "code",
   "execution_count": 24,
   "id": "3f46dd78",
   "metadata": {},
   "outputs": [
    {
     "name": "stderr",
     "output_type": "stream",
     "text": [
      "/Users/OLALYTICS/anaconda3/envs/ml/lib/python3.9/site-packages/sklearn/utils/validation.py:571: FutureWarning: is_sparse is deprecated and will be removed in a future version. Check `isinstance(dtype, pd.SparseDtype)` instead.\n",
      "  array.dtypes.apply(is_sparse).any()):\n"
     ]
    }
   ],
   "source": [
    "# Transforming the dataset using the model's file for categorical variables \n",
    "\n",
    "X_test_cont = loaded_stdScaler.transform(X_test[continuous_features])\n",
    "\n",
    "X_test_cont_DF = pd.DataFrame(X_test_cont, columns = continuous_features)\n"
   ]
  },
  {
   "cell_type": "markdown",
   "id": "37335924",
   "metadata": {},
   "source": [
    "### Combining the X_test set for categorical and continuous features"
   ]
  },
  {
   "cell_type": "code",
   "execution_count": 25,
   "id": "899a01ef",
   "metadata": {
    "scrolled": true
   },
   "outputs": [
    {
     "data": {
      "text/html": [
       "<div>\n",
       "<style scoped>\n",
       "    .dataframe tbody tr th:only-of-type {\n",
       "        vertical-align: middle;\n",
       "    }\n",
       "\n",
       "    .dataframe tbody tr th {\n",
       "        vertical-align: top;\n",
       "    }\n",
       "\n",
       "    .dataframe thead th {\n",
       "        text-align: right;\n",
       "    }\n",
       "</style>\n",
       "<table border=\"1\" class=\"dataframe\">\n",
       "  <thead>\n",
       "    <tr style=\"text-align: right;\">\n",
       "      <th></th>\n",
       "      <th>YearBuilt</th>\n",
       "      <th>TotalBsmtSF</th>\n",
       "      <th>MiscVal</th>\n",
       "      <th>MSZoning_FV</th>\n",
       "      <th>MSZoning_RH</th>\n",
       "      <th>MSZoning_RL</th>\n",
       "      <th>MSZoning_RM</th>\n",
       "      <th>HouseStyle_1.5Unf</th>\n",
       "      <th>HouseStyle_1Story</th>\n",
       "      <th>HouseStyle_2.5Fin</th>\n",
       "      <th>HouseStyle_2.5Unf</th>\n",
       "      <th>HouseStyle_2Story</th>\n",
       "      <th>HouseStyle_SFoyer</th>\n",
       "      <th>HouseStyle_SLvl</th>\n",
       "    </tr>\n",
       "  </thead>\n",
       "  <tbody>\n",
       "    <tr>\n",
       "      <th>0</th>\n",
       "      <td>-0.260141</td>\n",
       "      <td>-0.001718</td>\n",
       "      <td>-0.122987</td>\n",
       "      <td>0.0</td>\n",
       "      <td>0.0</td>\n",
       "      <td>1.0</td>\n",
       "      <td>0.0</td>\n",
       "      <td>0.0</td>\n",
       "      <td>1.0</td>\n",
       "      <td>0.0</td>\n",
       "      <td>0.0</td>\n",
       "      <td>0.0</td>\n",
       "      <td>0.0</td>\n",
       "      <td>0.0</td>\n",
       "    </tr>\n",
       "    <tr>\n",
       "      <th>1</th>\n",
       "      <td>0.748522</td>\n",
       "      <td>0.901672</td>\n",
       "      <td>-0.122987</td>\n",
       "      <td>0.0</td>\n",
       "      <td>0.0</td>\n",
       "      <td>1.0</td>\n",
       "      <td>0.0</td>\n",
       "      <td>0.0</td>\n",
       "      <td>0.0</td>\n",
       "      <td>0.0</td>\n",
       "      <td>0.0</td>\n",
       "      <td>1.0</td>\n",
       "      <td>0.0</td>\n",
       "      <td>0.0</td>\n",
       "    </tr>\n",
       "    <tr>\n",
       "      <th>2</th>\n",
       "      <td>-1.431491</td>\n",
       "      <td>-0.115759</td>\n",
       "      <td>-0.122987</td>\n",
       "      <td>0.0</td>\n",
       "      <td>0.0</td>\n",
       "      <td>0.0</td>\n",
       "      <td>1.0</td>\n",
       "      <td>0.0</td>\n",
       "      <td>1.0</td>\n",
       "      <td>0.0</td>\n",
       "      <td>0.0</td>\n",
       "      <td>0.0</td>\n",
       "      <td>0.0</td>\n",
       "      <td>0.0</td>\n",
       "    </tr>\n",
       "    <tr>\n",
       "      <th>3</th>\n",
       "      <td>-0.780741</td>\n",
       "      <td>-0.124704</td>\n",
       "      <td>-0.122987</td>\n",
       "      <td>0.0</td>\n",
       "      <td>0.0</td>\n",
       "      <td>0.0</td>\n",
       "      <td>1.0</td>\n",
       "      <td>0.0</td>\n",
       "      <td>0.0</td>\n",
       "      <td>0.0</td>\n",
       "      <td>0.0</td>\n",
       "      <td>0.0</td>\n",
       "      <td>0.0</td>\n",
       "      <td>0.0</td>\n",
       "    </tr>\n",
       "    <tr>\n",
       "      <th>4</th>\n",
       "      <td>1.171509</td>\n",
       "      <td>1.252742</td>\n",
       "      <td>-0.122987</td>\n",
       "      <td>0.0</td>\n",
       "      <td>0.0</td>\n",
       "      <td>1.0</td>\n",
       "      <td>0.0</td>\n",
       "      <td>0.0</td>\n",
       "      <td>1.0</td>\n",
       "      <td>0.0</td>\n",
       "      <td>0.0</td>\n",
       "      <td>0.0</td>\n",
       "      <td>0.0</td>\n",
       "      <td>0.0</td>\n",
       "    </tr>\n",
       "  </tbody>\n",
       "</table>\n",
       "</div>"
      ],
      "text/plain": [
       "   YearBuilt  TotalBsmtSF   MiscVal  MSZoning_FV  MSZoning_RH  MSZoning_RL  \\\n",
       "0  -0.260141    -0.001718 -0.122987          0.0          0.0          1.0   \n",
       "1   0.748522     0.901672 -0.122987          0.0          0.0          1.0   \n",
       "2  -1.431491    -0.115759 -0.122987          0.0          0.0          0.0   \n",
       "3  -0.780741    -0.124704 -0.122987          0.0          0.0          0.0   \n",
       "4   1.171509     1.252742 -0.122987          0.0          0.0          1.0   \n",
       "\n",
       "   MSZoning_RM  HouseStyle_1.5Unf  HouseStyle_1Story  HouseStyle_2.5Fin  \\\n",
       "0          0.0                0.0                1.0                0.0   \n",
       "1          0.0                0.0                0.0                0.0   \n",
       "2          1.0                0.0                1.0                0.0   \n",
       "3          1.0                0.0                0.0                0.0   \n",
       "4          0.0                0.0                1.0                0.0   \n",
       "\n",
       "   HouseStyle_2.5Unf  HouseStyle_2Story  HouseStyle_SFoyer  HouseStyle_SLvl  \n",
       "0                0.0                0.0                0.0              0.0  \n",
       "1                0.0                1.0                0.0              0.0  \n",
       "2                0.0                0.0                0.0              0.0  \n",
       "3                0.0                0.0                0.0              0.0  \n",
       "4                0.0                0.0                0.0              0.0  "
      ]
     },
     "execution_count": 25,
     "metadata": {},
     "output_type": "execute_result"
    }
   ],
   "source": [
    "X_test = pd.concat([X_test_cont_DF, X_test_cat_DF],axis = 1)\n",
    "\n",
    "X_test.head()"
   ]
  },
  {
   "cell_type": "code",
   "execution_count": null,
   "id": "5ccea07d",
   "metadata": {},
   "outputs": [],
   "source": []
  },
  {
   "cell_type": "markdown",
   "id": "9df6f95d",
   "metadata": {},
   "source": [
    "#### Building an automatic testing framework for X_test"
   ]
  },
  {
   "cell_type": "code",
   "execution_count": 26,
   "id": "4e423a2f",
   "metadata": {},
   "outputs": [],
   "source": [
    "# Saving the X_test_dataset into parquet\n",
    "\n",
    "X_test.to_parquet(dataPATH + 'X_test_df.parquet', index = False)\n",
    "\n",
    "# Reading data from the parquet\n",
    "\n",
    "X_test_df = pd.read_parquet(dataPATH + 'X_test_df.parquet')\n",
    "\n",
    "# Resetting the index of both dataset\n",
    "\n",
    "X_test_df = X_test_df.reset_index(drop = True)\n",
    "\n",
    "X_test = X_test.reset_index(drop = True)       # The X_test here will be the output of the refactoring dataset\n",
    "\n",
    "# automatic testing of the code to be sure the DataFrame output didn't change regardless of refactoring\n",
    "\n",
    "pd.testing.assert_frame_equal(X_test_df, X_test)\n"
   ]
  },
  {
   "cell_type": "markdown",
   "id": "b9d17ad5",
   "metadata": {},
   "source": [
    "#### Model predictions using the X_test  from the train_test_split"
   ]
  },
  {
   "cell_type": "code",
   "execution_count": 27,
   "id": "5298fac2",
   "metadata": {},
   "outputs": [],
   "source": [
    "# Loading the regression model from models folder\n",
    "\n",
    "LinReg_model = joblib.load('../models/LinReg.joblib')"
   ]
  },
  {
   "cell_type": "code",
   "execution_count": 28,
   "id": "ec463c12",
   "metadata": {},
   "outputs": [
    {
     "name": "stderr",
     "output_type": "stream",
     "text": [
      "/Users/OLALYTICS/anaconda3/envs/ml/lib/python3.9/site-packages/sklearn/utils/validation.py:571: FutureWarning: is_sparse is deprecated and will be removed in a future version. Check `isinstance(dtype, pd.SparseDtype)` instead.\n",
      "  array.dtypes.apply(is_sparse).any()):\n"
     ]
    },
    {
     "data": {
      "text/plain": [
       "array([155191.34335272, 273887.9445002 , 103572.13405251, 154350.61352743,\n",
       "       240647.02264699])"
      ]
     },
     "execution_count": 28,
     "metadata": {},
     "output_type": "execute_result"
    }
   ],
   "source": [
    "y_predicted = LinReg_model.predict(X_test)\n",
    "\n",
    "y_predicted[:5]"
   ]
  },
  {
   "cell_type": "markdown",
   "id": "03ab3abe",
   "metadata": {},
   "source": [
    "### Model evaluation and model performance"
   ]
  },
  {
   "cell_type": "code",
   "execution_count": 29,
   "id": "f75c5e59",
   "metadata": {},
   "outputs": [],
   "source": [
    "def compute_rmsle(y_test: np.ndarray, y_predicted: np.ndarray, precision: int = 2) -> float:\n",
    "    \n",
    "    msle = mean_squared_log_error(y_test, y_predicted)\n",
    "    \n",
    "    rmsle = np.sqrt(msle)\n",
    "    \n",
    "    return round(msle, precision), round(rmsle, precision)\n"
   ]
  },
  {
   "cell_type": "code",
   "execution_count": 30,
   "id": "339a8240",
   "metadata": {},
   "outputs": [
    {
     "data": {
      "text/plain": [
       "(0.06, 0.25)"
      ]
     },
     "execution_count": 30,
     "metadata": {},
     "output_type": "execute_result"
    }
   ],
   "source": [
    "\n",
    "compute_rmsle(y_test, y_predicted)     "
   ]
  },
  {
   "cell_type": "code",
   "execution_count": null,
   "id": "ae517bb6",
   "metadata": {},
   "outputs": [],
   "source": []
  },
  {
   "cell_type": "markdown",
   "id": "8b73f6e8",
   "metadata": {},
   "source": [
    "### Model Inference "
   ]
  },
  {
   "cell_type": "markdown",
   "id": "35fa236e",
   "metadata": {},
   "source": [
    "Inference is done on the test.csv dataset"
   ]
  },
  {
   "cell_type": "code",
   "execution_count": 31,
   "id": "bec05d06",
   "metadata": {
    "scrolled": true
   },
   "outputs": [
    {
     "data": {
      "text/html": [
       "<div>\n",
       "<style scoped>\n",
       "    .dataframe tbody tr th:only-of-type {\n",
       "        vertical-align: middle;\n",
       "    }\n",
       "\n",
       "    .dataframe tbody tr th {\n",
       "        vertical-align: top;\n",
       "    }\n",
       "\n",
       "    .dataframe thead th {\n",
       "        text-align: right;\n",
       "    }\n",
       "</style>\n",
       "<table border=\"1\" class=\"dataframe\">\n",
       "  <thead>\n",
       "    <tr style=\"text-align: right;\">\n",
       "      <th></th>\n",
       "      <th>Id</th>\n",
       "      <th>MSSubClass</th>\n",
       "      <th>MSZoning</th>\n",
       "      <th>LotFrontage</th>\n",
       "      <th>LotArea</th>\n",
       "      <th>Street</th>\n",
       "      <th>Alley</th>\n",
       "      <th>LotShape</th>\n",
       "      <th>LandContour</th>\n",
       "      <th>Utilities</th>\n",
       "      <th>...</th>\n",
       "      <th>ScreenPorch</th>\n",
       "      <th>PoolArea</th>\n",
       "      <th>PoolQC</th>\n",
       "      <th>Fence</th>\n",
       "      <th>MiscFeature</th>\n",
       "      <th>MiscVal</th>\n",
       "      <th>MoSold</th>\n",
       "      <th>YrSold</th>\n",
       "      <th>SaleType</th>\n",
       "      <th>SaleCondition</th>\n",
       "    </tr>\n",
       "  </thead>\n",
       "  <tbody>\n",
       "    <tr>\n",
       "      <th>0</th>\n",
       "      <td>1461</td>\n",
       "      <td>20</td>\n",
       "      <td>RH</td>\n",
       "      <td>80.0</td>\n",
       "      <td>11622</td>\n",
       "      <td>Pave</td>\n",
       "      <td>NaN</td>\n",
       "      <td>Reg</td>\n",
       "      <td>Lvl</td>\n",
       "      <td>AllPub</td>\n",
       "      <td>...</td>\n",
       "      <td>120</td>\n",
       "      <td>0</td>\n",
       "      <td>NaN</td>\n",
       "      <td>MnPrv</td>\n",
       "      <td>NaN</td>\n",
       "      <td>0</td>\n",
       "      <td>6</td>\n",
       "      <td>2010</td>\n",
       "      <td>WD</td>\n",
       "      <td>Normal</td>\n",
       "    </tr>\n",
       "    <tr>\n",
       "      <th>1</th>\n",
       "      <td>1462</td>\n",
       "      <td>20</td>\n",
       "      <td>RL</td>\n",
       "      <td>81.0</td>\n",
       "      <td>14267</td>\n",
       "      <td>Pave</td>\n",
       "      <td>NaN</td>\n",
       "      <td>IR1</td>\n",
       "      <td>Lvl</td>\n",
       "      <td>AllPub</td>\n",
       "      <td>...</td>\n",
       "      <td>0</td>\n",
       "      <td>0</td>\n",
       "      <td>NaN</td>\n",
       "      <td>NaN</td>\n",
       "      <td>Gar2</td>\n",
       "      <td>12500</td>\n",
       "      <td>6</td>\n",
       "      <td>2010</td>\n",
       "      <td>WD</td>\n",
       "      <td>Normal</td>\n",
       "    </tr>\n",
       "    <tr>\n",
       "      <th>2</th>\n",
       "      <td>1463</td>\n",
       "      <td>60</td>\n",
       "      <td>RL</td>\n",
       "      <td>74.0</td>\n",
       "      <td>13830</td>\n",
       "      <td>Pave</td>\n",
       "      <td>NaN</td>\n",
       "      <td>IR1</td>\n",
       "      <td>Lvl</td>\n",
       "      <td>AllPub</td>\n",
       "      <td>...</td>\n",
       "      <td>0</td>\n",
       "      <td>0</td>\n",
       "      <td>NaN</td>\n",
       "      <td>MnPrv</td>\n",
       "      <td>NaN</td>\n",
       "      <td>0</td>\n",
       "      <td>3</td>\n",
       "      <td>2010</td>\n",
       "      <td>WD</td>\n",
       "      <td>Normal</td>\n",
       "    </tr>\n",
       "    <tr>\n",
       "      <th>3</th>\n",
       "      <td>1464</td>\n",
       "      <td>60</td>\n",
       "      <td>RL</td>\n",
       "      <td>78.0</td>\n",
       "      <td>9978</td>\n",
       "      <td>Pave</td>\n",
       "      <td>NaN</td>\n",
       "      <td>IR1</td>\n",
       "      <td>Lvl</td>\n",
       "      <td>AllPub</td>\n",
       "      <td>...</td>\n",
       "      <td>0</td>\n",
       "      <td>0</td>\n",
       "      <td>NaN</td>\n",
       "      <td>NaN</td>\n",
       "      <td>NaN</td>\n",
       "      <td>0</td>\n",
       "      <td>6</td>\n",
       "      <td>2010</td>\n",
       "      <td>WD</td>\n",
       "      <td>Normal</td>\n",
       "    </tr>\n",
       "    <tr>\n",
       "      <th>4</th>\n",
       "      <td>1465</td>\n",
       "      <td>120</td>\n",
       "      <td>RL</td>\n",
       "      <td>43.0</td>\n",
       "      <td>5005</td>\n",
       "      <td>Pave</td>\n",
       "      <td>NaN</td>\n",
       "      <td>IR1</td>\n",
       "      <td>HLS</td>\n",
       "      <td>AllPub</td>\n",
       "      <td>...</td>\n",
       "      <td>144</td>\n",
       "      <td>0</td>\n",
       "      <td>NaN</td>\n",
       "      <td>NaN</td>\n",
       "      <td>NaN</td>\n",
       "      <td>0</td>\n",
       "      <td>1</td>\n",
       "      <td>2010</td>\n",
       "      <td>WD</td>\n",
       "      <td>Normal</td>\n",
       "    </tr>\n",
       "  </tbody>\n",
       "</table>\n",
       "<p>5 rows × 80 columns</p>\n",
       "</div>"
      ],
      "text/plain": [
       "     Id  MSSubClass MSZoning  LotFrontage  LotArea Street Alley LotShape  \\\n",
       "0  1461          20       RH         80.0    11622   Pave   NaN      Reg   \n",
       "1  1462          20       RL         81.0    14267   Pave   NaN      IR1   \n",
       "2  1463          60       RL         74.0    13830   Pave   NaN      IR1   \n",
       "3  1464          60       RL         78.0     9978   Pave   NaN      IR1   \n",
       "4  1465         120       RL         43.0     5005   Pave   NaN      IR1   \n",
       "\n",
       "  LandContour Utilities  ... ScreenPorch PoolArea PoolQC  Fence MiscFeature  \\\n",
       "0         Lvl    AllPub  ...         120        0    NaN  MnPrv         NaN   \n",
       "1         Lvl    AllPub  ...           0        0    NaN    NaN        Gar2   \n",
       "2         Lvl    AllPub  ...           0        0    NaN  MnPrv         NaN   \n",
       "3         Lvl    AllPub  ...           0        0    NaN    NaN         NaN   \n",
       "4         HLS    AllPub  ...         144        0    NaN    NaN         NaN   \n",
       "\n",
       "  MiscVal MoSold  YrSold  SaleType  SaleCondition  \n",
       "0       0      6    2010        WD         Normal  \n",
       "1   12500      6    2010        WD         Normal  \n",
       "2       0      3    2010        WD         Normal  \n",
       "3       0      6    2010        WD         Normal  \n",
       "4       0      1    2010        WD         Normal  \n",
       "\n",
       "[5 rows x 80 columns]"
      ]
     },
     "execution_count": 31,
     "metadata": {},
     "output_type": "execute_result"
    }
   ],
   "source": [
    "# Loading and reading the given test.csv dataset\n",
    "\n",
    "dataset = dataPATH + 'test.csv'\n",
    "\n",
    "test_csv_master = pd.read_csv(dataset)\n",
    "\n",
    "test_csv = test_csv_master.copy()\n",
    "\n",
    "test_csv.head()"
   ]
  },
  {
   "cell_type": "markdown",
   "id": "68bcbd8a",
   "metadata": {},
   "source": [
    "#### Preprocessing of the test_csv dataset"
   ]
  },
  {
   "cell_type": "code",
   "execution_count": 32,
   "id": "efc3c169",
   "metadata": {},
   "outputs": [],
   "source": [
    "# Defining the categorical and continuous features of the test_csv\n",
    "\n",
    "categorical_features = ['MSZoning','HouseStyle']\n",
    "\n",
    "continuous_features = ['YearBuilt','TotalBsmtSF','MiscVal']\n"
   ]
  },
  {
   "cell_type": "code",
   "execution_count": 33,
   "id": "c72fceae",
   "metadata": {},
   "outputs": [
    {
     "data": {
      "text/html": [
       "<div>\n",
       "<style scoped>\n",
       "    .dataframe tbody tr th:only-of-type {\n",
       "        vertical-align: middle;\n",
       "    }\n",
       "\n",
       "    .dataframe tbody tr th {\n",
       "        vertical-align: top;\n",
       "    }\n",
       "\n",
       "    .dataframe thead th {\n",
       "        text-align: right;\n",
       "    }\n",
       "</style>\n",
       "<table border=\"1\" class=\"dataframe\">\n",
       "  <thead>\n",
       "    <tr style=\"text-align: right;\">\n",
       "      <th></th>\n",
       "      <th>MSZoning</th>\n",
       "      <th>HouseStyle</th>\n",
       "      <th>YearBuilt</th>\n",
       "      <th>TotalBsmtSF</th>\n",
       "      <th>MiscVal</th>\n",
       "    </tr>\n",
       "  </thead>\n",
       "  <tbody>\n",
       "    <tr>\n",
       "      <th>0</th>\n",
       "      <td>RH</td>\n",
       "      <td>1Story</td>\n",
       "      <td>1961</td>\n",
       "      <td>882.0</td>\n",
       "      <td>0</td>\n",
       "    </tr>\n",
       "    <tr>\n",
       "      <th>1</th>\n",
       "      <td>RL</td>\n",
       "      <td>1Story</td>\n",
       "      <td>1958</td>\n",
       "      <td>1329.0</td>\n",
       "      <td>12500</td>\n",
       "    </tr>\n",
       "    <tr>\n",
       "      <th>2</th>\n",
       "      <td>RL</td>\n",
       "      <td>2Story</td>\n",
       "      <td>1997</td>\n",
       "      <td>928.0</td>\n",
       "      <td>0</td>\n",
       "    </tr>\n",
       "    <tr>\n",
       "      <th>3</th>\n",
       "      <td>RL</td>\n",
       "      <td>2Story</td>\n",
       "      <td>1998</td>\n",
       "      <td>926.0</td>\n",
       "      <td>0</td>\n",
       "    </tr>\n",
       "    <tr>\n",
       "      <th>4</th>\n",
       "      <td>RL</td>\n",
       "      <td>1Story</td>\n",
       "      <td>1992</td>\n",
       "      <td>1280.0</td>\n",
       "      <td>0</td>\n",
       "    </tr>\n",
       "  </tbody>\n",
       "</table>\n",
       "</div>"
      ],
      "text/plain": [
       "  MSZoning HouseStyle  YearBuilt  TotalBsmtSF  MiscVal\n",
       "0       RH     1Story       1961        882.0        0\n",
       "1       RL     1Story       1958       1329.0    12500\n",
       "2       RL     2Story       1997        928.0        0\n",
       "3       RL     2Story       1998        926.0        0\n",
       "4       RL     1Story       1992       1280.0        0"
      ]
     },
     "execution_count": 33,
     "metadata": {},
     "output_type": "execute_result"
    }
   ],
   "source": [
    "# Selecting the categorical and continuous features of the test_csv\n",
    "\n",
    "test_csv_features = test_csv[categorical_features + continuous_features]\n",
    "\n",
    "test_csv_features.head()\n"
   ]
  },
  {
   "cell_type": "code",
   "execution_count": null,
   "id": "01163a73",
   "metadata": {},
   "outputs": [],
   "source": []
  },
  {
   "cell_type": "code",
   "execution_count": 34,
   "id": "b821e299",
   "metadata": {},
   "outputs": [
    {
     "name": "stderr",
     "output_type": "stream",
     "text": [
      "/var/folders/c6/ht4lr6411jqdn8bhdr_m1dh00000gp/T/ipykernel_54482/3455942482.py:5: SettingWithCopyWarning: \n",
      "A value is trying to be set on a copy of a slice from a DataFrame\n",
      "\n",
      "See the caveats in the documentation: https://pandas.pydata.org/pandas-docs/stable/user_guide/indexing.html#returning-a-view-versus-a-copy\n",
      "  test_csv_features.dropna(inplace = True)\n"
     ]
    },
    {
     "data": {
      "text/html": [
       "<div>\n",
       "<style scoped>\n",
       "    .dataframe tbody tr th:only-of-type {\n",
       "        vertical-align: middle;\n",
       "    }\n",
       "\n",
       "    .dataframe tbody tr th {\n",
       "        vertical-align: top;\n",
       "    }\n",
       "\n",
       "    .dataframe thead th {\n",
       "        text-align: right;\n",
       "    }\n",
       "</style>\n",
       "<table border=\"1\" class=\"dataframe\">\n",
       "  <thead>\n",
       "    <tr style=\"text-align: right;\">\n",
       "      <th></th>\n",
       "      <th>MSZoning</th>\n",
       "      <th>HouseStyle</th>\n",
       "      <th>YearBuilt</th>\n",
       "      <th>TotalBsmtSF</th>\n",
       "      <th>MiscVal</th>\n",
       "    </tr>\n",
       "  </thead>\n",
       "  <tbody>\n",
       "    <tr>\n",
       "      <th>0</th>\n",
       "      <td>RH</td>\n",
       "      <td>1Story</td>\n",
       "      <td>1961</td>\n",
       "      <td>882.0</td>\n",
       "      <td>0</td>\n",
       "    </tr>\n",
       "    <tr>\n",
       "      <th>1</th>\n",
       "      <td>RL</td>\n",
       "      <td>1Story</td>\n",
       "      <td>1958</td>\n",
       "      <td>1329.0</td>\n",
       "      <td>12500</td>\n",
       "    </tr>\n",
       "    <tr>\n",
       "      <th>2</th>\n",
       "      <td>RL</td>\n",
       "      <td>2Story</td>\n",
       "      <td>1997</td>\n",
       "      <td>928.0</td>\n",
       "      <td>0</td>\n",
       "    </tr>\n",
       "    <tr>\n",
       "      <th>3</th>\n",
       "      <td>RL</td>\n",
       "      <td>2Story</td>\n",
       "      <td>1998</td>\n",
       "      <td>926.0</td>\n",
       "      <td>0</td>\n",
       "    </tr>\n",
       "    <tr>\n",
       "      <th>4</th>\n",
       "      <td>RL</td>\n",
       "      <td>1Story</td>\n",
       "      <td>1992</td>\n",
       "      <td>1280.0</td>\n",
       "      <td>0</td>\n",
       "    </tr>\n",
       "  </tbody>\n",
       "</table>\n",
       "</div>"
      ],
      "text/plain": [
       "  MSZoning HouseStyle  YearBuilt  TotalBsmtSF  MiscVal\n",
       "0       RH     1Story       1961        882.0        0\n",
       "1       RL     1Story       1958       1329.0    12500\n",
       "2       RL     2Story       1997        928.0        0\n",
       "3       RL     2Story       1998        926.0        0\n",
       "4       RL     1Story       1992       1280.0        0"
      ]
     },
     "execution_count": 34,
     "metadata": {},
     "output_type": "execute_result"
    }
   ],
   "source": [
    "# Checking for NaN values and correcting it\n",
    "\n",
    "test_csv_features.isna().sum()\n",
    "\n",
    "test_csv_features.dropna(inplace = True)\n",
    "\n",
    "test_csv_features.head()"
   ]
  },
  {
   "cell_type": "code",
   "execution_count": null,
   "id": "12e8fde6",
   "metadata": {},
   "outputs": [],
   "source": []
  },
  {
   "cell_type": "code",
   "execution_count": 35,
   "id": "b0911317",
   "metadata": {},
   "outputs": [],
   "source": [
    "# OneHotencoding for the categorical variables for the test_csv dataset"
   ]
  },
  {
   "cell_type": "code",
   "execution_count": 36,
   "id": "c9126262",
   "metadata": {},
   "outputs": [],
   "source": [
    "\n",
    "loaded_oneHot = joblib.load('../models/oneHot.joblib')"
   ]
  },
  {
   "cell_type": "code",
   "execution_count": 37,
   "id": "28d4b397",
   "metadata": {},
   "outputs": [],
   "source": [
    "test_csv_cat = loaded_oneHot.transform(test_csv_features[categorical_features])\n"
   ]
  },
  {
   "cell_type": "code",
   "execution_count": 38,
   "id": "5c942af2",
   "metadata": {},
   "outputs": [],
   "source": [
    "test_csv_cat_DF = pd.DataFrame(test_csv_cat, columns = loaded_oneHot.get_feature_names(categorical_features ))\n"
   ]
  },
  {
   "cell_type": "code",
   "execution_count": 39,
   "id": "57e7daf0",
   "metadata": {},
   "outputs": [],
   "source": [
    "# StandardScaler for the continuous variables for the test_csv dataset"
   ]
  },
  {
   "cell_type": "code",
   "execution_count": 40,
   "id": "2fd85c7f",
   "metadata": {},
   "outputs": [],
   "source": [
    "\n",
    "loaded_stdScaler = joblib.load('../models/stdScaler.joblib')"
   ]
  },
  {
   "cell_type": "code",
   "execution_count": 41,
   "id": "bb402623",
   "metadata": {},
   "outputs": [
    {
     "name": "stderr",
     "output_type": "stream",
     "text": [
      "/Users/OLALYTICS/anaconda3/envs/ml/lib/python3.9/site-packages/sklearn/utils/validation.py:571: FutureWarning: is_sparse is deprecated and will be removed in a future version. Check `isinstance(dtype, pd.SparseDtype)` instead.\n",
      "  array.dtypes.apply(is_sparse).any()):\n"
     ]
    }
   ],
   "source": [
    "\n",
    "test_csv_cont = loaded_stdScaler.transform(test_csv_features[continuous_features])\n",
    "\n",
    "test_csv_cont_DF = pd.DataFrame(test_csv_cont, columns = continuous_features)\n"
   ]
  },
  {
   "cell_type": "code",
   "execution_count": 42,
   "id": "372d881b",
   "metadata": {},
   "outputs": [
    {
     "data": {
      "text/html": [
       "<div>\n",
       "<style scoped>\n",
       "    .dataframe tbody tr th:only-of-type {\n",
       "        vertical-align: middle;\n",
       "    }\n",
       "\n",
       "    .dataframe tbody tr th {\n",
       "        vertical-align: top;\n",
       "    }\n",
       "\n",
       "    .dataframe thead th {\n",
       "        text-align: right;\n",
       "    }\n",
       "</style>\n",
       "<table border=\"1\" class=\"dataframe\">\n",
       "  <thead>\n",
       "    <tr style=\"text-align: right;\">\n",
       "      <th></th>\n",
       "      <th>YearBuilt</th>\n",
       "      <th>TotalBsmtSF</th>\n",
       "      <th>MiscVal</th>\n",
       "      <th>MSZoning_FV</th>\n",
       "      <th>MSZoning_RH</th>\n",
       "      <th>MSZoning_RL</th>\n",
       "      <th>MSZoning_RM</th>\n",
       "      <th>HouseStyle_1.5Unf</th>\n",
       "      <th>HouseStyle_1Story</th>\n",
       "      <th>HouseStyle_2.5Fin</th>\n",
       "      <th>HouseStyle_2.5Unf</th>\n",
       "      <th>HouseStyle_2Story</th>\n",
       "      <th>HouseStyle_SFoyer</th>\n",
       "      <th>HouseStyle_SLvl</th>\n",
       "    </tr>\n",
       "  </thead>\n",
       "  <tbody>\n",
       "    <tr>\n",
       "      <th>1449</th>\n",
       "      <td>-0.032378</td>\n",
       "      <td>-1.148844</td>\n",
       "      <td>-0.122987</td>\n",
       "      <td>0.0</td>\n",
       "      <td>0.0</td>\n",
       "      <td>0.0</td>\n",
       "      <td>1.0</td>\n",
       "      <td>0.0</td>\n",
       "      <td>0.0</td>\n",
       "      <td>0.0</td>\n",
       "      <td>0.0</td>\n",
       "      <td>1.0</td>\n",
       "      <td>0.0</td>\n",
       "      <td>0.0</td>\n",
       "    </tr>\n",
       "    <tr>\n",
       "      <th>1450</th>\n",
       "      <td>-0.032378</td>\n",
       "      <td>-1.148844</td>\n",
       "      <td>-0.122987</td>\n",
       "      <td>0.0</td>\n",
       "      <td>0.0</td>\n",
       "      <td>0.0</td>\n",
       "      <td>1.0</td>\n",
       "      <td>0.0</td>\n",
       "      <td>0.0</td>\n",
       "      <td>0.0</td>\n",
       "      <td>0.0</td>\n",
       "      <td>1.0</td>\n",
       "      <td>0.0</td>\n",
       "      <td>0.0</td>\n",
       "    </tr>\n",
       "    <tr>\n",
       "      <th>1451</th>\n",
       "      <td>-0.357753</td>\n",
       "      <td>0.367241</td>\n",
       "      <td>-0.122987</td>\n",
       "      <td>0.0</td>\n",
       "      <td>0.0</td>\n",
       "      <td>1.0</td>\n",
       "      <td>0.0</td>\n",
       "      <td>0.0</td>\n",
       "      <td>1.0</td>\n",
       "      <td>0.0</td>\n",
       "      <td>0.0</td>\n",
       "      <td>0.0</td>\n",
       "      <td>0.0</td>\n",
       "      <td>0.0</td>\n",
       "    </tr>\n",
       "    <tr>\n",
       "      <th>1452</th>\n",
       "      <td>0.683447</td>\n",
       "      <td>-0.330426</td>\n",
       "      <td>1.948222</td>\n",
       "      <td>0.0</td>\n",
       "      <td>0.0</td>\n",
       "      <td>1.0</td>\n",
       "      <td>0.0</td>\n",
       "      <td>0.0</td>\n",
       "      <td>0.0</td>\n",
       "      <td>0.0</td>\n",
       "      <td>0.0</td>\n",
       "      <td>0.0</td>\n",
       "      <td>1.0</td>\n",
       "      <td>0.0</td>\n",
       "    </tr>\n",
       "    <tr>\n",
       "      <th>1453</th>\n",
       "      <td>0.715984</td>\n",
       "      <td>-0.142593</td>\n",
       "      <td>-0.122987</td>\n",
       "      <td>0.0</td>\n",
       "      <td>0.0</td>\n",
       "      <td>1.0</td>\n",
       "      <td>0.0</td>\n",
       "      <td>0.0</td>\n",
       "      <td>0.0</td>\n",
       "      <td>0.0</td>\n",
       "      <td>0.0</td>\n",
       "      <td>1.0</td>\n",
       "      <td>0.0</td>\n",
       "      <td>0.0</td>\n",
       "    </tr>\n",
       "  </tbody>\n",
       "</table>\n",
       "</div>"
      ],
      "text/plain": [
       "      YearBuilt  TotalBsmtSF   MiscVal  MSZoning_FV  MSZoning_RH  MSZoning_RL  \\\n",
       "1449  -0.032378    -1.148844 -0.122987          0.0          0.0          0.0   \n",
       "1450  -0.032378    -1.148844 -0.122987          0.0          0.0          0.0   \n",
       "1451  -0.357753     0.367241 -0.122987          0.0          0.0          1.0   \n",
       "1452   0.683447    -0.330426  1.948222          0.0          0.0          1.0   \n",
       "1453   0.715984    -0.142593 -0.122987          0.0          0.0          1.0   \n",
       "\n",
       "      MSZoning_RM  HouseStyle_1.5Unf  HouseStyle_1Story  HouseStyle_2.5Fin  \\\n",
       "1449          1.0                0.0                0.0                0.0   \n",
       "1450          1.0                0.0                0.0                0.0   \n",
       "1451          0.0                0.0                1.0                0.0   \n",
       "1452          0.0                0.0                0.0                0.0   \n",
       "1453          0.0                0.0                0.0                0.0   \n",
       "\n",
       "      HouseStyle_2.5Unf  HouseStyle_2Story  HouseStyle_SFoyer  HouseStyle_SLvl  \n",
       "1449                0.0                1.0                0.0              0.0  \n",
       "1450                0.0                1.0                0.0              0.0  \n",
       "1451                0.0                0.0                0.0              0.0  \n",
       "1452                0.0                0.0                1.0              0.0  \n",
       "1453                0.0                1.0                0.0              0.0  "
      ]
     },
     "execution_count": 42,
     "metadata": {},
     "output_type": "execute_result"
    }
   ],
   "source": [
    "# Combining the test_csv set for categorical and continuous features\n",
    "\n",
    "test_set = pd.concat([test_csv_cont_DF, test_csv_cat_DF],axis = 1)\n",
    "\n",
    "test_set.tail()"
   ]
  },
  {
   "cell_type": "code",
   "execution_count": 43,
   "id": "43e8e9f4",
   "metadata": {},
   "outputs": [
    {
     "data": {
      "text/html": [
       "<div>\n",
       "<style scoped>\n",
       "    .dataframe tbody tr th:only-of-type {\n",
       "        vertical-align: middle;\n",
       "    }\n",
       "\n",
       "    .dataframe tbody tr th {\n",
       "        vertical-align: top;\n",
       "    }\n",
       "\n",
       "    .dataframe thead th {\n",
       "        text-align: right;\n",
       "    }\n",
       "</style>\n",
       "<table border=\"1\" class=\"dataframe\">\n",
       "  <thead>\n",
       "    <tr style=\"text-align: right;\">\n",
       "      <th></th>\n",
       "      <th>YearBuilt</th>\n",
       "      <th>TotalBsmtSF</th>\n",
       "      <th>MiscVal</th>\n",
       "      <th>MSZoning_FV</th>\n",
       "      <th>MSZoning_RH</th>\n",
       "      <th>MSZoning_RL</th>\n",
       "      <th>MSZoning_RM</th>\n",
       "      <th>HouseStyle_1.5Unf</th>\n",
       "      <th>HouseStyle_1Story</th>\n",
       "      <th>HouseStyle_2.5Fin</th>\n",
       "      <th>HouseStyle_2.5Unf</th>\n",
       "      <th>HouseStyle_2Story</th>\n",
       "      <th>HouseStyle_SFoyer</th>\n",
       "      <th>HouseStyle_SLvl</th>\n",
       "      <th>SalePrice</th>\n",
       "    </tr>\n",
       "  </thead>\n",
       "  <tbody>\n",
       "    <tr>\n",
       "      <th>0</th>\n",
       "      <td>-0.325216</td>\n",
       "      <td>-0.397510</td>\n",
       "      <td>-0.122987</td>\n",
       "      <td>0.0</td>\n",
       "      <td>1.0</td>\n",
       "      <td>0.0</td>\n",
       "      <td>0.0</td>\n",
       "      <td>0.0</td>\n",
       "      <td>1.0</td>\n",
       "      <td>0.0</td>\n",
       "      <td>0.0</td>\n",
       "      <td>0.0</td>\n",
       "      <td>0.0</td>\n",
       "      <td>0.0</td>\n",
       "      <td>208500</td>\n",
       "    </tr>\n",
       "    <tr>\n",
       "      <th>1</th>\n",
       "      <td>-0.422828</td>\n",
       "      <td>0.602033</td>\n",
       "      <td>36.862884</td>\n",
       "      <td>0.0</td>\n",
       "      <td>0.0</td>\n",
       "      <td>1.0</td>\n",
       "      <td>0.0</td>\n",
       "      <td>0.0</td>\n",
       "      <td>1.0</td>\n",
       "      <td>0.0</td>\n",
       "      <td>0.0</td>\n",
       "      <td>0.0</td>\n",
       "      <td>0.0</td>\n",
       "      <td>0.0</td>\n",
       "      <td>181500</td>\n",
       "    </tr>\n",
       "    <tr>\n",
       "      <th>2</th>\n",
       "      <td>0.846134</td>\n",
       "      <td>-0.294648</td>\n",
       "      <td>-0.122987</td>\n",
       "      <td>0.0</td>\n",
       "      <td>0.0</td>\n",
       "      <td>1.0</td>\n",
       "      <td>0.0</td>\n",
       "      <td>0.0</td>\n",
       "      <td>0.0</td>\n",
       "      <td>0.0</td>\n",
       "      <td>0.0</td>\n",
       "      <td>1.0</td>\n",
       "      <td>0.0</td>\n",
       "      <td>0.0</td>\n",
       "      <td>223500</td>\n",
       "    </tr>\n",
       "    <tr>\n",
       "      <th>3</th>\n",
       "      <td>0.878672</td>\n",
       "      <td>-0.299121</td>\n",
       "      <td>-0.122987</td>\n",
       "      <td>0.0</td>\n",
       "      <td>0.0</td>\n",
       "      <td>1.0</td>\n",
       "      <td>0.0</td>\n",
       "      <td>0.0</td>\n",
       "      <td>0.0</td>\n",
       "      <td>0.0</td>\n",
       "      <td>0.0</td>\n",
       "      <td>1.0</td>\n",
       "      <td>0.0</td>\n",
       "      <td>0.0</td>\n",
       "      <td>140000</td>\n",
       "    </tr>\n",
       "    <tr>\n",
       "      <th>4</th>\n",
       "      <td>0.683447</td>\n",
       "      <td>0.492464</td>\n",
       "      <td>-0.122987</td>\n",
       "      <td>0.0</td>\n",
       "      <td>0.0</td>\n",
       "      <td>1.0</td>\n",
       "      <td>0.0</td>\n",
       "      <td>0.0</td>\n",
       "      <td>1.0</td>\n",
       "      <td>0.0</td>\n",
       "      <td>0.0</td>\n",
       "      <td>0.0</td>\n",
       "      <td>0.0</td>\n",
       "      <td>0.0</td>\n",
       "      <td>250000</td>\n",
       "    </tr>\n",
       "  </tbody>\n",
       "</table>\n",
       "</div>"
      ],
      "text/plain": [
       "   YearBuilt  TotalBsmtSF    MiscVal  MSZoning_FV  MSZoning_RH  MSZoning_RL  \\\n",
       "0  -0.325216    -0.397510  -0.122987          0.0          1.0          0.0   \n",
       "1  -0.422828     0.602033  36.862884          0.0          0.0          1.0   \n",
       "2   0.846134    -0.294648  -0.122987          0.0          0.0          1.0   \n",
       "3   0.878672    -0.299121  -0.122987          0.0          0.0          1.0   \n",
       "4   0.683447     0.492464  -0.122987          0.0          0.0          1.0   \n",
       "\n",
       "   MSZoning_RM  HouseStyle_1.5Unf  HouseStyle_1Story  HouseStyle_2.5Fin  \\\n",
       "0          0.0                0.0                1.0                0.0   \n",
       "1          0.0                0.0                1.0                0.0   \n",
       "2          0.0                0.0                0.0                0.0   \n",
       "3          0.0                0.0                0.0                0.0   \n",
       "4          0.0                0.0                1.0                0.0   \n",
       "\n",
       "   HouseStyle_2.5Unf  HouseStyle_2Story  HouseStyle_SFoyer  HouseStyle_SLvl  \\\n",
       "0                0.0                0.0                0.0              0.0   \n",
       "1                0.0                0.0                0.0              0.0   \n",
       "2                0.0                1.0                0.0              0.0   \n",
       "3                0.0                1.0                0.0              0.0   \n",
       "4                0.0                0.0                0.0              0.0   \n",
       "\n",
       "   SalePrice  \n",
       "0     208500  \n",
       "1     181500  \n",
       "2     223500  \n",
       "3     140000  \n",
       "4     250000  "
      ]
     },
     "execution_count": 43,
     "metadata": {},
     "output_type": "execute_result"
    }
   ],
   "source": [
    "final_test_csv = pd.concat([test_set, target], axis = 1)\n",
    "\n",
    "final_test_csv.head()"
   ]
  },
  {
   "cell_type": "code",
   "execution_count": null,
   "id": "adffbd33",
   "metadata": {},
   "outputs": [],
   "source": []
  },
  {
   "cell_type": "markdown",
   "id": "e7fd9a31",
   "metadata": {},
   "source": [
    "#### Building an automatic testing framework for test.csv"
   ]
  },
  {
   "cell_type": "code",
   "execution_count": 45,
   "id": "e29b4d74",
   "metadata": {},
   "outputs": [],
   "source": [
    "# Saving the final_test_csv into parquet\n",
    "\n",
    "final_test_csv.to_parquet(dataPATH + 'final_test_csv_df.parquet', index = False)\n",
    "\n",
    "# Reading data from the parquet\n",
    "\n",
    "final_test_csv_df = pd.read_parquet(dataPATH + 'final_test_csv_df.parquet')\n",
    "\n",
    "# Resetting the index of both dataset\n",
    "\n",
    "final_test_csv_df = final_test_csv_df.reset_index(drop = True)\n",
    "\n",
    "final_test_csv = final_test_csv.reset_index(drop = True)       # The final_test_csv here will be the output of the refactoring dataset\n",
    "\n",
    "\n",
    "# Automatic testing of the code to be sure the DataFrame output didn't change regardless of refactoring\n",
    "\n",
    "pd.testing.assert_frame_equal(final_test_csv_df, final_test_csv)\n",
    "\n"
   ]
  },
  {
   "cell_type": "markdown",
   "id": "0455520a",
   "metadata": {},
   "source": [
    "#### Predicting the house prices using the test_csv dataset"
   ]
  },
  {
   "cell_type": "code",
   "execution_count": 46,
   "id": "1febbb8f",
   "metadata": {},
   "outputs": [],
   "source": [
    "# load the model from models folder"
   ]
  },
  {
   "cell_type": "code",
   "execution_count": 47,
   "id": "1d8217bd",
   "metadata": {},
   "outputs": [],
   "source": [
    "LinReg_model = joblib.load('../models/LinReg.joblib')"
   ]
  },
  {
   "cell_type": "code",
   "execution_count": 48,
   "id": "17199821",
   "metadata": {},
   "outputs": [
    {
     "name": "stderr",
     "output_type": "stream",
     "text": [
      "/Users/OLALYTICS/anaconda3/envs/ml/lib/python3.9/site-packages/sklearn/utils/validation.py:571: FutureWarning: is_sparse is deprecated and will be removed in a future version. Check `isinstance(dtype, pd.SparseDtype)` instead.\n",
      "  array.dtypes.apply(is_sparse).any()):\n"
     ]
    },
    {
     "data": {
      "text/plain": [
       "array([112202.71314909, 171175.40084421, 225391.38660654, 225935.80195261,\n",
       "       197418.35870414])"
      ]
     },
     "execution_count": 48,
     "metadata": {},
     "output_type": "execute_result"
    }
   ],
   "source": [
    "pred = LinReg_model.predict(test_set)\n",
    "\n",
    "pred[:5]"
   ]
  },
  {
   "cell_type": "code",
   "execution_count": null,
   "id": "293e24ea",
   "metadata": {},
   "outputs": [],
   "source": []
  }
 ],
 "metadata": {
  "kernelspec": {
   "display_name": "Python 3 (ipykernel)",
   "language": "python",
   "name": "python3"
  },
  "language_info": {
   "codemirror_mode": {
    "name": "ipython",
    "version": 3
   },
   "file_extension": ".py",
   "mimetype": "text/x-python",
   "name": "python",
   "nbconvert_exporter": "python",
   "pygments_lexer": "ipython3",
   "version": "3.9.18"
  }
 },
 "nbformat": 4,
 "nbformat_minor": 5
}
