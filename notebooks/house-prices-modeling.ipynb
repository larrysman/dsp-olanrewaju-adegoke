{
 "cells": [
  {
   "cell_type": "markdown",
   "id": "fe6e781a",
   "metadata": {},
   "source": [
    "## Predicting the sales prices and practice feature engineering with Linear Regression\n",
    "\n",
    "**House Prices - Advanced Regression Techniques**\n",
    "\n",
    "##### data source: https://www.kaggle.com/competitions/house-prices-advanced-regression-techniques/data?select=train.csv\n",
    "\n",
    "`Adegoke Olanrewaju`"
   ]
  },
  {
   "cell_type": "markdown",
   "id": "bb82bf55",
   "metadata": {},
   "source": [
    "##### importing the necessary libraries"
   ]
  },
  {
   "cell_type": "code",
   "execution_count": 1,
   "id": "93e47a9f",
   "metadata": {},
   "outputs": [],
   "source": [
    "#!ls /Users/OLALYTICS/dsp-olanrewaju-adegoke/data/"
   ]
  },
  {
   "cell_type": "code",
   "execution_count": 2,
   "id": "c9adfad0",
   "metadata": {},
   "outputs": [],
   "source": [
    "import numpy as np\n",
    "\n",
    "import pandas as pd\n",
    "\n",
    "import sklearn"
   ]
  },
  {
   "cell_type": "code",
   "execution_count": 3,
   "id": "5a3e9c1f",
   "metadata": {},
   "outputs": [],
   "source": [
    "#file_path = '/Users/OLALYTICS/dsp-olanrewaju-adegoke/data/train.csv'"
   ]
  },
  {
   "cell_type": "code",
   "execution_count": 4,
   "id": "fc484c13",
   "metadata": {},
   "outputs": [],
   "source": [
    "#def load_data(file_path):\n",
    "    #data = pd.read_csv(file_path)\n",
    "    #return data.head()"
   ]
  },
  {
   "cell_type": "code",
   "execution_count": 5,
   "id": "24836233",
   "metadata": {},
   "outputs": [],
   "source": [
    "#load_data(file_path)"
   ]
  },
  {
   "cell_type": "markdown",
   "id": "8269e427",
   "metadata": {},
   "source": [
    "##### loading the dataset through its path from my machine"
   ]
  },
  {
   "cell_type": "code",
   "execution_count": 6,
   "id": "cfd2982c",
   "metadata": {},
   "outputs": [
    {
     "data": {
      "text/html": [
       "<div>\n",
       "<style scoped>\n",
       "    .dataframe tbody tr th:only-of-type {\n",
       "        vertical-align: middle;\n",
       "    }\n",
       "\n",
       "    .dataframe tbody tr th {\n",
       "        vertical-align: top;\n",
       "    }\n",
       "\n",
       "    .dataframe thead th {\n",
       "        text-align: right;\n",
       "    }\n",
       "</style>\n",
       "<table border=\"1\" class=\"dataframe\">\n",
       "  <thead>\n",
       "    <tr style=\"text-align: right;\">\n",
       "      <th></th>\n",
       "      <th>Id</th>\n",
       "      <th>MSSubClass</th>\n",
       "      <th>MSZoning</th>\n",
       "      <th>LotFrontage</th>\n",
       "      <th>LotArea</th>\n",
       "      <th>Street</th>\n",
       "      <th>Alley</th>\n",
       "      <th>LotShape</th>\n",
       "      <th>LandContour</th>\n",
       "      <th>Utilities</th>\n",
       "      <th>...</th>\n",
       "      <th>PoolArea</th>\n",
       "      <th>PoolQC</th>\n",
       "      <th>Fence</th>\n",
       "      <th>MiscFeature</th>\n",
       "      <th>MiscVal</th>\n",
       "      <th>MoSold</th>\n",
       "      <th>YrSold</th>\n",
       "      <th>SaleType</th>\n",
       "      <th>SaleCondition</th>\n",
       "      <th>SalePrice</th>\n",
       "    </tr>\n",
       "  </thead>\n",
       "  <tbody>\n",
       "    <tr>\n",
       "      <th>0</th>\n",
       "      <td>1</td>\n",
       "      <td>60</td>\n",
       "      <td>RL</td>\n",
       "      <td>65.0</td>\n",
       "      <td>8450</td>\n",
       "      <td>Pave</td>\n",
       "      <td>NaN</td>\n",
       "      <td>Reg</td>\n",
       "      <td>Lvl</td>\n",
       "      <td>AllPub</td>\n",
       "      <td>...</td>\n",
       "      <td>0</td>\n",
       "      <td>NaN</td>\n",
       "      <td>NaN</td>\n",
       "      <td>NaN</td>\n",
       "      <td>0</td>\n",
       "      <td>2</td>\n",
       "      <td>2008</td>\n",
       "      <td>WD</td>\n",
       "      <td>Normal</td>\n",
       "      <td>208500</td>\n",
       "    </tr>\n",
       "    <tr>\n",
       "      <th>1</th>\n",
       "      <td>2</td>\n",
       "      <td>20</td>\n",
       "      <td>RL</td>\n",
       "      <td>80.0</td>\n",
       "      <td>9600</td>\n",
       "      <td>Pave</td>\n",
       "      <td>NaN</td>\n",
       "      <td>Reg</td>\n",
       "      <td>Lvl</td>\n",
       "      <td>AllPub</td>\n",
       "      <td>...</td>\n",
       "      <td>0</td>\n",
       "      <td>NaN</td>\n",
       "      <td>NaN</td>\n",
       "      <td>NaN</td>\n",
       "      <td>0</td>\n",
       "      <td>5</td>\n",
       "      <td>2007</td>\n",
       "      <td>WD</td>\n",
       "      <td>Normal</td>\n",
       "      <td>181500</td>\n",
       "    </tr>\n",
       "    <tr>\n",
       "      <th>2</th>\n",
       "      <td>3</td>\n",
       "      <td>60</td>\n",
       "      <td>RL</td>\n",
       "      <td>68.0</td>\n",
       "      <td>11250</td>\n",
       "      <td>Pave</td>\n",
       "      <td>NaN</td>\n",
       "      <td>IR1</td>\n",
       "      <td>Lvl</td>\n",
       "      <td>AllPub</td>\n",
       "      <td>...</td>\n",
       "      <td>0</td>\n",
       "      <td>NaN</td>\n",
       "      <td>NaN</td>\n",
       "      <td>NaN</td>\n",
       "      <td>0</td>\n",
       "      <td>9</td>\n",
       "      <td>2008</td>\n",
       "      <td>WD</td>\n",
       "      <td>Normal</td>\n",
       "      <td>223500</td>\n",
       "    </tr>\n",
       "    <tr>\n",
       "      <th>3</th>\n",
       "      <td>4</td>\n",
       "      <td>70</td>\n",
       "      <td>RL</td>\n",
       "      <td>60.0</td>\n",
       "      <td>9550</td>\n",
       "      <td>Pave</td>\n",
       "      <td>NaN</td>\n",
       "      <td>IR1</td>\n",
       "      <td>Lvl</td>\n",
       "      <td>AllPub</td>\n",
       "      <td>...</td>\n",
       "      <td>0</td>\n",
       "      <td>NaN</td>\n",
       "      <td>NaN</td>\n",
       "      <td>NaN</td>\n",
       "      <td>0</td>\n",
       "      <td>2</td>\n",
       "      <td>2006</td>\n",
       "      <td>WD</td>\n",
       "      <td>Abnorml</td>\n",
       "      <td>140000</td>\n",
       "    </tr>\n",
       "    <tr>\n",
       "      <th>4</th>\n",
       "      <td>5</td>\n",
       "      <td>60</td>\n",
       "      <td>RL</td>\n",
       "      <td>84.0</td>\n",
       "      <td>14260</td>\n",
       "      <td>Pave</td>\n",
       "      <td>NaN</td>\n",
       "      <td>IR1</td>\n",
       "      <td>Lvl</td>\n",
       "      <td>AllPub</td>\n",
       "      <td>...</td>\n",
       "      <td>0</td>\n",
       "      <td>NaN</td>\n",
       "      <td>NaN</td>\n",
       "      <td>NaN</td>\n",
       "      <td>0</td>\n",
       "      <td>12</td>\n",
       "      <td>2008</td>\n",
       "      <td>WD</td>\n",
       "      <td>Normal</td>\n",
       "      <td>250000</td>\n",
       "    </tr>\n",
       "  </tbody>\n",
       "</table>\n",
       "<p>5 rows × 81 columns</p>\n",
       "</div>"
      ],
      "text/plain": [
       "   Id  MSSubClass MSZoning  LotFrontage  LotArea Street Alley LotShape  \\\n",
       "0   1          60       RL         65.0     8450   Pave   NaN      Reg   \n",
       "1   2          20       RL         80.0     9600   Pave   NaN      Reg   \n",
       "2   3          60       RL         68.0    11250   Pave   NaN      IR1   \n",
       "3   4          70       RL         60.0     9550   Pave   NaN      IR1   \n",
       "4   5          60       RL         84.0    14260   Pave   NaN      IR1   \n",
       "\n",
       "  LandContour Utilities  ... PoolArea PoolQC Fence MiscFeature MiscVal MoSold  \\\n",
       "0         Lvl    AllPub  ...        0    NaN   NaN         NaN       0      2   \n",
       "1         Lvl    AllPub  ...        0    NaN   NaN         NaN       0      5   \n",
       "2         Lvl    AllPub  ...        0    NaN   NaN         NaN       0      9   \n",
       "3         Lvl    AllPub  ...        0    NaN   NaN         NaN       0      2   \n",
       "4         Lvl    AllPub  ...        0    NaN   NaN         NaN       0     12   \n",
       "\n",
       "  YrSold  SaleType  SaleCondition  SalePrice  \n",
       "0   2008        WD         Normal     208500  \n",
       "1   2007        WD         Normal     181500  \n",
       "2   2008        WD         Normal     223500  \n",
       "3   2006        WD        Abnorml     140000  \n",
       "4   2008        WD         Normal     250000  \n",
       "\n",
       "[5 rows x 81 columns]"
      ]
     },
     "execution_count": 6,
     "metadata": {},
     "output_type": "execute_result"
    }
   ],
   "source": [
    "dataset_master = pd.read_csv('/Users/OLALYTICS/dsp-olanrewaju-adegoke/data/train.csv')\n",
    "\n",
    "training_data_csv = dataset_master.copy()\n",
    "\n",
    "training_data_csv.head()\n"
   ]
  },
  {
   "cell_type": "code",
   "execution_count": 7,
   "id": "1d95bd75",
   "metadata": {},
   "outputs": [],
   "source": [
    "#testing_data_csv = pd.read_csv('/Users/OLALYTICS/dsp-olanrewaju-adegoke/data/test.csv')\n",
    "\n",
    "#testing_data_csv.head()"
   ]
  },
  {
   "cell_type": "markdown",
   "id": "6e571705",
   "metadata": {},
   "source": [
    "#### Explanatory Data Analysis"
   ]
  },
  {
   "cell_type": "code",
   "execution_count": 8,
   "id": "e8b5c1a9",
   "metadata": {},
   "outputs": [
    {
     "name": "stdout",
     "output_type": "stream",
     "text": [
      "<class 'pandas.core.frame.DataFrame'>\n",
      "RangeIndex: 1460 entries, 0 to 1459\n",
      "Data columns (total 81 columns):\n",
      " #   Column         Non-Null Count  Dtype  \n",
      "---  ------         --------------  -----  \n",
      " 0   Id             1460 non-null   int64  \n",
      " 1   MSSubClass     1460 non-null   int64  \n",
      " 2   MSZoning       1460 non-null   object \n",
      " 3   LotFrontage    1201 non-null   float64\n",
      " 4   LotArea        1460 non-null   int64  \n",
      " 5   Street         1460 non-null   object \n",
      " 6   Alley          91 non-null     object \n",
      " 7   LotShape       1460 non-null   object \n",
      " 8   LandContour    1460 non-null   object \n",
      " 9   Utilities      1460 non-null   object \n",
      " 10  LotConfig      1460 non-null   object \n",
      " 11  LandSlope      1460 non-null   object \n",
      " 12  Neighborhood   1460 non-null   object \n",
      " 13  Condition1     1460 non-null   object \n",
      " 14  Condition2     1460 non-null   object \n",
      " 15  BldgType       1460 non-null   object \n",
      " 16  HouseStyle     1460 non-null   object \n",
      " 17  OverallQual    1460 non-null   int64  \n",
      " 18  OverallCond    1460 non-null   int64  \n",
      " 19  YearBuilt      1460 non-null   int64  \n",
      " 20  YearRemodAdd   1460 non-null   int64  \n",
      " 21  RoofStyle      1460 non-null   object \n",
      " 22  RoofMatl       1460 non-null   object \n",
      " 23  Exterior1st    1460 non-null   object \n",
      " 24  Exterior2nd    1460 non-null   object \n",
      " 25  MasVnrType     1452 non-null   object \n",
      " 26  MasVnrArea     1452 non-null   float64\n",
      " 27  ExterQual      1460 non-null   object \n",
      " 28  ExterCond      1460 non-null   object \n",
      " 29  Foundation     1460 non-null   object \n",
      " 30  BsmtQual       1423 non-null   object \n",
      " 31  BsmtCond       1423 non-null   object \n",
      " 32  BsmtExposure   1422 non-null   object \n",
      " 33  BsmtFinType1   1423 non-null   object \n",
      " 34  BsmtFinSF1     1460 non-null   int64  \n",
      " 35  BsmtFinType2   1422 non-null   object \n",
      " 36  BsmtFinSF2     1460 non-null   int64  \n",
      " 37  BsmtUnfSF      1460 non-null   int64  \n",
      " 38  TotalBsmtSF    1460 non-null   int64  \n",
      " 39  Heating        1460 non-null   object \n",
      " 40  HeatingQC      1460 non-null   object \n",
      " 41  CentralAir     1460 non-null   object \n",
      " 42  Electrical     1459 non-null   object \n",
      " 43  1stFlrSF       1460 non-null   int64  \n",
      " 44  2ndFlrSF       1460 non-null   int64  \n",
      " 45  LowQualFinSF   1460 non-null   int64  \n",
      " 46  GrLivArea      1460 non-null   int64  \n",
      " 47  BsmtFullBath   1460 non-null   int64  \n",
      " 48  BsmtHalfBath   1460 non-null   int64  \n",
      " 49  FullBath       1460 non-null   int64  \n",
      " 50  HalfBath       1460 non-null   int64  \n",
      " 51  BedroomAbvGr   1460 non-null   int64  \n",
      " 52  KitchenAbvGr   1460 non-null   int64  \n",
      " 53  KitchenQual    1460 non-null   object \n",
      " 54  TotRmsAbvGrd   1460 non-null   int64  \n",
      " 55  Functional     1460 non-null   object \n",
      " 56  Fireplaces     1460 non-null   int64  \n",
      " 57  FireplaceQu    770 non-null    object \n",
      " 58  GarageType     1379 non-null   object \n",
      " 59  GarageYrBlt    1379 non-null   float64\n",
      " 60  GarageFinish   1379 non-null   object \n",
      " 61  GarageCars     1460 non-null   int64  \n",
      " 62  GarageArea     1460 non-null   int64  \n",
      " 63  GarageQual     1379 non-null   object \n",
      " 64  GarageCond     1379 non-null   object \n",
      " 65  PavedDrive     1460 non-null   object \n",
      " 66  WoodDeckSF     1460 non-null   int64  \n",
      " 67  OpenPorchSF    1460 non-null   int64  \n",
      " 68  EnclosedPorch  1460 non-null   int64  \n",
      " 69  3SsnPorch      1460 non-null   int64  \n",
      " 70  ScreenPorch    1460 non-null   int64  \n",
      " 71  PoolArea       1460 non-null   int64  \n",
      " 72  PoolQC         7 non-null      object \n",
      " 73  Fence          281 non-null    object \n",
      " 74  MiscFeature    54 non-null     object \n",
      " 75  MiscVal        1460 non-null   int64  \n",
      " 76  MoSold         1460 non-null   int64  \n",
      " 77  YrSold         1460 non-null   int64  \n",
      " 78  SaleType       1460 non-null   object \n",
      " 79  SaleCondition  1460 non-null   object \n",
      " 80  SalePrice      1460 non-null   int64  \n",
      "dtypes: float64(3), int64(35), object(43)\n",
      "memory usage: 924.0+ KB\n"
     ]
    }
   ],
   "source": [
    "training_data_csv.info()"
   ]
  },
  {
   "cell_type": "code",
   "execution_count": 9,
   "id": "8630b6c7",
   "metadata": {},
   "outputs": [],
   "source": [
    "#training_data_csv.describe()"
   ]
  },
  {
   "cell_type": "code",
   "execution_count": 10,
   "id": "737fa27e",
   "metadata": {},
   "outputs": [],
   "source": [
    "#training_data_csv.corr()"
   ]
  },
  {
   "cell_type": "code",
   "execution_count": 11,
   "id": "ed8c4e91",
   "metadata": {},
   "outputs": [
    {
     "data": {
      "text/html": [
       "<div>\n",
       "<style scoped>\n",
       "    .dataframe tbody tr th:only-of-type {\n",
       "        vertical-align: middle;\n",
       "    }\n",
       "\n",
       "    .dataframe tbody tr th {\n",
       "        vertical-align: top;\n",
       "    }\n",
       "\n",
       "    .dataframe thead th {\n",
       "        text-align: right;\n",
       "    }\n",
       "</style>\n",
       "<table border=\"1\" class=\"dataframe\">\n",
       "  <thead>\n",
       "    <tr style=\"text-align: right;\">\n",
       "      <th></th>\n",
       "      <th>MSZoning</th>\n",
       "      <th>HouseStyle</th>\n",
       "      <th>YearBuilt</th>\n",
       "      <th>TotalBsmtSF</th>\n",
       "      <th>MiscVal</th>\n",
       "      <th>SalePrice</th>\n",
       "    </tr>\n",
       "  </thead>\n",
       "  <tbody>\n",
       "    <tr>\n",
       "      <th>0</th>\n",
       "      <td>RL</td>\n",
       "      <td>2Story</td>\n",
       "      <td>2003</td>\n",
       "      <td>856</td>\n",
       "      <td>0</td>\n",
       "      <td>208500</td>\n",
       "    </tr>\n",
       "    <tr>\n",
       "      <th>1</th>\n",
       "      <td>RL</td>\n",
       "      <td>1Story</td>\n",
       "      <td>1976</td>\n",
       "      <td>1262</td>\n",
       "      <td>0</td>\n",
       "      <td>181500</td>\n",
       "    </tr>\n",
       "    <tr>\n",
       "      <th>2</th>\n",
       "      <td>RL</td>\n",
       "      <td>2Story</td>\n",
       "      <td>2001</td>\n",
       "      <td>920</td>\n",
       "      <td>0</td>\n",
       "      <td>223500</td>\n",
       "    </tr>\n",
       "    <tr>\n",
       "      <th>3</th>\n",
       "      <td>RL</td>\n",
       "      <td>2Story</td>\n",
       "      <td>1915</td>\n",
       "      <td>756</td>\n",
       "      <td>0</td>\n",
       "      <td>140000</td>\n",
       "    </tr>\n",
       "    <tr>\n",
       "      <th>4</th>\n",
       "      <td>RL</td>\n",
       "      <td>2Story</td>\n",
       "      <td>2000</td>\n",
       "      <td>1145</td>\n",
       "      <td>0</td>\n",
       "      <td>250000</td>\n",
       "    </tr>\n",
       "  </tbody>\n",
       "</table>\n",
       "</div>"
      ],
      "text/plain": [
       "  MSZoning HouseStyle  YearBuilt  TotalBsmtSF  MiscVal  SalePrice\n",
       "0       RL     2Story       2003          856        0     208500\n",
       "1       RL     1Story       1976         1262        0     181500\n",
       "2       RL     2Story       2001          920        0     223500\n",
       "3       RL     2Story       1915          756        0     140000\n",
       "4       RL     2Story       2000         1145        0     250000"
      ]
     },
     "execution_count": 11,
     "metadata": {},
     "output_type": "execute_result"
    }
   ],
   "source": [
    "# selecting useful dataset\n",
    "\n",
    "useful_dataset_house = training_data_csv[['MSZoning','HouseStyle','YearBuilt','TotalBsmtSF','MiscVal', 'SalePrice']]\n",
    "\n",
    "useful_dataset_house.head()\n",
    "    "
   ]
  },
  {
   "cell_type": "code",
   "execution_count": 12,
   "id": "c974cf68",
   "metadata": {},
   "outputs": [
    {
     "name": "stdout",
     "output_type": "stream",
     "text": [
      "<class 'pandas.core.frame.DataFrame'>\n",
      "RangeIndex: 1460 entries, 0 to 1459\n",
      "Data columns (total 6 columns):\n",
      " #   Column       Non-Null Count  Dtype \n",
      "---  ------       --------------  ----- \n",
      " 0   MSZoning     1460 non-null   object\n",
      " 1   HouseStyle   1460 non-null   object\n",
      " 2   YearBuilt    1460 non-null   int64 \n",
      " 3   TotalBsmtSF  1460 non-null   int64 \n",
      " 4   MiscVal      1460 non-null   int64 \n",
      " 5   SalePrice    1460 non-null   int64 \n",
      "dtypes: int64(4), object(2)\n",
      "memory usage: 68.6+ KB\n"
     ]
    }
   ],
   "source": [
    "# no missing values\n",
    "\n",
    "useful_dataset_house.info()"
   ]
  },
  {
   "cell_type": "code",
   "execution_count": 13,
   "id": "ac1e1366",
   "metadata": {},
   "outputs": [
    {
     "data": {
      "text/plain": [
       "1"
      ]
     },
     "execution_count": 13,
     "metadata": {},
     "output_type": "execute_result"
    }
   ],
   "source": [
    "# checking for duplicates\n",
    "\n",
    "useful_dataset_house.duplicated(keep = 'first').sum()"
   ]
  },
  {
   "cell_type": "code",
   "execution_count": 14,
   "id": "fdba1928",
   "metadata": {},
   "outputs": [
    {
     "data": {
      "text/plain": [
       "0"
      ]
     },
     "execution_count": 14,
     "metadata": {},
     "output_type": "execute_result"
    }
   ],
   "source": [
    "# removing duplicates\n",
    "\n",
    "useful_dataset_house = useful_dataset_house.drop_duplicates()\n",
    "\n",
    "useful_dataset_house.duplicated(keep = 'first').sum()"
   ]
  },
  {
   "cell_type": "code",
   "execution_count": 15,
   "id": "5be05c26",
   "metadata": {},
   "outputs": [
    {
     "data": {
      "text/html": [
       "<div>\n",
       "<style scoped>\n",
       "    .dataframe tbody tr th:only-of-type {\n",
       "        vertical-align: middle;\n",
       "    }\n",
       "\n",
       "    .dataframe tbody tr th {\n",
       "        vertical-align: top;\n",
       "    }\n",
       "\n",
       "    .dataframe thead th {\n",
       "        text-align: right;\n",
       "    }\n",
       "</style>\n",
       "<table border=\"1\" class=\"dataframe\">\n",
       "  <thead>\n",
       "    <tr style=\"text-align: right;\">\n",
       "      <th></th>\n",
       "      <th>MSZoning</th>\n",
       "      <th>HouseStyle</th>\n",
       "      <th>YearBuilt</th>\n",
       "      <th>TotalBsmtSF</th>\n",
       "      <th>MiscVal</th>\n",
       "      <th>SalePrice</th>\n",
       "    </tr>\n",
       "  </thead>\n",
       "  <tbody>\n",
       "    <tr>\n",
       "      <th>0</th>\n",
       "      <td>RL</td>\n",
       "      <td>2Story</td>\n",
       "      <td>2003</td>\n",
       "      <td>856</td>\n",
       "      <td>0</td>\n",
       "      <td>208500</td>\n",
       "    </tr>\n",
       "    <tr>\n",
       "      <th>1</th>\n",
       "      <td>RL</td>\n",
       "      <td>1Story</td>\n",
       "      <td>1976</td>\n",
       "      <td>1262</td>\n",
       "      <td>0</td>\n",
       "      <td>181500</td>\n",
       "    </tr>\n",
       "    <tr>\n",
       "      <th>2</th>\n",
       "      <td>RL</td>\n",
       "      <td>2Story</td>\n",
       "      <td>2001</td>\n",
       "      <td>920</td>\n",
       "      <td>0</td>\n",
       "      <td>223500</td>\n",
       "    </tr>\n",
       "    <tr>\n",
       "      <th>3</th>\n",
       "      <td>RL</td>\n",
       "      <td>2Story</td>\n",
       "      <td>1915</td>\n",
       "      <td>756</td>\n",
       "      <td>0</td>\n",
       "      <td>140000</td>\n",
       "    </tr>\n",
       "    <tr>\n",
       "      <th>4</th>\n",
       "      <td>RL</td>\n",
       "      <td>2Story</td>\n",
       "      <td>2000</td>\n",
       "      <td>1145</td>\n",
       "      <td>0</td>\n",
       "      <td>250000</td>\n",
       "    </tr>\n",
       "  </tbody>\n",
       "</table>\n",
       "</div>"
      ],
      "text/plain": [
       "  MSZoning HouseStyle  YearBuilt  TotalBsmtSF  MiscVal  SalePrice\n",
       "0       RL     2Story       2003          856        0     208500\n",
       "1       RL     1Story       1976         1262        0     181500\n",
       "2       RL     2Story       2001          920        0     223500\n",
       "3       RL     2Story       1915          756        0     140000\n",
       "4       RL     2Story       2000         1145        0     250000"
      ]
     },
     "execution_count": 15,
     "metadata": {},
     "output_type": "execute_result"
    }
   ],
   "source": [
    "# cleaned useful dataset\n",
    "\n",
    "useful_dataset_house.head()"
   ]
  },
  {
   "cell_type": "code",
   "execution_count": 16,
   "id": "484f092c",
   "metadata": {},
   "outputs": [],
   "source": [
    "# extracting the dataset of interest\n",
    "\n",
    "categorical_useful_features = useful_dataset_house[['MSZoning','HouseStyle']]\n",
    "\n",
    "continuous_useful_features = useful_dataset_house[['YearBuilt','TotalBsmtSF','MiscVal']]\n",
    "\n",
    "target_feature = useful_dataset_house['SalePrice']\n"
   ]
  },
  {
   "cell_type": "code",
   "execution_count": 17,
   "id": "e15b6d3a",
   "metadata": {},
   "outputs": [
    {
     "data": {
      "text/html": [
       "<div>\n",
       "<style scoped>\n",
       "    .dataframe tbody tr th:only-of-type {\n",
       "        vertical-align: middle;\n",
       "    }\n",
       "\n",
       "    .dataframe tbody tr th {\n",
       "        vertical-align: top;\n",
       "    }\n",
       "\n",
       "    .dataframe thead th {\n",
       "        text-align: right;\n",
       "    }\n",
       "</style>\n",
       "<table border=\"1\" class=\"dataframe\">\n",
       "  <thead>\n",
       "    <tr style=\"text-align: right;\">\n",
       "      <th></th>\n",
       "      <th>x0_C (all)</th>\n",
       "      <th>x0_FV</th>\n",
       "      <th>x0_RH</th>\n",
       "      <th>x0_RL</th>\n",
       "      <th>x0_RM</th>\n",
       "      <th>x1_1.5Fin</th>\n",
       "      <th>x1_1.5Unf</th>\n",
       "      <th>x1_1Story</th>\n",
       "      <th>x1_2.5Fin</th>\n",
       "      <th>x1_2.5Unf</th>\n",
       "      <th>x1_2Story</th>\n",
       "      <th>x1_SFoyer</th>\n",
       "      <th>x1_SLvl</th>\n",
       "    </tr>\n",
       "  </thead>\n",
       "  <tbody>\n",
       "    <tr>\n",
       "      <th>0</th>\n",
       "      <td>0.0</td>\n",
       "      <td>0.0</td>\n",
       "      <td>0.0</td>\n",
       "      <td>1.0</td>\n",
       "      <td>0.0</td>\n",
       "      <td>0.0</td>\n",
       "      <td>0.0</td>\n",
       "      <td>0.0</td>\n",
       "      <td>0.0</td>\n",
       "      <td>0.0</td>\n",
       "      <td>1.0</td>\n",
       "      <td>0.0</td>\n",
       "      <td>0.0</td>\n",
       "    </tr>\n",
       "    <tr>\n",
       "      <th>1</th>\n",
       "      <td>0.0</td>\n",
       "      <td>0.0</td>\n",
       "      <td>0.0</td>\n",
       "      <td>1.0</td>\n",
       "      <td>0.0</td>\n",
       "      <td>0.0</td>\n",
       "      <td>0.0</td>\n",
       "      <td>1.0</td>\n",
       "      <td>0.0</td>\n",
       "      <td>0.0</td>\n",
       "      <td>0.0</td>\n",
       "      <td>0.0</td>\n",
       "      <td>0.0</td>\n",
       "    </tr>\n",
       "    <tr>\n",
       "      <th>2</th>\n",
       "      <td>0.0</td>\n",
       "      <td>0.0</td>\n",
       "      <td>0.0</td>\n",
       "      <td>1.0</td>\n",
       "      <td>0.0</td>\n",
       "      <td>0.0</td>\n",
       "      <td>0.0</td>\n",
       "      <td>0.0</td>\n",
       "      <td>0.0</td>\n",
       "      <td>0.0</td>\n",
       "      <td>1.0</td>\n",
       "      <td>0.0</td>\n",
       "      <td>0.0</td>\n",
       "    </tr>\n",
       "    <tr>\n",
       "      <th>3</th>\n",
       "      <td>0.0</td>\n",
       "      <td>0.0</td>\n",
       "      <td>0.0</td>\n",
       "      <td>1.0</td>\n",
       "      <td>0.0</td>\n",
       "      <td>0.0</td>\n",
       "      <td>0.0</td>\n",
       "      <td>0.0</td>\n",
       "      <td>0.0</td>\n",
       "      <td>0.0</td>\n",
       "      <td>1.0</td>\n",
       "      <td>0.0</td>\n",
       "      <td>0.0</td>\n",
       "    </tr>\n",
       "    <tr>\n",
       "      <th>4</th>\n",
       "      <td>0.0</td>\n",
       "      <td>0.0</td>\n",
       "      <td>0.0</td>\n",
       "      <td>1.0</td>\n",
       "      <td>0.0</td>\n",
       "      <td>0.0</td>\n",
       "      <td>0.0</td>\n",
       "      <td>0.0</td>\n",
       "      <td>0.0</td>\n",
       "      <td>0.0</td>\n",
       "      <td>1.0</td>\n",
       "      <td>0.0</td>\n",
       "      <td>0.0</td>\n",
       "    </tr>\n",
       "  </tbody>\n",
       "</table>\n",
       "</div>"
      ],
      "text/plain": [
       "   x0_C (all)  x0_FV  x0_RH  x0_RL  x0_RM  x1_1.5Fin  x1_1.5Unf  x1_1Story  \\\n",
       "0         0.0    0.0    0.0    1.0    0.0        0.0        0.0        0.0   \n",
       "1         0.0    0.0    0.0    1.0    0.0        0.0        0.0        1.0   \n",
       "2         0.0    0.0    0.0    1.0    0.0        0.0        0.0        0.0   \n",
       "3         0.0    0.0    0.0    1.0    0.0        0.0        0.0        0.0   \n",
       "4         0.0    0.0    0.0    1.0    0.0        0.0        0.0        0.0   \n",
       "\n",
       "   x1_2.5Fin  x1_2.5Unf  x1_2Story  x1_SFoyer  x1_SLvl  \n",
       "0        0.0        0.0        1.0        0.0      0.0  \n",
       "1        0.0        0.0        0.0        0.0      0.0  \n",
       "2        0.0        0.0        1.0        0.0      0.0  \n",
       "3        0.0        0.0        1.0        0.0      0.0  \n",
       "4        0.0        0.0        1.0        0.0      0.0  "
      ]
     },
     "execution_count": 17,
     "metadata": {},
     "output_type": "execute_result"
    }
   ],
   "source": [
    "# OneHotEncoder for categorical features\n",
    "\n",
    "from sklearn.preprocessing import OneHotEncoder\n",
    "\n",
    "onehot_encoder = OneHotEncoder()\n",
    "\n",
    "categorical_useful_features_encoded = onehot_encoder.fit_transform(categorical_useful_features).toarray()\n",
    "\n",
    "categorical_useful_features_encoded = pd.DataFrame(categorical_useful_features_encoded, columns = onehot_encoder.get_feature_names())\n",
    "\n",
    "categorical_useful_features_encoded.head()\n"
   ]
  },
  {
   "cell_type": "code",
   "execution_count": 18,
   "id": "11c0e6a4",
   "metadata": {},
   "outputs": [
    {
     "data": {
      "text/plain": [
       "StandardScaler()"
      ]
     },
     "execution_count": 18,
     "metadata": {},
     "output_type": "execute_result"
    }
   ],
   "source": [
    "# scaling of the continuous features\n",
    "\n",
    "from sklearn.preprocessing import StandardScaler\n",
    "\n",
    "std_scaler = StandardScaler()\n",
    "\n",
    "std_scaler.fit(continuous_useful_features)"
   ]
  },
  {
   "cell_type": "code",
   "execution_count": 19,
   "id": "88bb9866",
   "metadata": {},
   "outputs": [
    {
     "data": {
      "text/plain": [
       "array([[ 1.05180032, -0.45928807, -0.08771809],\n",
       "       [ 0.15748627,  0.4661749 , -0.08771809],\n",
       "       [ 0.98555484, -0.31340228, -0.08771809],\n",
       "       [-1.86300104, -0.68723461, -0.08771809],\n",
       "       [ 0.95243209,  0.19947744, -0.08771809],\n",
       "       [ 0.7205729 , -0.59605599,  1.32322599]])"
      ]
     },
     "execution_count": 19,
     "metadata": {},
     "output_type": "execute_result"
    }
   ],
   "source": [
    "continuous_useful_features_scaled = std_scaler.transform(continuous_useful_features)\n",
    "\n",
    "continuous_useful_features_scaled[:6]\n"
   ]
  },
  {
   "cell_type": "code",
   "execution_count": 20,
   "id": "a932c9a8",
   "metadata": {},
   "outputs": [
    {
     "data": {
      "text/html": [
       "<div>\n",
       "<style scoped>\n",
       "    .dataframe tbody tr th:only-of-type {\n",
       "        vertical-align: middle;\n",
       "    }\n",
       "\n",
       "    .dataframe tbody tr th {\n",
       "        vertical-align: top;\n",
       "    }\n",
       "\n",
       "    .dataframe thead th {\n",
       "        text-align: right;\n",
       "    }\n",
       "</style>\n",
       "<table border=\"1\" class=\"dataframe\">\n",
       "  <thead>\n",
       "    <tr style=\"text-align: right;\">\n",
       "      <th></th>\n",
       "      <th>YearBuilt</th>\n",
       "      <th>TotalBsmtSF</th>\n",
       "      <th>MiscVal</th>\n",
       "    </tr>\n",
       "  </thead>\n",
       "  <tbody>\n",
       "    <tr>\n",
       "      <th>0</th>\n",
       "      <td>1.051800</td>\n",
       "      <td>-0.459288</td>\n",
       "      <td>-0.087718</td>\n",
       "    </tr>\n",
       "    <tr>\n",
       "      <th>1</th>\n",
       "      <td>0.157486</td>\n",
       "      <td>0.466175</td>\n",
       "      <td>-0.087718</td>\n",
       "    </tr>\n",
       "    <tr>\n",
       "      <th>2</th>\n",
       "      <td>0.985555</td>\n",
       "      <td>-0.313402</td>\n",
       "      <td>-0.087718</td>\n",
       "    </tr>\n",
       "    <tr>\n",
       "      <th>3</th>\n",
       "      <td>-1.863001</td>\n",
       "      <td>-0.687235</td>\n",
       "      <td>-0.087718</td>\n",
       "    </tr>\n",
       "    <tr>\n",
       "      <th>4</th>\n",
       "      <td>0.952432</td>\n",
       "      <td>0.199477</td>\n",
       "      <td>-0.087718</td>\n",
       "    </tr>\n",
       "  </tbody>\n",
       "</table>\n",
       "</div>"
      ],
      "text/plain": [
       "   YearBuilt  TotalBsmtSF   MiscVal\n",
       "0   1.051800    -0.459288 -0.087718\n",
       "1   0.157486     0.466175 -0.087718\n",
       "2   0.985555    -0.313402 -0.087718\n",
       "3  -1.863001    -0.687235 -0.087718\n",
       "4   0.952432     0.199477 -0.087718"
      ]
     },
     "execution_count": 20,
     "metadata": {},
     "output_type": "execute_result"
    }
   ],
   "source": [
    "continuous_useful_features_scaled = pd.DataFrame(data = continuous_useful_features_scaled, columns = ['YearBuilt','TotalBsmtSF','MiscVal'])\n",
    "\n",
    "continuous_useful_features_scaled.head()\n"
   ]
  },
  {
   "cell_type": "code",
   "execution_count": null,
   "id": "fe08e7bc",
   "metadata": {},
   "outputs": [],
   "source": []
  },
  {
   "cell_type": "code",
   "execution_count": 21,
   "id": "56bb3192",
   "metadata": {},
   "outputs": [],
   "source": [
    "# combining to form the clean dataset"
   ]
  },
  {
   "cell_type": "code",
   "execution_count": 22,
   "id": "2f8aeeb3",
   "metadata": {},
   "outputs": [
    {
     "data": {
      "text/html": [
       "<div>\n",
       "<style scoped>\n",
       "    .dataframe tbody tr th:only-of-type {\n",
       "        vertical-align: middle;\n",
       "    }\n",
       "\n",
       "    .dataframe tbody tr th {\n",
       "        vertical-align: top;\n",
       "    }\n",
       "\n",
       "    .dataframe thead th {\n",
       "        text-align: right;\n",
       "    }\n",
       "</style>\n",
       "<table border=\"1\" class=\"dataframe\">\n",
       "  <thead>\n",
       "    <tr style=\"text-align: right;\">\n",
       "      <th></th>\n",
       "      <th>YearBuilt</th>\n",
       "      <th>TotalBsmtSF</th>\n",
       "      <th>MiscVal</th>\n",
       "      <th>x0_C (all)</th>\n",
       "      <th>x0_FV</th>\n",
       "      <th>x0_RH</th>\n",
       "      <th>x0_RL</th>\n",
       "      <th>x0_RM</th>\n",
       "      <th>x1_1.5Fin</th>\n",
       "      <th>x1_1.5Unf</th>\n",
       "      <th>x1_1Story</th>\n",
       "      <th>x1_2.5Fin</th>\n",
       "      <th>x1_2.5Unf</th>\n",
       "      <th>x1_2Story</th>\n",
       "      <th>x1_SFoyer</th>\n",
       "      <th>x1_SLvl</th>\n",
       "      <th>SalePrice</th>\n",
       "    </tr>\n",
       "  </thead>\n",
       "  <tbody>\n",
       "    <tr>\n",
       "      <th>0</th>\n",
       "      <td>1.051800</td>\n",
       "      <td>-0.459288</td>\n",
       "      <td>-0.087718</td>\n",
       "      <td>0.0</td>\n",
       "      <td>0.0</td>\n",
       "      <td>0.0</td>\n",
       "      <td>1.0</td>\n",
       "      <td>0.0</td>\n",
       "      <td>0.0</td>\n",
       "      <td>0.0</td>\n",
       "      <td>0.0</td>\n",
       "      <td>0.0</td>\n",
       "      <td>0.0</td>\n",
       "      <td>1.0</td>\n",
       "      <td>0.0</td>\n",
       "      <td>0.0</td>\n",
       "      <td>208500.0</td>\n",
       "    </tr>\n",
       "    <tr>\n",
       "      <th>1</th>\n",
       "      <td>0.157486</td>\n",
       "      <td>0.466175</td>\n",
       "      <td>-0.087718</td>\n",
       "      <td>0.0</td>\n",
       "      <td>0.0</td>\n",
       "      <td>0.0</td>\n",
       "      <td>1.0</td>\n",
       "      <td>0.0</td>\n",
       "      <td>0.0</td>\n",
       "      <td>0.0</td>\n",
       "      <td>1.0</td>\n",
       "      <td>0.0</td>\n",
       "      <td>0.0</td>\n",
       "      <td>0.0</td>\n",
       "      <td>0.0</td>\n",
       "      <td>0.0</td>\n",
       "      <td>181500.0</td>\n",
       "    </tr>\n",
       "    <tr>\n",
       "      <th>2</th>\n",
       "      <td>0.985555</td>\n",
       "      <td>-0.313402</td>\n",
       "      <td>-0.087718</td>\n",
       "      <td>0.0</td>\n",
       "      <td>0.0</td>\n",
       "      <td>0.0</td>\n",
       "      <td>1.0</td>\n",
       "      <td>0.0</td>\n",
       "      <td>0.0</td>\n",
       "      <td>0.0</td>\n",
       "      <td>0.0</td>\n",
       "      <td>0.0</td>\n",
       "      <td>0.0</td>\n",
       "      <td>1.0</td>\n",
       "      <td>0.0</td>\n",
       "      <td>0.0</td>\n",
       "      <td>223500.0</td>\n",
       "    </tr>\n",
       "    <tr>\n",
       "      <th>3</th>\n",
       "      <td>-1.863001</td>\n",
       "      <td>-0.687235</td>\n",
       "      <td>-0.087718</td>\n",
       "      <td>0.0</td>\n",
       "      <td>0.0</td>\n",
       "      <td>0.0</td>\n",
       "      <td>1.0</td>\n",
       "      <td>0.0</td>\n",
       "      <td>0.0</td>\n",
       "      <td>0.0</td>\n",
       "      <td>0.0</td>\n",
       "      <td>0.0</td>\n",
       "      <td>0.0</td>\n",
       "      <td>1.0</td>\n",
       "      <td>0.0</td>\n",
       "      <td>0.0</td>\n",
       "      <td>140000.0</td>\n",
       "    </tr>\n",
       "    <tr>\n",
       "      <th>4</th>\n",
       "      <td>0.952432</td>\n",
       "      <td>0.199477</td>\n",
       "      <td>-0.087718</td>\n",
       "      <td>0.0</td>\n",
       "      <td>0.0</td>\n",
       "      <td>0.0</td>\n",
       "      <td>1.0</td>\n",
       "      <td>0.0</td>\n",
       "      <td>0.0</td>\n",
       "      <td>0.0</td>\n",
       "      <td>0.0</td>\n",
       "      <td>0.0</td>\n",
       "      <td>0.0</td>\n",
       "      <td>1.0</td>\n",
       "      <td>0.0</td>\n",
       "      <td>0.0</td>\n",
       "      <td>250000.0</td>\n",
       "    </tr>\n",
       "  </tbody>\n",
       "</table>\n",
       "</div>"
      ],
      "text/plain": [
       "   YearBuilt  TotalBsmtSF   MiscVal  x0_C (all)  x0_FV  x0_RH  x0_RL  x0_RM  \\\n",
       "0   1.051800    -0.459288 -0.087718         0.0    0.0    0.0    1.0    0.0   \n",
       "1   0.157486     0.466175 -0.087718         0.0    0.0    0.0    1.0    0.0   \n",
       "2   0.985555    -0.313402 -0.087718         0.0    0.0    0.0    1.0    0.0   \n",
       "3  -1.863001    -0.687235 -0.087718         0.0    0.0    0.0    1.0    0.0   \n",
       "4   0.952432     0.199477 -0.087718         0.0    0.0    0.0    1.0    0.0   \n",
       "\n",
       "   x1_1.5Fin  x1_1.5Unf  x1_1Story  x1_2.5Fin  x1_2.5Unf  x1_2Story  \\\n",
       "0        0.0        0.0        0.0        0.0        0.0        1.0   \n",
       "1        0.0        0.0        1.0        0.0        0.0        0.0   \n",
       "2        0.0        0.0        0.0        0.0        0.0        1.0   \n",
       "3        0.0        0.0        0.0        0.0        0.0        1.0   \n",
       "4        0.0        0.0        0.0        0.0        0.0        1.0   \n",
       "\n",
       "   x1_SFoyer  x1_SLvl  SalePrice  \n",
       "0        0.0      0.0   208500.0  \n",
       "1        0.0      0.0   181500.0  \n",
       "2        0.0      0.0   223500.0  \n",
       "3        0.0      0.0   140000.0  \n",
       "4        0.0      0.0   250000.0  "
      ]
     },
     "execution_count": 22,
     "metadata": {},
     "output_type": "execute_result"
    }
   ],
   "source": [
    "final_dataset = continuous_useful_features_scaled.join(categorical_useful_features_encoded).join(target_feature)\n",
    "\n",
    "final_dataset.head()\n"
   ]
  },
  {
   "cell_type": "code",
   "execution_count": 23,
   "id": "1ade5825",
   "metadata": {},
   "outputs": [
    {
     "data": {
      "text/html": [
       "<div>\n",
       "<style scoped>\n",
       "    .dataframe tbody tr th:only-of-type {\n",
       "        vertical-align: middle;\n",
       "    }\n",
       "\n",
       "    .dataframe tbody tr th {\n",
       "        vertical-align: top;\n",
       "    }\n",
       "\n",
       "    .dataframe thead th {\n",
       "        text-align: right;\n",
       "    }\n",
       "</style>\n",
       "<table border=\"1\" class=\"dataframe\">\n",
       "  <thead>\n",
       "    <tr style=\"text-align: right;\">\n",
       "      <th></th>\n",
       "      <th>YearBuilt</th>\n",
       "      <th>TotalBsmtSF</th>\n",
       "      <th>MiscVal</th>\n",
       "      <th>x0_C (all)</th>\n",
       "      <th>x0_FV</th>\n",
       "      <th>x0_RH</th>\n",
       "      <th>x0_RL</th>\n",
       "      <th>x0_RM</th>\n",
       "      <th>x1_1.5Fin</th>\n",
       "      <th>x1_1.5Unf</th>\n",
       "      <th>x1_1Story</th>\n",
       "      <th>x1_2.5Fin</th>\n",
       "      <th>x1_2.5Unf</th>\n",
       "      <th>x1_2Story</th>\n",
       "      <th>x1_SFoyer</th>\n",
       "      <th>x1_SLvl</th>\n",
       "    </tr>\n",
       "  </thead>\n",
       "  <tbody>\n",
       "    <tr>\n",
       "      <th>0</th>\n",
       "      <td>1.051800</td>\n",
       "      <td>-0.459288</td>\n",
       "      <td>-0.087718</td>\n",
       "      <td>0.0</td>\n",
       "      <td>0.0</td>\n",
       "      <td>0.0</td>\n",
       "      <td>1.0</td>\n",
       "      <td>0.0</td>\n",
       "      <td>0.0</td>\n",
       "      <td>0.0</td>\n",
       "      <td>0.0</td>\n",
       "      <td>0.0</td>\n",
       "      <td>0.0</td>\n",
       "      <td>1.0</td>\n",
       "      <td>0.0</td>\n",
       "      <td>0.0</td>\n",
       "    </tr>\n",
       "    <tr>\n",
       "      <th>1</th>\n",
       "      <td>0.157486</td>\n",
       "      <td>0.466175</td>\n",
       "      <td>-0.087718</td>\n",
       "      <td>0.0</td>\n",
       "      <td>0.0</td>\n",
       "      <td>0.0</td>\n",
       "      <td>1.0</td>\n",
       "      <td>0.0</td>\n",
       "      <td>0.0</td>\n",
       "      <td>0.0</td>\n",
       "      <td>1.0</td>\n",
       "      <td>0.0</td>\n",
       "      <td>0.0</td>\n",
       "      <td>0.0</td>\n",
       "      <td>0.0</td>\n",
       "      <td>0.0</td>\n",
       "    </tr>\n",
       "    <tr>\n",
       "      <th>2</th>\n",
       "      <td>0.985555</td>\n",
       "      <td>-0.313402</td>\n",
       "      <td>-0.087718</td>\n",
       "      <td>0.0</td>\n",
       "      <td>0.0</td>\n",
       "      <td>0.0</td>\n",
       "      <td>1.0</td>\n",
       "      <td>0.0</td>\n",
       "      <td>0.0</td>\n",
       "      <td>0.0</td>\n",
       "      <td>0.0</td>\n",
       "      <td>0.0</td>\n",
       "      <td>0.0</td>\n",
       "      <td>1.0</td>\n",
       "      <td>0.0</td>\n",
       "      <td>0.0</td>\n",
       "    </tr>\n",
       "    <tr>\n",
       "      <th>3</th>\n",
       "      <td>-1.863001</td>\n",
       "      <td>-0.687235</td>\n",
       "      <td>-0.087718</td>\n",
       "      <td>0.0</td>\n",
       "      <td>0.0</td>\n",
       "      <td>0.0</td>\n",
       "      <td>1.0</td>\n",
       "      <td>0.0</td>\n",
       "      <td>0.0</td>\n",
       "      <td>0.0</td>\n",
       "      <td>0.0</td>\n",
       "      <td>0.0</td>\n",
       "      <td>0.0</td>\n",
       "      <td>1.0</td>\n",
       "      <td>0.0</td>\n",
       "      <td>0.0</td>\n",
       "    </tr>\n",
       "    <tr>\n",
       "      <th>4</th>\n",
       "      <td>0.952432</td>\n",
       "      <td>0.199477</td>\n",
       "      <td>-0.087718</td>\n",
       "      <td>0.0</td>\n",
       "      <td>0.0</td>\n",
       "      <td>0.0</td>\n",
       "      <td>1.0</td>\n",
       "      <td>0.0</td>\n",
       "      <td>0.0</td>\n",
       "      <td>0.0</td>\n",
       "      <td>0.0</td>\n",
       "      <td>0.0</td>\n",
       "      <td>0.0</td>\n",
       "      <td>1.0</td>\n",
       "      <td>0.0</td>\n",
       "      <td>0.0</td>\n",
       "    </tr>\n",
       "  </tbody>\n",
       "</table>\n",
       "</div>"
      ],
      "text/plain": [
       "   YearBuilt  TotalBsmtSF   MiscVal  x0_C (all)  x0_FV  x0_RH  x0_RL  x0_RM  \\\n",
       "0   1.051800    -0.459288 -0.087718         0.0    0.0    0.0    1.0    0.0   \n",
       "1   0.157486     0.466175 -0.087718         0.0    0.0    0.0    1.0    0.0   \n",
       "2   0.985555    -0.313402 -0.087718         0.0    0.0    0.0    1.0    0.0   \n",
       "3  -1.863001    -0.687235 -0.087718         0.0    0.0    0.0    1.0    0.0   \n",
       "4   0.952432     0.199477 -0.087718         0.0    0.0    0.0    1.0    0.0   \n",
       "\n",
       "   x1_1.5Fin  x1_1.5Unf  x1_1Story  x1_2.5Fin  x1_2.5Unf  x1_2Story  \\\n",
       "0        0.0        0.0        0.0        0.0        0.0        1.0   \n",
       "1        0.0        0.0        1.0        0.0        0.0        0.0   \n",
       "2        0.0        0.0        0.0        0.0        0.0        1.0   \n",
       "3        0.0        0.0        0.0        0.0        0.0        1.0   \n",
       "4        0.0        0.0        0.0        0.0        0.0        1.0   \n",
       "\n",
       "   x1_SFoyer  x1_SLvl  \n",
       "0        0.0      0.0  \n",
       "1        0.0      0.0  \n",
       "2        0.0      0.0  \n",
       "3        0.0      0.0  \n",
       "4        0.0      0.0  "
      ]
     },
     "execution_count": 23,
     "metadata": {},
     "output_type": "execute_result"
    }
   ],
   "source": [
    "X = final_dataset.drop('SalePrice', axis = 1)\n",
    "\n",
    "X.head()"
   ]
  },
  {
   "cell_type": "code",
   "execution_count": 24,
   "id": "0b0cacdf",
   "metadata": {},
   "outputs": [
    {
     "data": {
      "text/html": [
       "<div>\n",
       "<style scoped>\n",
       "    .dataframe tbody tr th:only-of-type {\n",
       "        vertical-align: middle;\n",
       "    }\n",
       "\n",
       "    .dataframe tbody tr th {\n",
       "        vertical-align: top;\n",
       "    }\n",
       "\n",
       "    .dataframe thead th {\n",
       "        text-align: right;\n",
       "    }\n",
       "</style>\n",
       "<table border=\"1\" class=\"dataframe\">\n",
       "  <thead>\n",
       "    <tr style=\"text-align: right;\">\n",
       "      <th></th>\n",
       "      <th>SalePrice</th>\n",
       "    </tr>\n",
       "  </thead>\n",
       "  <tbody>\n",
       "    <tr>\n",
       "      <th>0</th>\n",
       "      <td>208500.0</td>\n",
       "    </tr>\n",
       "    <tr>\n",
       "      <th>1</th>\n",
       "      <td>181500.0</td>\n",
       "    </tr>\n",
       "    <tr>\n",
       "      <th>2</th>\n",
       "      <td>223500.0</td>\n",
       "    </tr>\n",
       "    <tr>\n",
       "      <th>3</th>\n",
       "      <td>140000.0</td>\n",
       "    </tr>\n",
       "    <tr>\n",
       "      <th>4</th>\n",
       "      <td>250000.0</td>\n",
       "    </tr>\n",
       "  </tbody>\n",
       "</table>\n",
       "</div>"
      ],
      "text/plain": [
       "   SalePrice\n",
       "0   208500.0\n",
       "1   181500.0\n",
       "2   223500.0\n",
       "3   140000.0\n",
       "4   250000.0"
      ]
     },
     "execution_count": 24,
     "metadata": {},
     "output_type": "execute_result"
    }
   ],
   "source": [
    "y = final_dataset[['SalePrice']]\n",
    "\n",
    "y.head()"
   ]
  },
  {
   "cell_type": "code",
   "execution_count": 25,
   "id": "34ec87fa",
   "metadata": {},
   "outputs": [
    {
     "name": "stderr",
     "output_type": "stream",
     "text": [
      "/Users/OLALYTICS/anaconda3/envs/ml/lib/python3.9/site-packages/pandas/core/series.py:4463: SettingWithCopyWarning: \n",
      "A value is trying to be set on a copy of a slice from a DataFrame\n",
      "\n",
      "See the caveats in the documentation: https://pandas.pydata.org/pandas-docs/stable/user_guide/indexing.html#returning-a-view-versus-a-copy\n",
      "  return super().fillna(\n"
     ]
    },
    {
     "data": {
      "text/html": [
       "<div>\n",
       "<style scoped>\n",
       "    .dataframe tbody tr th:only-of-type {\n",
       "        vertical-align: middle;\n",
       "    }\n",
       "\n",
       "    .dataframe tbody tr th {\n",
       "        vertical-align: top;\n",
       "    }\n",
       "\n",
       "    .dataframe thead th {\n",
       "        text-align: right;\n",
       "    }\n",
       "</style>\n",
       "<table border=\"1\" class=\"dataframe\">\n",
       "  <thead>\n",
       "    <tr style=\"text-align: right;\">\n",
       "      <th></th>\n",
       "      <th>SalePrice</th>\n",
       "    </tr>\n",
       "  </thead>\n",
       "  <tbody>\n",
       "    <tr>\n",
       "      <th>0</th>\n",
       "      <td>208500.0</td>\n",
       "    </tr>\n",
       "    <tr>\n",
       "      <th>1</th>\n",
       "      <td>181500.0</td>\n",
       "    </tr>\n",
       "    <tr>\n",
       "      <th>2</th>\n",
       "      <td>223500.0</td>\n",
       "    </tr>\n",
       "    <tr>\n",
       "      <th>3</th>\n",
       "      <td>140000.0</td>\n",
       "    </tr>\n",
       "    <tr>\n",
       "      <th>4</th>\n",
       "      <td>250000.0</td>\n",
       "    </tr>\n",
       "  </tbody>\n",
       "</table>\n",
       "</div>"
      ],
      "text/plain": [
       "   SalePrice\n",
       "0   208500.0\n",
       "1   181500.0\n",
       "2   223500.0\n",
       "3   140000.0\n",
       "4   250000.0"
      ]
     },
     "execution_count": 25,
     "metadata": {},
     "output_type": "execute_result"
    }
   ],
   "source": [
    "y['SalePrice'].fillna(y['SalePrice'].mean(), inplace = True) \n",
    "\n",
    "y.head()"
   ]
  },
  {
   "cell_type": "code",
   "execution_count": null,
   "id": "77699f6f",
   "metadata": {},
   "outputs": [],
   "source": []
  },
  {
   "cell_type": "code",
   "execution_count": 26,
   "id": "ef050b2b",
   "metadata": {},
   "outputs": [
    {
     "data": {
      "text/plain": [
       "SalePrice\n",
       "False        1459\n",
       "dtype: int64"
      ]
     },
     "execution_count": 26,
     "metadata": {},
     "output_type": "execute_result"
    }
   ],
   "source": [
    "y.isna().value_counts()"
   ]
  },
  {
   "cell_type": "code",
   "execution_count": null,
   "id": "695d7e7e",
   "metadata": {},
   "outputs": [],
   "source": []
  },
  {
   "cell_type": "markdown",
   "id": "c30b7718",
   "metadata": {},
   "source": [
    "# selecting the categorical features\n",
    "\n",
    "categorical_features = useful_dataset_house[['MSZoning','HouseStyle']]\n",
    "\n",
    "categorical_features.head()"
   ]
  },
  {
   "cell_type": "code",
   "execution_count": 27,
   "id": "bcf5f91d",
   "metadata": {},
   "outputs": [],
   "source": [
    "#categorical_features['MSZoning'].unique()\n",
    "\n",
    "#categorical_features['HouseStyle'].unique()"
   ]
  },
  {
   "cell_type": "code",
   "execution_count": 28,
   "id": "fd003437",
   "metadata": {},
   "outputs": [],
   "source": [
    "# Pre-processing and feature engineering"
   ]
  },
  {
   "cell_type": "code",
   "execution_count": 29,
   "id": "6f74d499",
   "metadata": {},
   "outputs": [],
   "source": [
    "#categorical_columns = categorical_features[['MSZoning','HouseStyle']]\n",
    "\n",
    "#categorical_columns.head()"
   ]
  },
  {
   "cell_type": "code",
   "execution_count": null,
   "id": "7f69c059",
   "metadata": {},
   "outputs": [],
   "source": []
  },
  {
   "cell_type": "markdown",
   "id": "79920639",
   "metadata": {},
   "source": [
    "##### selecting the features dataset having continuous and categorical variables"
   ]
  },
  {
   "cell_type": "code",
   "execution_count": 30,
   "id": "2076faf2",
   "metadata": {},
   "outputs": [],
   "source": [
    "#features = training_data_csv[['MSZoning','HouseStyle','YearBuilt','TotalBsmtSF','MiscVal']]\n",
    "\n",
    "#features.head()"
   ]
  },
  {
   "cell_type": "code",
   "execution_count": 31,
   "id": "59e25b41",
   "metadata": {},
   "outputs": [],
   "source": [
    "# no missing values\n",
    "\n",
    "#features.info()"
   ]
  },
  {
   "cell_type": "code",
   "execution_count": 32,
   "id": "838319ee",
   "metadata": {},
   "outputs": [],
   "source": [
    "#help(features.duplicated)\n",
    "\n",
    "#features.duplicated(keep = 'first').sum()\n",
    "\n",
    "#features.duplicated(keep = 'last').sum()\n"
   ]
  },
  {
   "cell_type": "code",
   "execution_count": 33,
   "id": "f221c98b",
   "metadata": {},
   "outputs": [],
   "source": [
    "# removing duplicates\n",
    "\n",
    "#features = features.drop_duplicates()\n",
    "\n",
    "#features.head()"
   ]
  },
  {
   "cell_type": "code",
   "execution_count": 34,
   "id": "b09df77c",
   "metadata": {},
   "outputs": [],
   "source": [
    "#features.duplicated(keep = 'first').sum()"
   ]
  },
  {
   "cell_type": "markdown",
   "id": "6a61d875",
   "metadata": {},
   "source": [
    "##### selecting the target variable in this case is the SalePrice"
   ]
  },
  {
   "cell_type": "code",
   "execution_count": 35,
   "id": "1e8f1d97",
   "metadata": {},
   "outputs": [],
   "source": [
    "#target = training_data_csv['SalePrice']\n",
    "\n",
    "#target.head()"
   ]
  },
  {
   "cell_type": "markdown",
   "id": "03714ad0",
   "metadata": {},
   "source": [
    "###### data preprocessing "
   ]
  },
  {
   "cell_type": "code",
   "execution_count": 36,
   "id": "1d3f92b7",
   "metadata": {},
   "outputs": [],
   "source": [
    "from sklearn.model_selection import train_test_split"
   ]
  },
  {
   "cell_type": "markdown",
   "id": "1f604e52",
   "metadata": {},
   "source": [
    "X_train, X_test, y_train, y_test = train_test_split(features, target, test_size = 0.3, random_state = 42)\n",
    "\n"
   ]
  },
  {
   "cell_type": "code",
   "execution_count": 37,
   "id": "67fbfc2b",
   "metadata": {},
   "outputs": [],
   "source": [
    "X_train, X_test, y_train, y_test = train_test_split(X, y, test_size = 0.3, random_state = 42)"
   ]
  },
  {
   "cell_type": "code",
   "execution_count": 38,
   "id": "3c417d34",
   "metadata": {},
   "outputs": [],
   "source": [
    "#X_train.head()"
   ]
  },
  {
   "cell_type": "code",
   "execution_count": 39,
   "id": "8de2f1c1",
   "metadata": {},
   "outputs": [],
   "source": [
    "#X_test.head()"
   ]
  },
  {
   "cell_type": "code",
   "execution_count": 40,
   "id": "0a946867",
   "metadata": {},
   "outputs": [],
   "source": [
    "#y_train.head()"
   ]
  },
  {
   "cell_type": "markdown",
   "id": "5c6196dc",
   "metadata": {},
   "source": [
    "##### performing encoding on the X_train dataset using the frequency_count"
   ]
  },
  {
   "cell_type": "code",
   "execution_count": 41,
   "id": "fb183f43",
   "metadata": {},
   "outputs": [],
   "source": [
    "#freq_counts_zoning = X_train['MSZoning'].value_counts()\n",
    "\n",
    "#freq_counts_zoning"
   ]
  },
  {
   "cell_type": "code",
   "execution_count": 42,
   "id": "8de62f76",
   "metadata": {},
   "outputs": [],
   "source": [
    "#freq_counts_style = X_train['HouseStyle'].value_counts()\n",
    "\n",
    "#freq_counts_style"
   ]
  },
  {
   "cell_type": "code",
   "execution_count": 43,
   "id": "e383d97b",
   "metadata": {},
   "outputs": [],
   "source": [
    "#X_train['MSZoning'] = X_train['MSZoning'].map(freq_counts_zoning)\n"
   ]
  },
  {
   "cell_type": "code",
   "execution_count": 44,
   "id": "aecc34c1",
   "metadata": {},
   "outputs": [],
   "source": [
    "#X_train['HouseStyle'] = X_train['HouseStyle'].map(freq_counts_style)"
   ]
  },
  {
   "cell_type": "code",
   "execution_count": 45,
   "id": "5be25044",
   "metadata": {},
   "outputs": [],
   "source": [
    "#X_train.head()"
   ]
  },
  {
   "cell_type": "markdown",
   "id": "80425f80",
   "metadata": {},
   "source": [
    "###### performing encoding of the X_test dataset"
   ]
  },
  {
   "cell_type": "code",
   "execution_count": 46,
   "id": "051da542",
   "metadata": {},
   "outputs": [],
   "source": [
    "#freq_counts_test_zoning = X_test['MSZoning'].value_counts()"
   ]
  },
  {
   "cell_type": "code",
   "execution_count": 47,
   "id": "5b4a1c17",
   "metadata": {},
   "outputs": [],
   "source": [
    "#X_test['MSZoning'] = X_test['MSZoning'].map(freq_counts_test_zoning)"
   ]
  },
  {
   "cell_type": "code",
   "execution_count": 48,
   "id": "3e0ac34a",
   "metadata": {},
   "outputs": [],
   "source": [
    "#freq_counts_test_style = X_test['HouseStyle'].value_counts()"
   ]
  },
  {
   "cell_type": "code",
   "execution_count": 49,
   "id": "37c4feb8",
   "metadata": {},
   "outputs": [],
   "source": [
    "#X_test['HouseStyle'] = X_test['HouseStyle'].map(freq_counts_test_style)"
   ]
  },
  {
   "cell_type": "code",
   "execution_count": 50,
   "id": "c25e3cdb",
   "metadata": {},
   "outputs": [],
   "source": [
    "#X_test.head()"
   ]
  },
  {
   "cell_type": "markdown",
   "id": "4bd33dcc",
   "metadata": {},
   "source": [
    "##### scaling the features dataset"
   ]
  },
  {
   "cell_type": "markdown",
   "id": "f3dbc557",
   "metadata": {},
   "source": [
    "from sklearn.preprocessing import StandardScaler\n",
    "\n",
    "# instantiating the scaler\n",
    "stdScaler = StandardScaler()\n",
    "\n",
    "# fit the scaler on the training data set \n",
    "stdScaler.fit(X_train)\n",
    "\n",
    "# transforming the training dataset\n",
    "X_train_scaled = stdScaler.transform(X_train)\n",
    "\n",
    "# transforming the test dataset\n",
    "X_test_scaled = stdScaler.transform(X_test)\n"
   ]
  },
  {
   "cell_type": "markdown",
   "id": "89e7e15c",
   "metadata": {},
   "source": [
    "###### fitting of the model by using the LinearRegression"
   ]
  },
  {
   "cell_type": "markdown",
   "id": "5c7d155e",
   "metadata": {},
   "source": [
    "from sklearn.linear_model import LinearRegression\n",
    "\n",
    "LinReg = LinearRegression()\n",
    "\n",
    "LinReg.fit(X_train_scaled, y_train)"
   ]
  },
  {
   "cell_type": "code",
   "execution_count": null,
   "id": "fdb7b1c4",
   "metadata": {},
   "outputs": [],
   "source": []
  },
  {
   "cell_type": "code",
   "execution_count": null,
   "id": "3021b5a3",
   "metadata": {},
   "outputs": [],
   "source": []
  },
  {
   "cell_type": "code",
   "execution_count": 51,
   "id": "7d6d5e58",
   "metadata": {},
   "outputs": [
    {
     "data": {
      "text/plain": [
       "LinearRegression()"
      ]
     },
     "execution_count": 51,
     "metadata": {},
     "output_type": "execute_result"
    }
   ],
   "source": [
    "from sklearn.linear_model import LinearRegression\n",
    "\n",
    "LinReg = LinearRegression()\n",
    "\n",
    "LinReg.fit(X_train, y_train)"
   ]
  },
  {
   "cell_type": "markdown",
   "id": "763c33ab",
   "metadata": {},
   "source": [
    "##### predicting the housing prices using the LinearRegression Model"
   ]
  },
  {
   "cell_type": "markdown",
   "id": "e7ea2f2e",
   "metadata": {},
   "source": [
    "y_predicted = LinReg.predict(X_test_scaled)\n",
    "\n",
    "y_predicted[:5]"
   ]
  },
  {
   "cell_type": "code",
   "execution_count": 52,
   "id": "4bd09eb6",
   "metadata": {},
   "outputs": [
    {
     "data": {
      "text/plain": [
       "array([[192318.23075716],\n",
       "       [175537.3999941 ],\n",
       "       [195621.19054166],\n",
       "       [216256.30344516],\n",
       "       [182494.54308594]])"
      ]
     },
     "execution_count": 52,
     "metadata": {},
     "output_type": "execute_result"
    }
   ],
   "source": [
    "y_predicted = LinReg.predict(X_test)\n",
    "\n",
    "y_predicted[:5]"
   ]
  },
  {
   "cell_type": "markdown",
   "id": "c03cbbc9",
   "metadata": {},
   "source": [
    "##### evaluating the model using the mean_squared_log_error"
   ]
  },
  {
   "cell_type": "code",
   "execution_count": 53,
   "id": "4e10c37f",
   "metadata": {},
   "outputs": [],
   "source": [
    "from sklearn.metrics import mean_squared_log_error\n",
    "\n",
    "def compute_rmsle(y_test: np.ndarray, y_predicted: np.ndarray, precision: int = 2) -> float:\n",
    "    rmsle = np.sqrt(mean_squared_log_error(y_test, y_predicted))\n",
    "    return round(rmsle, precision)\n"
   ]
  },
  {
   "cell_type": "code",
   "execution_count": 54,
   "id": "7afc8b40",
   "metadata": {},
   "outputs": [
    {
     "name": "stdout",
     "output_type": "stream",
     "text": [
      "The mean squared log error of the model is: 0.43\n"
     ]
    }
   ],
   "source": [
    "print('The mean squared log error of the model is:', compute_rmsle(y_test, y_predicted))\n",
    "\n"
   ]
  },
  {
   "cell_type": "markdown",
   "id": "c571138c",
   "metadata": {},
   "source": [
    "##### evalauting the model the mean_squared_error to see the difference"
   ]
  },
  {
   "cell_type": "code",
   "execution_count": 55,
   "id": "7c5a221f",
   "metadata": {},
   "outputs": [],
   "source": [
    "from sklearn.metrics import mean_squared_error\n",
    "\n",
    "def compute_rmsle1(y_test: np.ndarray, y_predicted: np.ndarray, precision: int = 2) -> float:\n",
    "    rmsle = np.sqrt(mean_squared_error(y_test, y_predicted))\n",
    "    return round(rmsle, precision)"
   ]
  },
  {
   "cell_type": "code",
   "execution_count": 56,
   "id": "bf740eca",
   "metadata": {},
   "outputs": [
    {
     "name": "stdout",
     "output_type": "stream",
     "text": [
      "The mean squared log error of the model is: 80447.94\n"
     ]
    }
   ],
   "source": [
    "print('The mean squared log error of the model is:', compute_rmsle1(y_test, y_predicted))"
   ]
  },
  {
   "cell_type": "code",
   "execution_count": null,
   "id": "7dccec89",
   "metadata": {},
   "outputs": [],
   "source": []
  }
 ],
 "metadata": {
  "kernelspec": {
   "display_name": "Python 3 (ipykernel)",
   "language": "python",
   "name": "python3"
  },
  "language_info": {
   "codemirror_mode": {
    "name": "ipython",
    "version": 3
   },
   "file_extension": ".py",
   "mimetype": "text/x-python",
   "name": "python",
   "nbconvert_exporter": "python",
   "pygments_lexer": "ipython3",
   "version": "3.9.18"
  }
 },
 "nbformat": 4,
 "nbformat_minor": 5
}
